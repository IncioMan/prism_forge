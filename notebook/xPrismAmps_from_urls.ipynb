{
 "cells": [
  {
   "cell_type": "code",
   "execution_count": 143,
   "metadata": {},
   "outputs": [],
   "source": [
    "import pandas as pd\n",
    "import altair as alt\n",
    "import warnings\n",
    "import requests"
   ]
  },
  {
   "cell_type": "code",
   "execution_count": 149,
   "metadata": {},
   "outputs": [],
   "source": [
    "class xPrismAMPsDP:\n",
    "    \n",
    "    def __init__(self, claim):\n",
    "        self.xprism_bal_url = \"\"\"https://terra-api.daic.capital/api/tx/GetRichlistByTokenContract?apiKey=vAp6ysmAXH470YcphYxv&contract_address=terra1042wzrwg2uk6jqxjm34ysqquyr9esdgm5qyswz\"\"\"\n",
    "        self.amps_hash = '91ea3cfb-2456-4ca9-b773-be6074835316'\n",
    "        self.claim = claim\n",
    "        \n",
    "    def load(self):\n",
    "        xprism = requests.get(self.xprism_bal_url).json()['result']['holders']\n",
    "        df = pd.DataFrame(xprism.values(),xprism.keys()).reset_index()\n",
    "        df.columns = ['user','xprism']\n",
    "        self.xprism_bal = df\n",
    "        \n",
    "        amps = self.claim(self.amps_hash)\n",
    "        amps.columns = [c.lower() for c in amps.columns]\n",
    "        amps = amps.merge(self.xprism_bal, on='user', how='outer').fillna(0)\n",
    "        amps['pledge_net'] = amps.pledge_amount - amps.unpledge_amount\n",
    "        amps['tot_xprism'] = amps['pledge_net']+amps.xprism\n",
    "        self.amps = amps\n",
    "    \n",
    "    def parse(self):\n",
    "        df = (self.amps.apply(lambda row: row['pledge_net']/row.tot_xprism if row.tot_xprism > 0 else 1,axis=1)*10).apply(int).value_counts()\n",
    "        df = df.reset_index()\n",
    "        df.columns = ['Percentage of xPRISM in AMPs','Number of users']\n",
    "        df['Number of users'] = df['Number of users'].apply(lambda x: round(x,2))\n",
    "        df['Percentage of xPRISM in AMPs'] = df['Percentage of xPRISM in AMPs'].apply(lambda x: round(x,2))\n",
    "        m = {}\n",
    "        for i in range(10):\n",
    "            m[i]=f\"{(i)*10}%-{(i+1)*10}%\"\n",
    "        m[10] = '90%-100%'\n",
    "        df['Percentage of xPRISM in AMPs'] = df['Percentage of xPRISM in AMPs'].map(m)\n",
    "        self.perc_amps_n_user = df\n"
   ]
  },
  {
   "cell_type": "code",
   "execution_count": 145,
   "metadata": {},
   "outputs": [],
   "source": [
    "def claim(claim_hash):\n",
    "    df = pd.read_json(\n",
    "            f\"https://api.flipsidecrypto.com/api/v2/queries/{claim_hash}/data/latest\",\n",
    "            convert_dates=[\"BLOCK_TIMESTAMP\"])\n",
    "    df.columns = [c.lower() for c in df.columns]\n",
    "    return df"
   ]
  },
  {
   "cell_type": "code",
   "execution_count": 146,
   "metadata": {},
   "outputs": [],
   "source": [
    "dp = xPrismAMPsDP(claim)\n",
    "dp.load()\n",
    "dp.parse()"
   ]
  },
  {
   "cell_type": "code",
   "execution_count": 150,
   "metadata": {},
   "outputs": [],
   "source": [
    "class xPrismAmpsChart:\n",
    "    \n",
    "    def chart(perc_amps_n_user):\n",
    "        return alt.Chart(perc_amps_n_user).mark_bar(color='#ccf4ed').encode(\n",
    "            x = alt.X('Percentage of xPRISM in AMPs:N', axis=alt.Axis(tickCount=10, labelAngle=0, tickBand = 'center')),\n",
    "            y='Number of users',\n",
    "            tooltip= ['Percentage of xPRISM in AMPs', 'Number of users']\n",
    "        ).properties(width=600).configure_view(strokeOpacity=0)"
   ]
  },
  {
   "cell_type": "code",
   "execution_count": 151,
   "metadata": {},
   "outputs": [
    {
     "data": {
      "text/html": [
       "\n",
       "<div id=\"altair-viz-8cbf8aac0a2446f89b417ad491ed18e8\"></div>\n",
       "<script type=\"text/javascript\">\n",
       "  var VEGA_DEBUG = (typeof VEGA_DEBUG == \"undefined\") ? {} : VEGA_DEBUG;\n",
       "  (function(spec, embedOpt){\n",
       "    let outputDiv = document.currentScript.previousElementSibling;\n",
       "    if (outputDiv.id !== \"altair-viz-8cbf8aac0a2446f89b417ad491ed18e8\") {\n",
       "      outputDiv = document.getElementById(\"altair-viz-8cbf8aac0a2446f89b417ad491ed18e8\");\n",
       "    }\n",
       "    const paths = {\n",
       "      \"vega\": \"https://cdn.jsdelivr.net/npm//vega@5?noext\",\n",
       "      \"vega-lib\": \"https://cdn.jsdelivr.net/npm//vega-lib?noext\",\n",
       "      \"vega-lite\": \"https://cdn.jsdelivr.net/npm//vega-lite@4.17.0?noext\",\n",
       "      \"vega-embed\": \"https://cdn.jsdelivr.net/npm//vega-embed@6?noext\",\n",
       "    };\n",
       "\n",
       "    function maybeLoadScript(lib, version) {\n",
       "      var key = `${lib.replace(\"-\", \"\")}_version`;\n",
       "      return (VEGA_DEBUG[key] == version) ?\n",
       "        Promise.resolve(paths[lib]) :\n",
       "        new Promise(function(resolve, reject) {\n",
       "          var s = document.createElement('script');\n",
       "          document.getElementsByTagName(\"head\")[0].appendChild(s);\n",
       "          s.async = true;\n",
       "          s.onload = () => {\n",
       "            VEGA_DEBUG[key] = version;\n",
       "            return resolve(paths[lib]);\n",
       "          };\n",
       "          s.onerror = () => reject(`Error loading script: ${paths[lib]}`);\n",
       "          s.src = paths[lib];\n",
       "        });\n",
       "    }\n",
       "\n",
       "    function showError(err) {\n",
       "      outputDiv.innerHTML = `<div class=\"error\" style=\"color:red;\">${err}</div>`;\n",
       "      throw err;\n",
       "    }\n",
       "\n",
       "    function displayChart(vegaEmbed) {\n",
       "      vegaEmbed(outputDiv, spec, embedOpt)\n",
       "        .catch(err => showError(`Javascript Error: ${err.message}<br>This usually means there's a typo in your chart specification. See the javascript console for the full traceback.`));\n",
       "    }\n",
       "\n",
       "    if(typeof define === \"function\" && define.amd) {\n",
       "      requirejs.config({paths});\n",
       "      require([\"vega-embed\"], displayChart, err => showError(`Error loading script: ${err.message}`));\n",
       "    } else {\n",
       "      maybeLoadScript(\"vega\", \"5\")\n",
       "        .then(() => maybeLoadScript(\"vega-lite\", \"4.17.0\"))\n",
       "        .then(() => maybeLoadScript(\"vega-embed\", \"6\"))\n",
       "        .catch(showError)\n",
       "        .then(() => displayChart(vegaEmbed));\n",
       "    }\n",
       "  })({\"config\": {\"view\": {\"continuousWidth\": 400, \"continuousHeight\": 300, \"strokeOpacity\": 0}}, \"data\": {\"name\": \"data-af0f511a1545928ee9ab761fc16f010a\"}, \"mark\": {\"type\": \"bar\", \"color\": \"#ccf4ed\"}, \"encoding\": {\"tooltip\": [{\"field\": \"Percentage of xPRISM in AMPs\", \"type\": \"nominal\"}, {\"field\": \"Number of users\", \"type\": \"quantitative\"}], \"x\": {\"axis\": {\"labelAngle\": 0, \"tickBand\": \"center\", \"tickCount\": 10}, \"field\": \"Percentage of xPRISM in AMPs\", \"type\": \"nominal\"}, \"y\": {\"field\": \"Number of users\", \"type\": \"quantitative\"}}, \"width\": 600, \"$schema\": \"https://vega.github.io/schema/vega-lite/v4.17.0.json\", \"datasets\": {\"data-af0f511a1545928ee9ab761fc16f010a\": [{\"Percentage of xPRISM in AMPs\": \"90%-100%\", \"Number of users\": 3991}, {\"Percentage of xPRISM in AMPs\": \"0%-10%\", \"Number of users\": 563}, {\"Percentage of xPRISM in AMPs\": \"50%-60%\", \"Number of users\": 233}, {\"Percentage of xPRISM in AMPs\": \"60%-70%\", \"Number of users\": 46}, {\"Percentage of xPRISM in AMPs\": \"70%-80%\", \"Number of users\": 33}, {\"Percentage of xPRISM in AMPs\": \"40%-50%\", \"Number of users\": 33}, {\"Percentage of xPRISM in AMPs\": \"80%-90%\", \"Number of users\": 29}, {\"Percentage of xPRISM in AMPs\": \"30%-40%\", \"Number of users\": 21}, {\"Percentage of xPRISM in AMPs\": \"10%-20%\", \"Number of users\": 16}, {\"Percentage of xPRISM in AMPs\": \"90%-100%\", \"Number of users\": 14}, {\"Percentage of xPRISM in AMPs\": \"20%-30%\", \"Number of users\": 12}]}}, {\"mode\": \"vega-lite\"});\n",
       "</script>"
      ],
      "text/plain": [
       "alt.Chart(...)"
      ]
     },
     "execution_count": 151,
     "metadata": {},
     "output_type": "execute_result"
    }
   ],
   "source": [
    "xPrismAmpsChart.chart(dp.perc_amps_n_user)"
   ]
  },
  {
   "cell_type": "code",
   "execution_count": null,
   "metadata": {},
   "outputs": [],
   "source": []
  }
 ],
 "metadata": {
  "kernelspec": {
   "display_name": "Python 3",
   "language": "python",
   "name": "python3"
  },
  "language_info": {
   "codemirror_mode": {
    "name": "ipython",
    "version": 3
   },
   "file_extension": ".py",
   "mimetype": "text/x-python",
   "name": "python",
   "nbconvert_exporter": "python",
   "pygments_lexer": "ipython3",
   "version": "3.8.2"
  }
 },
 "nbformat": 4,
 "nbformat_minor": 4
}
