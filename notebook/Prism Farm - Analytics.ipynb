{
 "cells": [
  {
   "cell_type": "code",
   "execution_count": 20,
   "metadata": {
    "scrolled": true
   },
   "outputs": [],
   "source": [
    "import pandas as pd\n",
    "import altair as alt\n",
    "import warnings\n",
    "warnings.filterwarnings(\"ignore\")\n",
    "alt.renderers.set_embed_options(theme='light')\n",
    "pd.set_option(\"display.max_colwidth\", 400)\n"
   ]
  },
  {
   "cell_type": "markdown",
   "metadata": {},
   "source": [
    "Trend line of what yLUNA is being used for?  PRISM Farm, yLUNA Staking, LPing, or Nothing."
   ]
  },
  {
   "cell_type": "code",
   "execution_count": 66,
   "metadata": {},
   "outputs": [],
   "source": [
    "class DataProvider:\n",
    "    def __init__(self, claim, get_url):\n",
    "        self.refract = 'c5ac5e60-7da0-429f-98e8-19ccdd77d835'\n",
    "        self.refract_cluna = '5b0257c3-e93b-49d4-93f6-e370bc3b3f50'\n",
    "        self.lping = '879d0260-93a9-4576-a1bd-2cc3dc26bf13'\n",
    "        self.ystaking = '3ff0fc49-5a0d-4cdf-a8ab-33f8ea7e755f'\n",
    "        self.ystaking_farm = '05d91866-0193-4231-b2ca-1774fbd5742a'\n",
    "        self.swaps = 'a3b3ad75-15b2-4a40-9850-00e8c1c33ef0'\n",
    "        self.router = '69b149fb-81ba-4860-aac1-b17f0d6d7688'\n",
    "        self.claim = claim\n",
    "        self.get_url = get_url\n",
    "        \n",
    "    def load_from_url(self):\n",
    "        self.ystaking_farm_df = claim(self.ystaking_farm)\n",
    "        self.lping_df = claim(self.lping)\n",
    "        self.refract_df = claim(self.refract)\n",
    "        self.refract_cluna_df = claim(self.refract_cluna)\n",
    "        self.ystaking_df = claim(self.ystaking)\n",
    "        self.swaps_df = claim(self.swaps)\n",
    "        self.router_df = claim(self.router)\n",
    "    \n",
    "    def write_to_csv(self):\n",
    "        self.ystaking_farm_df.to_csv('../data/ystaking_farm.csv')\n",
    "        self.lping_df.to_csv('../data/lping.csv')\n",
    "        self.refract_df.to_csv('../data/refract.csv')\n",
    "        self.refract_cluna_df.to_csv('../data/refract_cluna.csv')\n",
    "        self.ystaking_df.to_csv('../data/ystaking.csv')\n",
    "        self.swaps_df.to_csv('../data/swaps.csv')\n",
    "        self.router_df.to_csv('../data/router.csv')\n",
    "        \n",
    "    def load_from_csv(self):\n",
    "        self.ystaking_farm_df = pd.read_csv('../data/ystaking_farm.csv', index_col=0)\n",
    "        self.lping_df = pd.read_csv('../data/lping.csv', index_col=0)\n",
    "        self.refract_df = pd.read_csv('../data/refract.csv', index_col=0)\n",
    "        self.refract_cluna_df = pd.read_csv('../data/refract_cluna.csv', index_col=0)\n",
    "        self.ystaking_df = pd.read_csv('../data/ystaking.csv', index_col=0)\n",
    "        self.swaps_df = pd.read_csv('../data/swaps.csv', index_col=0)\n",
    "        self.router_df = pd.read_csv('../data/router.csv', index_col=0)\n",
    "        \n",
    "    def polish_lping(self):\n",
    "        self.lping_df['action'] = self.lping_df.apply(lambda row: row['0_action'] if row['0_action'] == 'provide_liquidity' \\\n",
    "                                            else row['1_action'],axis=1)\n",
    "        provide_ = self.lping_df[self.lping_df.action=='provide_liquidity']\n",
    "        withdraw_ = self.lping_df[self.lping_df.action=='withdraw_liquidity']\n",
    "        #\n",
    "        provide_['prism_amount'] = provide_.apply(lambda row: row['2_amount'] if row['1_contract_address'] == 'terra1dh9478k2qvqhqeajhn75a2a7dsnf74y5ukregw' else row['3_amount'],axis=1)\n",
    "        provide_['yluna_amount'] = provide_.apply(lambda row: row['1_amount'] if row['2_contract_address'] == 'terra17wkadg0tah554r35x6wvff0y5s7ve8npcjfuhz' else row['2_amount'],axis=1)\n",
    "        provide_['sender'] = provide_['from_']\n",
    "        provide_['hr'] = provide_.block_timestamp.str[:-9] + '00:00.000'\n",
    "        provide_['day'] = provide_.block_timestamp.str[:-13]\n",
    "        provide_ = provide_[['block_timestamp','sender','tx_id','action','prism_amount','yluna_amount','hr','day']]\n",
    "        provide_['amount_signed'] = provide_.yluna_amount\n",
    "        #\n",
    "        withdraw_['prism_amount'] = withdraw_.apply(lambda row: row['1_amount'] if row['2_contract_address'] == 'terra1dh9478k2qvqhqeajhn75a2a7dsnf74y5ukregw' else row['2_amount'],axis=1)\n",
    "        withdraw_['yluna_amount'] = withdraw_.apply(lambda row: row['2_amount'] if row['3_contract_address'] == 'terra17wkadg0tah554r35x6wvff0y5s7ve8npcjfuhz' else row['1_amount'],axis=1)\n",
    "        withdraw_['sender'] = withdraw_['from_']\n",
    "        withdraw_['hr'] = withdraw_.block_timestamp.str[:-9] + '00:00.000'\n",
    "        withdraw_['day'] = withdraw_.block_timestamp.str[:-13]\n",
    "        withdraw_ = withdraw_[['block_timestamp','sender','tx_id','action','prism_amount','yluna_amount','hr','day']]\n",
    "        withdraw_['amount_signed'] = -withdraw_.yluna_amount\n",
    "        #\n",
    "        self.all_lps = withdraw_.append(provide_)\n",
    "        daily_delta_lp = self.all_lps.groupby('day').amount_signed.sum().reset_index()\n",
    "        daily_delta_lp = daily_delta_lp.sort_values(by='day')\n",
    "        daily_delta_lp['cumsum'] = daily_delta_lp.amount_signed.cumsum().apply(lambda x: round(x,2))\n",
    "        daily_delta_lp.columns = ['Time', 'Amount signed', 'Amount']\n",
    "        daily_delta_lp['Type'] = 'yLuna LP'\n",
    "        self.daily_delta_lp = daily_delta_lp\n",
    "        \n",
    "    def polish_refracting_cluna(self):\n",
    "        self.refract_cluna_df['user'] = self.refract_cluna_df['from_']\n",
    "        self.refract_cluna_df_pol = self.refract_cluna_df[['block_timestamp','tx_id','user','0_action','0_amount']]\n",
    "        self.refract_cluna_df_pol.columns = ['block_timestamp','tx_id','user','action','amount']\n",
    "        self.refract_cluna_df_pol['asset_given'] = 'cLUNA'\n",
    "        self.refract_cluna_df_pol['asset_received'] = 'yLUNA'\n",
    "        self.refract_cluna_df_pol['operation'] = 'refraction'\n",
    "        self.refract_cluna_df_pol['hr'] = self.refract_cluna_df_pol.block_timestamp.str[:-9] + '00:00.000'\n",
    "        self.refract_cluna_df_pol['day'] = self.refract_cluna_df_pol.block_timestamp.str[:-13]\n",
    "        self.refract_cluna_df_pol['amount_signed'] = self.refract_cluna_df_pol.amount\n",
    "        \n",
    "    def polish_refracting_luna(self):\n",
    "        self.refract_df['user'] = self.refract_df.apply(lambda row: row.from_ if row['0_action']=='bond_split' else row.to_, axis=1)\n",
    "        self.refract_df_pol = self.refract_df[['block_timestamp','tx_id','user','0_action','0_amount']]\n",
    "        self.refract_df_pol.columns = ['block_timestamp','tx_id','user','action','amount']\n",
    "        self.refract_df_pol['asset_given'] = self.refract_df_pol.apply(lambda row: 'LUNA' if row['action']=='bond_split' else 'yLUNA',axis=1)\n",
    "        self.refract_df_pol['asset_received'] = self.refract_df_pol.apply(lambda row: 'yLUNA' if row['action']=='bond_split' else 'LUNA',axis=1)\n",
    "        self.refract_df_pol['operation'] = 'refraction'\n",
    "        self.refract_df_pol['hr'] = self.refract_df_pol.block_timestamp.str[:-9] + '00:00.000'\n",
    "        self.refract_df_pol['day'] = self.refract_df_pol.block_timestamp.str[:-13]\n",
    "        self.refract_df_pol['amount_signed'] = self.refract_df_pol.apply(lambda row: -row.amount \n",
    "                                                        if row.action=='burn_from' else row.amount,axis=1)\n",
    "        \n",
    "    def polish_refracting(self):\n",
    "        self.polish_refracting_cluna()\n",
    "        self.polish_refracting_luna()\n",
    "        self.all_refreact = self.refract_df_pol.append(self.refract_cluna_df_pol)\n",
    "        daily_delta_rf = self.all_refreact.groupby('day').amount_signed.sum().reset_index()\n",
    "        daily_delta_rf = daily_delta_rf.sort_values(by='day')\n",
    "        daily_delta_rf['cumsum'] = daily_delta_rf.amount_signed.cumsum().apply(lambda x: round(x,2))\n",
    "        daily_delta_rf.columns = ['Time', 'Amount signed', 'Amount']\n",
    "        daily_delta_rf['Type'] = 'yLuna circulating'\n",
    "        self.daily_delta_rf = daily_delta_rf\n",
    "        \n",
    "    def polish_ystaking(self):\n",
    "        self.ystaking_df['action'] = self.ystaking_df.apply(lambda row: row['0_action'] if row['0_action']=='unbond' else row['1_action'],axis=1)\n",
    "        self.ystaking_df['amount'] = self.ystaking_df.apply(lambda row: row['0_amount'] if row['0_action']=='unbond' else row['1_amount'],axis=1)\n",
    "        self.ystaking_df['user'] = self.ystaking_df.apply(lambda row: row['to_'] if row.action=='unbond' else row['from_'],axis=1)\n",
    "        self.ystaking_df['asset_given'] = self.ystaking_df.apply(lambda row: None if row.action=='unbond' else 'yLUNA',axis=1)\n",
    "        self.ystaking_df['asset_received'] = self.ystaking_df.apply(lambda row: 'yLUNA' if row.action=='unbond' else None,axis=1)\n",
    "        self.ystaking_df['day'] = self.ystaking_df.hr.str[:-13]\n",
    "        self.ystaking_df = self.ystaking_df[['block_timestamp','tx_id','hr','day','action','amount','user','asset_given','asset_received']]\n",
    "        self.ystaking_df['amount_signed'] = self.ystaking_df.apply(lambda row: row.amount if row.action=='bond' else -row.amount,axis=1)\n",
    "\n",
    "        daily_delta_stk = self.ystaking_df.groupby('day').amount_signed.sum().reset_index()\n",
    "        daily_delta_stk = daily_delta_stk.sort_values(by='day')\n",
    "        daily_delta_stk['cumsum'] = daily_delta_stk.amount_signed.cumsum().apply(lambda x: round(x,2))\n",
    "        daily_delta_stk.columns = ['Time', 'Amount signed', 'Amount']\n",
    "        daily_delta_stk['Type'] = 'yLuna staked'\n",
    "        self.daily_delta_stk = daily_delta_stk\n",
    "        \n",
    "    def polish_ystaking_farm(self):\n",
    "        self.ystaking_farm_df['action'] = self.ystaking_farm_df.apply(lambda row: row['3_action'] if row['3_action']=='bond'\\\n",
    "                                                                                          else row['1_action'], axis=1)\n",
    "        self.ystaking_farm_df['amount'] = self.ystaking_farm_df.apply(lambda row: float(row['0_amount']) if row['action']=='bond'\\\n",
    "                                                                                                  else float(row['0_amount']), axis=1)\n",
    "        self.ystaking_farm_df = self.ystaking_farm_df[['block_timestamp','tx_id','sender','action','amount']]\n",
    "        self.ystaking_farm_df['hr'] = self.ystaking_farm_df.block_timestamp.str[:-9] + '00:00.000'\n",
    "        self.ystaking_farm_df['day'] = self.ystaking_farm_df.block_timestamp.str[:-13]\n",
    "        self.ystaking_farm_df['amount_signed'] = self.ystaking_farm_df.apply(lambda row: row.amount if row.action=='bond' else -row.amount,axis=1)\n",
    "        \n",
    "        daily_delta_stk_farm = self.ystaking_farm_df.groupby('day').amount_signed.sum().reset_index()\n",
    "        daily_delta_stk_farm = daily_delta_stk_farm.sort_values(by='day')\n",
    "        daily_delta_stk_farm['cumsum'] = daily_delta_stk_farm.amount_signed.cumsum().apply(lambda x: round(x,2))\n",
    "        daily_delta_stk_farm.columns = ['Time', 'Amount signed', 'Amount']\n",
    "        daily_delta_stk_farm['Type'] = 'yLuna Farm staked'\n",
    "        self.daily_delta_stk_farm = daily_delta_stk_farm\n",
    "        \n",
    "        \n",
    "    def polish(self):\n",
    "        self.polish_lping()\n",
    "        self.polish_refracting()\n",
    "        self.polish_ystaking()\n",
    "        self.polish_ystaking_farm()\n",
    "        \n",
    "        "
   ]
  },
  {
   "cell_type": "code",
   "execution_count": 67,
   "metadata": {},
   "outputs": [],
   "source": [
    "def claim(claim_hash):\n",
    "    df = pd.read_json(\n",
    "            f\"https://api.flipsidecrypto.com/api/v2/queries/{claim_hash}/data/latest\",\n",
    "            convert_dates=[\"BLOCK_TIMESTAMP\"])\n",
    "    df.columns = [c.lower() for c in df.columns]\n",
    "    return df"
   ]
  },
  {
   "cell_type": "code",
   "execution_count": 68,
   "metadata": {},
   "outputs": [],
   "source": [
    "def get_url(url):\n",
    "    return pd.read_csv(url, index_col=0)"
   ]
  },
  {
   "cell_type": "code",
   "execution_count": 69,
   "metadata": {},
   "outputs": [],
   "source": [
    "dp = DataProvider(claim,get_url)\n",
    "#dp.load_from_url()\n",
    "#dp.write_to_csv()\n",
    "dp.load_from_csv()\n",
    "dp.polish()"
   ]
  },
  {
   "cell_type": "code",
   "execution_count": 70,
   "metadata": {},
   "outputs": [],
   "source": [
    "class ChartProvider:\n",
    "    def __init__(self):\n",
    "        pass\n",
    "    \n",
    "    def get_line_chart(self, df, domain=[], range_=[], min_date=None, max_date=None, top_padding=0):\n",
    "        max_date = df['Time'].max()\n",
    "        chart = alt.Chart(df).mark_line(point = True).encode(\n",
    "            x=alt.X('Time:T',scale=alt.Scale(domain=(min_date,max_date))),\n",
    "            y=alt.X('Amount:Q',scale=alt.Scale(domain=(0,df['Amount'].max()+top_padding))),\n",
    "            color=alt.Color('Type:N', \n",
    "                        sort=domain,\n",
    "                        scale=alt.Scale(domain=domain, range=range_),\n",
    "                        legend=alt.Legend(\n",
    "                                    orient='none',\n",
    "                                    padding=5,\n",
    "                                    legendY=0,\n",
    "                                    direction='horizontal')),\n",
    "            tooltip=[alt.Tooltip('Time:T', format='%Y-%m-%d %H:%M'),'Amount:Q']\n",
    "        ).properties(width=800).configure_view(strokeOpacity=0)\n",
    "        return chart"
   ]
  },
  {
   "cell_type": "markdown",
   "metadata": {},
   "source": [
    "## Refract"
   ]
  },
  {
   "cell_type": "code",
   "execution_count": 71,
   "metadata": {},
   "outputs": [],
   "source": [
    "daily_delta_rf = dp.daily_delta_rf"
   ]
  },
  {
   "cell_type": "code",
   "execution_count": 72,
   "metadata": {},
   "outputs": [
    {
     "data": {
      "text/html": [
       "\n",
       "<div id=\"altair-viz-db247f610871422aa4b65389d5d1bd94\"></div>\n",
       "<script type=\"text/javascript\">\n",
       "  var VEGA_DEBUG = (typeof VEGA_DEBUG == \"undefined\") ? {} : VEGA_DEBUG;\n",
       "  (function(spec, embedOpt){\n",
       "    let outputDiv = document.currentScript.previousElementSibling;\n",
       "    if (outputDiv.id !== \"altair-viz-db247f610871422aa4b65389d5d1bd94\") {\n",
       "      outputDiv = document.getElementById(\"altair-viz-db247f610871422aa4b65389d5d1bd94\");\n",
       "    }\n",
       "    const paths = {\n",
       "      \"vega\": \"https://cdn.jsdelivr.net/npm//vega@5?noext\",\n",
       "      \"vega-lib\": \"https://cdn.jsdelivr.net/npm//vega-lib?noext\",\n",
       "      \"vega-lite\": \"https://cdn.jsdelivr.net/npm//vega-lite@4.17.0?noext\",\n",
       "      \"vega-embed\": \"https://cdn.jsdelivr.net/npm//vega-embed@6?noext\",\n",
       "    };\n",
       "\n",
       "    function maybeLoadScript(lib, version) {\n",
       "      var key = `${lib.replace(\"-\", \"\")}_version`;\n",
       "      return (VEGA_DEBUG[key] == version) ?\n",
       "        Promise.resolve(paths[lib]) :\n",
       "        new Promise(function(resolve, reject) {\n",
       "          var s = document.createElement('script');\n",
       "          document.getElementsByTagName(\"head\")[0].appendChild(s);\n",
       "          s.async = true;\n",
       "          s.onload = () => {\n",
       "            VEGA_DEBUG[key] = version;\n",
       "            return resolve(paths[lib]);\n",
       "          };\n",
       "          s.onerror = () => reject(`Error loading script: ${paths[lib]}`);\n",
       "          s.src = paths[lib];\n",
       "        });\n",
       "    }\n",
       "\n",
       "    function showError(err) {\n",
       "      outputDiv.innerHTML = `<div class=\"error\" style=\"color:red;\">${err}</div>`;\n",
       "      throw err;\n",
       "    }\n",
       "\n",
       "    function displayChart(vegaEmbed) {\n",
       "      vegaEmbed(outputDiv, spec, embedOpt)\n",
       "        .catch(err => showError(`Javascript Error: ${err.message}<br>This usually means there's a typo in your chart specification. See the javascript console for the full traceback.`));\n",
       "    }\n",
       "\n",
       "    if(typeof define === \"function\" && define.amd) {\n",
       "      requirejs.config({paths});\n",
       "      require([\"vega-embed\"], displayChart, err => showError(`Error loading script: ${err.message}`));\n",
       "    } else {\n",
       "      maybeLoadScript(\"vega\", \"5\")\n",
       "        .then(() => maybeLoadScript(\"vega-lite\", \"4.17.0\"))\n",
       "        .then(() => maybeLoadScript(\"vega-embed\", \"6\"))\n",
       "        .catch(showError)\n",
       "        .then(() => displayChart(vegaEmbed));\n",
       "    }\n",
       "  })({\"config\": {\"view\": {\"continuousWidth\": 400, \"continuousHeight\": 300, \"strokeOpacity\": 0}}, \"data\": {\"name\": \"data-e53fce9042a6a4efadb30e8efa6152e8\"}, \"mark\": {\"type\": \"line\", \"point\": true}, \"encoding\": {\"color\": {\"field\": \"Type\", \"legend\": {\"direction\": \"horizontal\", \"legendY\": 0, \"orient\": \"none\", \"padding\": 5}, \"scale\": {\"domain\": [\"yLuna circulating\"], \"range\": [\"lightblue\"]}, \"sort\": [\"yLuna circulating\"], \"type\": \"nominal\"}, \"tooltip\": [{\"field\": \"Time\", \"format\": \"%Y-%m-%d %H:%M\", \"type\": \"temporal\"}, {\"field\": \"Amount\", \"type\": \"quantitative\"}], \"x\": {\"field\": \"Time\", \"scale\": {\"domain\": [\"2022-02-14\", \"2022-03-07\"]}, \"type\": \"temporal\"}, \"y\": {\"field\": \"Amount\", \"scale\": {\"domain\": [0, 1838336.95]}, \"type\": \"quantitative\"}}, \"width\": 800, \"$schema\": \"https://vega.github.io/schema/vega-lite/v4.17.0.json\", \"datasets\": {\"data-e53fce9042a6a4efadb30e8efa6152e8\": [{\"Time\": \"2022-02-14\", \"Amount signed\": 886905.699296, \"Amount\": 886905.7, \"Type\": \"yLuna circulating\"}, {\"Time\": \"2022-02-15\", \"Amount signed\": 203535.451347, \"Amount\": 1090441.15, \"Type\": \"yLuna circulating\"}, {\"Time\": \"2022-02-16\", \"Amount signed\": 34802.863363000004, \"Amount\": 1125244.01, \"Type\": \"yLuna circulating\"}, {\"Time\": \"2022-02-17\", \"Amount signed\": 390199.47849999997, \"Amount\": 1515443.49, \"Type\": \"yLuna circulating\"}, {\"Time\": \"2022-02-18\", \"Amount signed\": 18926.17176, \"Amount\": 1534369.66, \"Type\": \"yLuna circulating\"}, {\"Time\": \"2022-02-19\", \"Amount signed\": 8557.163948, \"Amount\": 1542926.83, \"Type\": \"yLuna circulating\"}, {\"Time\": \"2022-02-20\", \"Amount signed\": 4739.7210669999995, \"Amount\": 1547666.55, \"Type\": \"yLuna circulating\"}, {\"Time\": \"2022-02-21\", \"Amount signed\": -6418.023053999999, \"Amount\": 1541248.53, \"Type\": \"yLuna circulating\"}, {\"Time\": \"2022-02-22\", \"Amount signed\": 1663.183897, \"Amount\": 1542911.71, \"Type\": \"yLuna circulating\"}, {\"Time\": \"2022-02-23\", \"Amount signed\": 4500.11243, \"Amount\": 1547411.82, \"Type\": \"yLuna circulating\"}, {\"Time\": \"2022-02-24\", \"Amount signed\": -342.0362129999999, \"Amount\": 1547069.79, \"Type\": \"yLuna circulating\"}, {\"Time\": \"2022-02-25\", \"Amount signed\": 4035.1840310000002, \"Amount\": 1551104.97, \"Type\": \"yLuna circulating\"}, {\"Time\": \"2022-02-26\", \"Amount signed\": 32360.524656999998, \"Amount\": 1583465.5, \"Type\": \"yLuna circulating\"}, {\"Time\": \"2022-02-27\", \"Amount signed\": 478.2207449999994, \"Amount\": 1583943.72, \"Type\": \"yLuna circulating\"}, {\"Time\": \"2022-02-28\", \"Amount signed\": -1117.798882, \"Amount\": 1582825.92, \"Type\": \"yLuna circulating\"}, {\"Time\": \"2022-03-01\", \"Amount signed\": -789.179065, \"Amount\": 1582036.74, \"Type\": \"yLuna circulating\"}, {\"Time\": \"2022-03-02\", \"Amount signed\": 200929.163775, \"Amount\": 1782965.9, \"Type\": \"yLuna circulating\"}, {\"Time\": \"2022-03-03\", \"Amount signed\": 597.3195, \"Amount\": 1783563.22, \"Type\": \"yLuna circulating\"}, {\"Time\": \"2022-03-04\", \"Amount signed\": 2052.998513, \"Amount\": 1785616.22, \"Type\": \"yLuna circulating\"}, {\"Time\": \"2022-03-05\", \"Amount signed\": 7004.864402, \"Amount\": 1792621.08, \"Type\": \"yLuna circulating\"}, {\"Time\": \"2022-03-06\", \"Amount signed\": 33240.376126999996, \"Amount\": 1825861.46, \"Type\": \"yLuna circulating\"}, {\"Time\": \"2022-03-07\", \"Amount signed\": 2475.493692, \"Amount\": 1828336.95, \"Type\": \"yLuna circulating\"}]}}, {\"theme\": \"light\", \"mode\": \"vega-lite\"});\n",
       "</script>"
      ],
      "text/plain": [
       "alt.Chart(...)"
      ]
     },
     "execution_count": 72,
     "metadata": {},
     "output_type": "execute_result"
    }
   ],
   "source": [
    "cp = ChartProvider()\n",
    "cp.get_line_chart(daily_delta_rf, \n",
    "               domain = ['yLuna circulating'],\n",
    "               range_ = ['lightblue'],\n",
    "               min_date = daily_delta_rf.Time.min(),\n",
    "               max_date = daily_delta_rf.Time.max(),\n",
    "               top_padding = 10000\n",
    "        )"
   ]
  },
  {
   "cell_type": "markdown",
   "metadata": {},
   "source": [
    "## yStaking"
   ]
  },
  {
   "cell_type": "code",
   "execution_count": 73,
   "metadata": {},
   "outputs": [],
   "source": [
    "def get_max_domain_date(df, time_field, n_hours):\n",
    "    if((pd.Timestamp(df[time_field].max()) - \n",
    "                pd.Timestamp(df[time_field].min())).total_seconds()/3600 < n_hours):\n",
    "        max_date = (pd.Timestamp(df[time_field].min()) + pd.to_timedelta(n_hours, unit='h')).strftime(\"%Y-%m-%dT%H:%M:%SZ\")\n",
    "    else:\n",
    "        max_date = df[time_field].max()\n",
    "    return max_date"
   ]
  },
  {
   "cell_type": "code",
   "execution_count": 74,
   "metadata": {},
   "outputs": [],
   "source": [
    "daily_delta_stk = dp.daily_delta_stk"
   ]
  },
  {
   "cell_type": "code",
   "execution_count": 75,
   "metadata": {},
   "outputs": [
    {
     "data": {
      "text/html": [
       "\n",
       "<div id=\"altair-viz-3ebdf1d0128d4458a05509436c1f1dfa\"></div>\n",
       "<script type=\"text/javascript\">\n",
       "  var VEGA_DEBUG = (typeof VEGA_DEBUG == \"undefined\") ? {} : VEGA_DEBUG;\n",
       "  (function(spec, embedOpt){\n",
       "    let outputDiv = document.currentScript.previousElementSibling;\n",
       "    if (outputDiv.id !== \"altair-viz-3ebdf1d0128d4458a05509436c1f1dfa\") {\n",
       "      outputDiv = document.getElementById(\"altair-viz-3ebdf1d0128d4458a05509436c1f1dfa\");\n",
       "    }\n",
       "    const paths = {\n",
       "      \"vega\": \"https://cdn.jsdelivr.net/npm//vega@5?noext\",\n",
       "      \"vega-lib\": \"https://cdn.jsdelivr.net/npm//vega-lib?noext\",\n",
       "      \"vega-lite\": \"https://cdn.jsdelivr.net/npm//vega-lite@4.17.0?noext\",\n",
       "      \"vega-embed\": \"https://cdn.jsdelivr.net/npm//vega-embed@6?noext\",\n",
       "    };\n",
       "\n",
       "    function maybeLoadScript(lib, version) {\n",
       "      var key = `${lib.replace(\"-\", \"\")}_version`;\n",
       "      return (VEGA_DEBUG[key] == version) ?\n",
       "        Promise.resolve(paths[lib]) :\n",
       "        new Promise(function(resolve, reject) {\n",
       "          var s = document.createElement('script');\n",
       "          document.getElementsByTagName(\"head\")[0].appendChild(s);\n",
       "          s.async = true;\n",
       "          s.onload = () => {\n",
       "            VEGA_DEBUG[key] = version;\n",
       "            return resolve(paths[lib]);\n",
       "          };\n",
       "          s.onerror = () => reject(`Error loading script: ${paths[lib]}`);\n",
       "          s.src = paths[lib];\n",
       "        });\n",
       "    }\n",
       "\n",
       "    function showError(err) {\n",
       "      outputDiv.innerHTML = `<div class=\"error\" style=\"color:red;\">${err}</div>`;\n",
       "      throw err;\n",
       "    }\n",
       "\n",
       "    function displayChart(vegaEmbed) {\n",
       "      vegaEmbed(outputDiv, spec, embedOpt)\n",
       "        .catch(err => showError(`Javascript Error: ${err.message}<br>This usually means there's a typo in your chart specification. See the javascript console for the full traceback.`));\n",
       "    }\n",
       "\n",
       "    if(typeof define === \"function\" && define.amd) {\n",
       "      requirejs.config({paths});\n",
       "      require([\"vega-embed\"], displayChart, err => showError(`Error loading script: ${err.message}`));\n",
       "    } else {\n",
       "      maybeLoadScript(\"vega\", \"5\")\n",
       "        .then(() => maybeLoadScript(\"vega-lite\", \"4.17.0\"))\n",
       "        .then(() => maybeLoadScript(\"vega-embed\", \"6\"))\n",
       "        .catch(showError)\n",
       "        .then(() => displayChart(vegaEmbed));\n",
       "    }\n",
       "  })({\"config\": {\"view\": {\"continuousWidth\": 400, \"continuousHeight\": 300, \"strokeOpacity\": 0}}, \"data\": {\"name\": \"data-7a689f9e262b73def1de7d111fb9c33f\"}, \"mark\": {\"type\": \"line\", \"point\": true}, \"encoding\": {\"color\": {\"field\": \"Type\", \"legend\": {\"direction\": \"horizontal\", \"legendY\": 0, \"orient\": \"none\", \"padding\": 5}, \"scale\": {\"domain\": [\"yLuna staked\"], \"range\": [\"#f8936d\"]}, \"sort\": [\"yLuna staked\"], \"type\": \"nominal\"}, \"tooltip\": [{\"field\": \"Time\", \"format\": \"%Y-%m-%d %H:%M\", \"type\": \"temporal\"}, {\"field\": \"Amount\", \"type\": \"quantitative\"}], \"x\": {\"field\": \"Time\", \"scale\": {\"domain\": [\"2022-02-14\", \"2022-03-07\"]}, \"type\": \"temporal\"}, \"y\": {\"field\": \"Amount\", \"scale\": {\"domain\": [0, 1629544.79]}, \"type\": \"quantitative\"}}, \"width\": 800, \"$schema\": \"https://vega.github.io/schema/vega-lite/v4.17.0.json\", \"datasets\": {\"data-7a689f9e262b73def1de7d111fb9c33f\": [{\"Time\": \"2022-02-14\", \"Amount signed\": 263973.675194, \"Amount\": 263973.68, \"Type\": \"yLuna staked\"}, {\"Time\": \"2022-02-15\", \"Amount signed\": 785353.298444, \"Amount\": 1049326.97, \"Type\": \"yLuna staked\"}, {\"Time\": \"2022-02-16\", \"Amount signed\": 48822.844771000004, \"Amount\": 1098149.82, \"Type\": \"yLuna staked\"}, {\"Time\": \"2022-02-17\", \"Amount signed\": 398581.74049399997, \"Amount\": 1496731.56, \"Type\": \"yLuna staked\"}, {\"Time\": \"2022-02-18\", \"Amount signed\": 26482.353074, \"Amount\": 1523213.91, \"Type\": \"yLuna staked\"}, {\"Time\": \"2022-02-19\", \"Amount signed\": 9947.130666000001, \"Amount\": 1533161.04, \"Type\": \"yLuna staked\"}, {\"Time\": \"2022-02-20\", \"Amount signed\": 6690.475193, \"Amount\": 1539851.52, \"Type\": \"yLuna staked\"}, {\"Time\": \"2022-02-21\", \"Amount signed\": -5372.310204, \"Amount\": 1534479.21, \"Type\": \"yLuna staked\"}, {\"Time\": \"2022-02-22\", \"Amount signed\": -340.56230799999867, \"Amount\": 1534138.65, \"Type\": \"yLuna staked\"}, {\"Time\": \"2022-02-23\", \"Amount signed\": -1892.4545829999986, \"Amount\": 1532246.19, \"Type\": \"yLuna staked\"}, {\"Time\": \"2022-02-24\", \"Amount signed\": 9215.792161000003, \"Amount\": 1541461.98, \"Type\": \"yLuna staked\"}, {\"Time\": \"2022-02-25\", \"Amount signed\": 6565.445083, \"Amount\": 1548027.43, \"Type\": \"yLuna staked\"}, {\"Time\": \"2022-02-26\", \"Amount signed\": 21591.622122, \"Amount\": 1569619.05, \"Type\": \"yLuna staked\"}, {\"Time\": \"2022-02-27\", \"Amount signed\": 15350.826443, \"Amount\": 1584969.88, \"Type\": \"yLuna staked\"}, {\"Time\": \"2022-02-28\", \"Amount signed\": 5056.461055000001, \"Amount\": 1590026.34, \"Type\": \"yLuna staked\"}, {\"Time\": \"2022-03-01\", \"Amount signed\": -3479.020891000002, \"Amount\": 1586547.32, \"Type\": \"yLuna staked\"}, {\"Time\": \"2022-03-02\", \"Amount signed\": -801.9276639999982, \"Amount\": 1585745.39, \"Type\": \"yLuna staked\"}, {\"Time\": \"2022-03-03\", \"Amount signed\": -37.22532999999703, \"Amount\": 1585708.16, \"Type\": \"yLuna staked\"}, {\"Time\": \"2022-03-04\", \"Amount signed\": 980.5553720000014, \"Amount\": 1586688.72, \"Type\": \"yLuna staked\"}, {\"Time\": \"2022-03-05\", \"Amount signed\": 5166.3548889999975, \"Amount\": 1591855.07, \"Type\": \"yLuna staked\"}, {\"Time\": \"2022-03-06\", \"Amount signed\": 27689.718579999997, \"Amount\": 1619544.79, \"Type\": \"yLuna staked\"}, {\"Time\": \"2022-03-07\", \"Amount signed\": -3.6708679999999845, \"Amount\": 1619541.12, \"Type\": \"yLuna staked\"}]}}, {\"theme\": \"light\", \"mode\": \"vega-lite\"});\n",
       "</script>"
      ],
      "text/plain": [
       "alt.Chart(...)"
      ]
     },
     "execution_count": 75,
     "metadata": {},
     "output_type": "execute_result"
    }
   ],
   "source": [
    "cp.get_line_chart(daily_delta_stk, \n",
    "               domain = ['yLuna staked'],\n",
    "               range_ = ['#f8936d'],\n",
    "               min_date = daily_delta_stk.Time.min(),\n",
    "               max_date = daily_delta_stk.Time.max(),\n",
    "               top_padding = 10000\n",
    "        )"
   ]
  },
  {
   "cell_type": "markdown",
   "metadata": {},
   "source": [
    "## All deltas"
   ]
  },
  {
   "cell_type": "code",
   "execution_count": 76,
   "metadata": {},
   "outputs": [],
   "source": [
    "all_deltas = dp.daily_delta_rf.append(dp.daily_delta_stk).append(dp.daily_delta_lp).append(dp.daily_delta_stk_farm)"
   ]
  },
  {
   "cell_type": "code",
   "execution_count": 78,
   "metadata": {},
   "outputs": [
    {
     "data": {
      "text/html": [
       "\n",
       "<div id=\"altair-viz-f14f89f90053413eb25e8c0dd144fd66\"></div>\n",
       "<script type=\"text/javascript\">\n",
       "  var VEGA_DEBUG = (typeof VEGA_DEBUG == \"undefined\") ? {} : VEGA_DEBUG;\n",
       "  (function(spec, embedOpt){\n",
       "    let outputDiv = document.currentScript.previousElementSibling;\n",
       "    if (outputDiv.id !== \"altair-viz-f14f89f90053413eb25e8c0dd144fd66\") {\n",
       "      outputDiv = document.getElementById(\"altair-viz-f14f89f90053413eb25e8c0dd144fd66\");\n",
       "    }\n",
       "    const paths = {\n",
       "      \"vega\": \"https://cdn.jsdelivr.net/npm//vega@5?noext\",\n",
       "      \"vega-lib\": \"https://cdn.jsdelivr.net/npm//vega-lib?noext\",\n",
       "      \"vega-lite\": \"https://cdn.jsdelivr.net/npm//vega-lite@4.17.0?noext\",\n",
       "      \"vega-embed\": \"https://cdn.jsdelivr.net/npm//vega-embed@6?noext\",\n",
       "    };\n",
       "\n",
       "    function maybeLoadScript(lib, version) {\n",
       "      var key = `${lib.replace(\"-\", \"\")}_version`;\n",
       "      return (VEGA_DEBUG[key] == version) ?\n",
       "        Promise.resolve(paths[lib]) :\n",
       "        new Promise(function(resolve, reject) {\n",
       "          var s = document.createElement('script');\n",
       "          document.getElementsByTagName(\"head\")[0].appendChild(s);\n",
       "          s.async = true;\n",
       "          s.onload = () => {\n",
       "            VEGA_DEBUG[key] = version;\n",
       "            return resolve(paths[lib]);\n",
       "          };\n",
       "          s.onerror = () => reject(`Error loading script: ${paths[lib]}`);\n",
       "          s.src = paths[lib];\n",
       "        });\n",
       "    }\n",
       "\n",
       "    function showError(err) {\n",
       "      outputDiv.innerHTML = `<div class=\"error\" style=\"color:red;\">${err}</div>`;\n",
       "      throw err;\n",
       "    }\n",
       "\n",
       "    function displayChart(vegaEmbed) {\n",
       "      vegaEmbed(outputDiv, spec, embedOpt)\n",
       "        .catch(err => showError(`Javascript Error: ${err.message}<br>This usually means there's a typo in your chart specification. See the javascript console for the full traceback.`));\n",
       "    }\n",
       "\n",
       "    if(typeof define === \"function\" && define.amd) {\n",
       "      requirejs.config({paths});\n",
       "      require([\"vega-embed\"], displayChart, err => showError(`Error loading script: ${err.message}`));\n",
       "    } else {\n",
       "      maybeLoadScript(\"vega\", \"5\")\n",
       "        .then(() => maybeLoadScript(\"vega-lite\", \"4.17.0\"))\n",
       "        .then(() => maybeLoadScript(\"vega-embed\", \"6\"))\n",
       "        .catch(showError)\n",
       "        .then(() => displayChart(vegaEmbed));\n",
       "    }\n",
       "  })({\"config\": {\"view\": {\"continuousWidth\": 400, \"continuousHeight\": 300, \"strokeOpacity\": 0}}, \"data\": {\"name\": \"data-b86a8081326654ed0687c582f4332124\"}, \"mark\": {\"type\": \"line\", \"point\": true}, \"encoding\": {\"color\": {\"field\": \"Type\", \"legend\": {\"direction\": \"horizontal\", \"legendY\": 0, \"orient\": \"none\", \"padding\": 5}, \"scale\": {\"domain\": [\"yLuna staked\", \"yLuna circulating\", \"yLuna LP\", \"yLuna Farm staked\"], \"range\": [\"#f8936d\", \"lightblue\", \"green\", \"red\"]}, \"sort\": [\"yLuna staked\", \"yLuna circulating\", \"yLuna LP\", \"yLuna Farm staked\"], \"type\": \"nominal\"}, \"tooltip\": [{\"field\": \"Time\", \"format\": \"%Y-%m-%d %H:%M\", \"type\": \"temporal\"}, {\"field\": \"Amount\", \"type\": \"quantitative\"}], \"x\": {\"field\": \"Time\", \"scale\": {\"domain\": [\"2022-02-14\", \"2022-03-07\"]}, \"type\": \"temporal\"}, \"y\": {\"field\": \"Amount\", \"scale\": {\"domain\": [0, 1838336.95]}, \"type\": \"quantitative\"}}, \"width\": 800, \"$schema\": \"https://vega.github.io/schema/vega-lite/v4.17.0.json\", \"datasets\": {\"data-b86a8081326654ed0687c582f4332124\": [{\"Time\": \"2022-02-14\", \"Amount signed\": 886905.699296, \"Amount\": 886905.7, \"Type\": \"yLuna circulating\"}, {\"Time\": \"2022-02-15\", \"Amount signed\": 203535.451347, \"Amount\": 1090441.15, \"Type\": \"yLuna circulating\"}, {\"Time\": \"2022-02-16\", \"Amount signed\": 34802.863363000004, \"Amount\": 1125244.01, \"Type\": \"yLuna circulating\"}, {\"Time\": \"2022-02-17\", \"Amount signed\": 390199.47849999997, \"Amount\": 1515443.49, \"Type\": \"yLuna circulating\"}, {\"Time\": \"2022-02-18\", \"Amount signed\": 18926.17176, \"Amount\": 1534369.66, \"Type\": \"yLuna circulating\"}, {\"Time\": \"2022-02-19\", \"Amount signed\": 8557.163948, \"Amount\": 1542926.83, \"Type\": \"yLuna circulating\"}, {\"Time\": \"2022-02-20\", \"Amount signed\": 4739.7210669999995, \"Amount\": 1547666.55, \"Type\": \"yLuna circulating\"}, {\"Time\": \"2022-02-21\", \"Amount signed\": -6418.023053999999, \"Amount\": 1541248.53, \"Type\": \"yLuna circulating\"}, {\"Time\": \"2022-02-22\", \"Amount signed\": 1663.183897, \"Amount\": 1542911.71, \"Type\": \"yLuna circulating\"}, {\"Time\": \"2022-02-23\", \"Amount signed\": 4500.11243, \"Amount\": 1547411.82, \"Type\": \"yLuna circulating\"}, {\"Time\": \"2022-02-24\", \"Amount signed\": -342.0362129999999, \"Amount\": 1547069.79, \"Type\": \"yLuna circulating\"}, {\"Time\": \"2022-02-25\", \"Amount signed\": 4035.1840310000002, \"Amount\": 1551104.97, \"Type\": \"yLuna circulating\"}, {\"Time\": \"2022-02-26\", \"Amount signed\": 32360.524656999998, \"Amount\": 1583465.5, \"Type\": \"yLuna circulating\"}, {\"Time\": \"2022-02-27\", \"Amount signed\": 478.2207449999994, \"Amount\": 1583943.72, \"Type\": \"yLuna circulating\"}, {\"Time\": \"2022-02-28\", \"Amount signed\": -1117.798882, \"Amount\": 1582825.92, \"Type\": \"yLuna circulating\"}, {\"Time\": \"2022-03-01\", \"Amount signed\": -789.179065, \"Amount\": 1582036.74, \"Type\": \"yLuna circulating\"}, {\"Time\": \"2022-03-02\", \"Amount signed\": 200929.163775, \"Amount\": 1782965.9, \"Type\": \"yLuna circulating\"}, {\"Time\": \"2022-03-03\", \"Amount signed\": 597.3195, \"Amount\": 1783563.22, \"Type\": \"yLuna circulating\"}, {\"Time\": \"2022-03-04\", \"Amount signed\": 2052.998513, \"Amount\": 1785616.22, \"Type\": \"yLuna circulating\"}, {\"Time\": \"2022-03-05\", \"Amount signed\": 7004.864402, \"Amount\": 1792621.08, \"Type\": \"yLuna circulating\"}, {\"Time\": \"2022-03-06\", \"Amount signed\": 33240.376126999996, \"Amount\": 1825861.46, \"Type\": \"yLuna circulating\"}, {\"Time\": \"2022-03-07\", \"Amount signed\": 2475.493692, \"Amount\": 1828336.95, \"Type\": \"yLuna circulating\"}, {\"Time\": \"2022-02-14\", \"Amount signed\": 263973.675194, \"Amount\": 263973.68, \"Type\": \"yLuna staked\"}, {\"Time\": \"2022-02-15\", \"Amount signed\": 785353.298444, \"Amount\": 1049326.97, \"Type\": \"yLuna staked\"}, {\"Time\": \"2022-02-16\", \"Amount signed\": 48822.844771000004, \"Amount\": 1098149.82, \"Type\": \"yLuna staked\"}, {\"Time\": \"2022-02-17\", \"Amount signed\": 398581.74049399997, \"Amount\": 1496731.56, \"Type\": \"yLuna staked\"}, {\"Time\": \"2022-02-18\", \"Amount signed\": 26482.353074, \"Amount\": 1523213.91, \"Type\": \"yLuna staked\"}, {\"Time\": \"2022-02-19\", \"Amount signed\": 9947.130666000001, \"Amount\": 1533161.04, \"Type\": \"yLuna staked\"}, {\"Time\": \"2022-02-20\", \"Amount signed\": 6690.475193, \"Amount\": 1539851.52, \"Type\": \"yLuna staked\"}, {\"Time\": \"2022-02-21\", \"Amount signed\": -5372.310204, \"Amount\": 1534479.21, \"Type\": \"yLuna staked\"}, {\"Time\": \"2022-02-22\", \"Amount signed\": -340.56230799999867, \"Amount\": 1534138.65, \"Type\": \"yLuna staked\"}, {\"Time\": \"2022-02-23\", \"Amount signed\": -1892.4545829999986, \"Amount\": 1532246.19, \"Type\": \"yLuna staked\"}, {\"Time\": \"2022-02-24\", \"Amount signed\": 9215.792161000003, \"Amount\": 1541461.98, \"Type\": \"yLuna staked\"}, {\"Time\": \"2022-02-25\", \"Amount signed\": 6565.445083, \"Amount\": 1548027.43, \"Type\": \"yLuna staked\"}, {\"Time\": \"2022-02-26\", \"Amount signed\": 21591.622122, \"Amount\": 1569619.05, \"Type\": \"yLuna staked\"}, {\"Time\": \"2022-02-27\", \"Amount signed\": 15350.826443, \"Amount\": 1584969.88, \"Type\": \"yLuna staked\"}, {\"Time\": \"2022-02-28\", \"Amount signed\": 5056.461055000001, \"Amount\": 1590026.34, \"Type\": \"yLuna staked\"}, {\"Time\": \"2022-03-01\", \"Amount signed\": -3479.020891000002, \"Amount\": 1586547.32, \"Type\": \"yLuna staked\"}, {\"Time\": \"2022-03-02\", \"Amount signed\": -801.9276639999982, \"Amount\": 1585745.39, \"Type\": \"yLuna staked\"}, {\"Time\": \"2022-03-03\", \"Amount signed\": -37.22532999999703, \"Amount\": 1585708.16, \"Type\": \"yLuna staked\"}, {\"Time\": \"2022-03-04\", \"Amount signed\": 980.5553720000014, \"Amount\": 1586688.72, \"Type\": \"yLuna staked\"}, {\"Time\": \"2022-03-05\", \"Amount signed\": 5166.3548889999975, \"Amount\": 1591855.07, \"Type\": \"yLuna staked\"}, {\"Time\": \"2022-03-06\", \"Amount signed\": 27689.718579999997, \"Amount\": 1619544.79, \"Type\": \"yLuna staked\"}, {\"Time\": \"2022-03-07\", \"Amount signed\": -3.6708679999999845, \"Amount\": 1619541.12, \"Type\": \"yLuna staked\"}, {\"Time\": \"2022-02-14\", \"Amount signed\": 30295.717889, \"Amount\": 30295.72, \"Type\": \"yLuna LP\"}, {\"Time\": \"2022-02-15\", \"Amount signed\": 19098.750501, \"Amount\": 49394.47, \"Type\": \"yLuna LP\"}, {\"Time\": \"2022-02-16\", \"Amount signed\": -243.64577900000026, \"Amount\": 49150.82, \"Type\": \"yLuna LP\"}, {\"Time\": \"2022-02-17\", \"Amount signed\": -5670.718499, \"Amount\": 43480.1, \"Type\": \"yLuna LP\"}, {\"Time\": \"2022-02-18\", \"Amount signed\": -5750.253495, \"Amount\": 37729.85, \"Type\": \"yLuna LP\"}, {\"Time\": \"2022-02-19\", \"Amount signed\": -347.794224, \"Amount\": 37382.06, \"Type\": \"yLuna LP\"}, {\"Time\": \"2022-02-20\", \"Amount signed\": -1535.153719, \"Amount\": 35846.9, \"Type\": \"yLuna LP\"}, {\"Time\": \"2022-02-21\", \"Amount signed\": -344.523163, \"Amount\": 35502.38, \"Type\": \"yLuna LP\"}, {\"Time\": \"2022-02-22\", \"Amount signed\": 4221.634725, \"Amount\": 39724.01, \"Type\": \"yLuna LP\"}, {\"Time\": \"2022-02-23\", \"Amount signed\": 6381.840093999999, \"Amount\": 46105.85, \"Type\": \"yLuna LP\"}, {\"Time\": \"2022-02-24\", \"Amount signed\": -5142.992219, \"Amount\": 40962.86, \"Type\": \"yLuna LP\"}, {\"Time\": \"2022-02-25\", \"Amount signed\": -184.5969300000006, \"Amount\": 40778.27, \"Type\": \"yLuna LP\"}, {\"Time\": \"2022-02-26\", \"Amount signed\": -2248.6323330000005, \"Amount\": 38529.63, \"Type\": \"yLuna LP\"}, {\"Time\": \"2022-02-27\", \"Amount signed\": -926.3304150000004, \"Amount\": 37603.3, \"Type\": \"yLuna LP\"}, {\"Time\": \"2022-02-28\", \"Amount signed\": -5767.3177319999995, \"Amount\": 31835.98, \"Type\": \"yLuna LP\"}, {\"Time\": \"2022-03-01\", \"Amount signed\": 1373.3905169999998, \"Amount\": 33209.38, \"Type\": \"yLuna LP\"}, {\"Time\": \"2022-03-02\", \"Amount signed\": 365.40746799999994, \"Amount\": 33574.78, \"Type\": \"yLuna LP\"}, {\"Time\": \"2022-03-03\", \"Amount signed\": 320.0336219999994, \"Amount\": 33894.82, \"Type\": \"yLuna LP\"}, {\"Time\": \"2022-03-04\", \"Amount signed\": 1117.164672, \"Amount\": 35011.98, \"Type\": \"yLuna LP\"}, {\"Time\": \"2022-03-05\", \"Amount signed\": 1234.2260299999998, \"Amount\": 36246.21, \"Type\": \"yLuna LP\"}, {\"Time\": \"2022-03-06\", \"Amount signed\": 129.60643700000162, \"Amount\": 36375.81, \"Type\": \"yLuna LP\"}, {\"Time\": \"2022-03-07\", \"Amount signed\": 9117.367916, \"Amount\": 45493.18, \"Type\": \"yLuna LP\"}, {\"Time\": \"2022-03-07\", \"Amount signed\": 849622.404565, \"Amount\": 849622.4, \"Type\": \"yLuna Farm staked\"}]}}, {\"theme\": \"light\", \"mode\": \"vega-lite\"});\n",
       "</script>"
      ],
      "text/plain": [
       "alt.Chart(...)"
      ]
     },
     "execution_count": 78,
     "metadata": {},
     "output_type": "execute_result"
    }
   ],
   "source": [
    "cp.get_line_chart(all_deltas, \n",
    "               domain = ['yLuna staked','yLuna circulating','yLuna LP','yLuna Farm staked'],\n",
    "               range_ = ['#f8936d','lightblue','green', 'red'],\n",
    "               min_date = all_deltas.Time.min(),\n",
    "               max_date = all_deltas.Time.max(),\n",
    "               top_padding = 10000\n",
    "        )"
   ]
  },
  {
   "cell_type": "markdown",
   "metadata": {},
   "source": [
    "## Query"
   ]
  },
  {
   "cell_type": "code",
   "execution_count": 204,
   "metadata": {},
   "outputs": [],
   "source": [
    "import requests\n",
    "luna_apr = float(\n",
    "    requests.get('https://api.terra.dev/chart/staking-return/annualized').json(\n",
    "    )[-1]['value']) * 100\n",
    "et_query = requests.get(\n",
    "    'https://api.extraterrestrial.money/v1/api/prices').json()\n",
    "yluna_price = float(et_query['prices']['yLUNA']['price'])\n",
    "luna_price = float(et_query['prices']['LUNA']['price'])\n",
    "yluna_apr = luna_apr * luna_price / yluna_price"
   ]
  },
  {
   "cell_type": "code",
   "execution_count": 205,
   "metadata": {},
   "outputs": [
    {
     "data": {
      "text/plain": [
       "8.43038436469921"
      ]
     },
     "execution_count": 205,
     "metadata": {},
     "output_type": "execute_result"
    }
   ],
   "source": [
    "yluna_apr"
   ]
  },
  {
   "cell_type": "code",
   "execution_count": 206,
   "metadata": {},
   "outputs": [
    {
     "data": {
      "text/plain": [
       "6.932067730925478"
      ]
     },
     "execution_count": 206,
     "metadata": {},
     "output_type": "execute_result"
    }
   ],
   "source": [
    "luna_apr"
   ]
  },
  {
   "cell_type": "code",
   "execution_count": 207,
   "metadata": {},
   "outputs": [
    {
     "data": {
      "text/plain": [
       "84.8540681924912"
      ]
     },
     "execution_count": 207,
     "metadata": {},
     "output_type": "execute_result"
    }
   ],
   "source": [
    "luna_price"
   ]
  },
  {
   "cell_type": "code",
   "execution_count": 260,
   "metadata": {},
   "outputs": [],
   "source": [
    "df = pd.DataFrame(requests.get('https://api.terra.dev/chart/staking-return/annualized').json())\n",
    "df['date'] = pd.to_datetime(df['datetime'], unit='ms')\n",
    "df = df[df['date'] > '2021-07-05 15:00:00']"
   ]
  },
  {
   "cell_type": "code",
   "execution_count": 261,
   "metadata": {},
   "outputs": [],
   "source": [
    "df.value = df.value.apply(float).apply(lambda x: x*100)"
   ]
  },
  {
   "cell_type": "code",
   "execution_count": 262,
   "metadata": {},
   "outputs": [
    {
     "data": {
      "text/html": [
       "\n",
       "<div id=\"altair-viz-37882df99e5e43f4866e89abd55df3d7\"></div>\n",
       "<script type=\"text/javascript\">\n",
       "  var VEGA_DEBUG = (typeof VEGA_DEBUG == \"undefined\") ? {} : VEGA_DEBUG;\n",
       "  (function(spec, embedOpt){\n",
       "    let outputDiv = document.currentScript.previousElementSibling;\n",
       "    if (outputDiv.id !== \"altair-viz-37882df99e5e43f4866e89abd55df3d7\") {\n",
       "      outputDiv = document.getElementById(\"altair-viz-37882df99e5e43f4866e89abd55df3d7\");\n",
       "    }\n",
       "    const paths = {\n",
       "      \"vega\": \"https://cdn.jsdelivr.net/npm//vega@5?noext\",\n",
       "      \"vega-lib\": \"https://cdn.jsdelivr.net/npm//vega-lib?noext\",\n",
       "      \"vega-lite\": \"https://cdn.jsdelivr.net/npm//vega-lite@4.17.0?noext\",\n",
       "      \"vega-embed\": \"https://cdn.jsdelivr.net/npm//vega-embed@6?noext\",\n",
       "    };\n",
       "\n",
       "    function maybeLoadScript(lib, version) {\n",
       "      var key = `${lib.replace(\"-\", \"\")}_version`;\n",
       "      return (VEGA_DEBUG[key] == version) ?\n",
       "        Promise.resolve(paths[lib]) :\n",
       "        new Promise(function(resolve, reject) {\n",
       "          var s = document.createElement('script');\n",
       "          document.getElementsByTagName(\"head\")[0].appendChild(s);\n",
       "          s.async = true;\n",
       "          s.onload = () => {\n",
       "            VEGA_DEBUG[key] = version;\n",
       "            return resolve(paths[lib]);\n",
       "          };\n",
       "          s.onerror = () => reject(`Error loading script: ${paths[lib]}`);\n",
       "          s.src = paths[lib];\n",
       "        });\n",
       "    }\n",
       "\n",
       "    function showError(err) {\n",
       "      outputDiv.innerHTML = `<div class=\"error\" style=\"color:red;\">${err}</div>`;\n",
       "      throw err;\n",
       "    }\n",
       "\n",
       "    function displayChart(vegaEmbed) {\n",
       "      vegaEmbed(outputDiv, spec, embedOpt)\n",
       "        .catch(err => showError(`Javascript Error: ${err.message}<br>This usually means there's a typo in your chart specification. See the javascript console for the full traceback.`));\n",
       "    }\n",
       "\n",
       "    if(typeof define === \"function\" && define.amd) {\n",
       "      requirejs.config({paths});\n",
       "      require([\"vega-embed\"], displayChart, err => showError(`Error loading script: ${err.message}`));\n",
       "    } else {\n",
       "      maybeLoadScript(\"vega\", \"5\")\n",
       "        .then(() => maybeLoadScript(\"vega-lite\", \"4.17.0\"))\n",
       "        .then(() => maybeLoadScript(\"vega-embed\", \"6\"))\n",
       "        .catch(showError)\n",
       "        .then(() => displayChart(vegaEmbed));\n",
       "    }\n",
       "  })({\"config\": {\"view\": {\"continuousWidth\": 400, \"continuousHeight\": 300, \"strokeOpacity\": 0}}, \"data\": {\"name\": \"data-4d01e286136ba7d34dec198fab93de07\"}, \"mark\": {\"type\": \"line\", \"point\": true}, \"encoding\": {\"tooltip\": [{\"field\": \"date\", \"format\": \"%Y-%m-%d %H:%M\", \"type\": \"temporal\"}, {\"field\": \"value\", \"type\": \"quantitative\"}], \"x\": {\"field\": \"date\", \"type\": \"temporal\"}, \"y\": {\"field\": \"value\", \"type\": \"quantitative\"}}, \"height\": 300, \"selection\": {\"selector013\": {\"type\": \"interval\", \"bind\": \"scales\", \"encodings\": [\"x\", \"y\"]}}, \"width\": 800, \"$schema\": \"https://vega.github.io/schema/vega-lite/v4.17.0.json\", \"datasets\": {\"data-4d01e286136ba7d34dec198fab93de07\": [{\"datetime\": 1625583600000, \"value\": 10.516557003519278, \"date\": \"2021-07-06T15:00:00\"}, {\"datetime\": 1625670000000, \"value\": 10.491026750311798, \"date\": \"2021-07-07T15:00:00\"}, {\"datetime\": 1625756400000, \"value\": 13.044786794992497, \"date\": \"2021-07-08T15:00:00\"}, {\"datetime\": 1625842800000, \"value\": 13.018621711538817, \"date\": \"2021-07-09T15:00:00\"}, {\"datetime\": 1625929200000, \"value\": 12.980842022996358, \"date\": \"2021-07-10T15:00:00\"}, {\"datetime\": 1626015600000, \"value\": 10.58600914923499, \"date\": \"2021-07-11T15:00:00\"}, {\"datetime\": 1626102000000, \"value\": 12.137017264230305, \"date\": \"2021-07-12T15:00:00\"}, {\"datetime\": 1626188400000, \"value\": 11.122908591662648, \"date\": \"2021-07-13T15:00:00\"}, {\"datetime\": 1626274800000, \"value\": 9.01084581007032, \"date\": \"2021-07-14T15:00:00\"}, {\"datetime\": 1626361200000, \"value\": 9.009098641530269, \"date\": \"2021-07-15T15:00:00\"}, {\"datetime\": 1626447600000, \"value\": 11.783302182789194, \"date\": \"2021-07-16T15:00:00\"}, {\"datetime\": 1626534000000, \"value\": 11.76095983646648, \"date\": \"2021-07-17T15:00:00\"}, {\"datetime\": 1626620400000, \"value\": 9.16322051391014, \"date\": \"2021-07-18T15:00:00\"}, {\"datetime\": 1626706800000, \"value\": 10.345383816885551, \"date\": \"2021-07-19T15:00:00\"}, {\"datetime\": 1626793200000, \"value\": 11.779331461429784, \"date\": \"2021-07-20T15:00:00\"}, {\"datetime\": 1626879600000, \"value\": 10.350177623129882, \"date\": \"2021-07-21T15:00:00\"}, {\"datetime\": 1626966000000, \"value\": 8.793859400342281, \"date\": \"2021-07-22T15:00:00\"}, {\"datetime\": 1627052400000, \"value\": 8.781738611394935, \"date\": \"2021-07-23T15:00:00\"}, {\"datetime\": 1627138800000, \"value\": 10.748457793486601, \"date\": \"2021-07-24T15:00:00\"}, {\"datetime\": 1627225200000, \"value\": 10.736182507369216, \"date\": \"2021-07-25T15:00:00\"}, {\"datetime\": 1627311600000, \"value\": 7.924369329488165, \"date\": \"2021-07-26T15:00:00\"}, {\"datetime\": 1627398000000, \"value\": 8.700446844478464, \"date\": \"2021-07-27T15:00:00\"}, {\"datetime\": 1627484400000, \"value\": 8.69036277293325, \"date\": \"2021-07-28T15:00:00\"}, {\"datetime\": 1627570800000, \"value\": 7.488051760216094, \"date\": \"2021-07-29T15:00:00\"}, {\"datetime\": 1627657200000, \"value\": 6.0436566490460955, \"date\": \"2021-07-30T15:00:00\"}, {\"datetime\": 1627743600000, \"value\": 6.0189218918786604, \"date\": \"2021-07-31T15:00:00\"}, {\"datetime\": 1627830000000, \"value\": 7.429558053318806, \"date\": \"2021-08-01T15:00:00\"}, {\"datetime\": 1627916400000, \"value\": 7.412265197799364, \"date\": \"2021-08-02T15:00:00\"}, {\"datetime\": 1628002800000, \"value\": 5.962984186180553, \"date\": \"2021-08-03T15:00:00\"}, {\"datetime\": 1628089200000, \"value\": 6.664750011785291, \"date\": \"2021-08-04T15:00:00\"}, {\"datetime\": 1628175600000, \"value\": 6.651635191738864, \"date\": \"2021-08-05T15:00:00\"}, {\"datetime\": 1628262000000, \"value\": 5.85760016350443, \"date\": \"2021-08-06T15:00:00\"}, {\"datetime\": 1628348400000, \"value\": 5.83513880268396, \"date\": \"2021-08-07T15:00:00\"}, {\"datetime\": 1628434800000, \"value\": 5.828565649203045, \"date\": \"2021-08-08T15:00:00\"}, {\"datetime\": 1628521200000, \"value\": 7.4504668698500325, \"date\": \"2021-08-09T15:00:00\"}, {\"datetime\": 1628607600000, \"value\": 7.446653041394663, \"date\": \"2021-08-10T15:00:00\"}, {\"datetime\": 1628694000000, \"value\": 6.747443498576204, \"date\": \"2021-08-11T15:00:00\"}, {\"datetime\": 1628780400000, \"value\": 7.451149652305607, \"date\": \"2021-08-12T15:00:00\"}, {\"datetime\": 1628866800000, \"value\": 6.896967576028995, \"date\": \"2021-08-13T15:00:00\"}, {\"datetime\": 1628953200000, \"value\": 6.163770545446132, \"date\": \"2021-08-14T15:00:00\"}, {\"datetime\": 1629039600000, \"value\": 6.171446172768161, \"date\": \"2021-08-15T15:00:00\"}, {\"datetime\": 1629126000000, \"value\": 6.177594052722483, \"date\": \"2021-08-16T15:00:00\"}, {\"datetime\": 1629212400000, \"value\": 7.328501008541428, \"date\": \"2021-08-17T15:00:00\"}, {\"datetime\": 1629298800000, \"value\": 7.332606205609696, \"date\": \"2021-08-18T15:00:00\"}, {\"datetime\": 1629385200000, \"value\": 6.545677699603236, \"date\": \"2021-08-19T15:00:00\"}, {\"datetime\": 1629471600000, \"value\": 7.088015626609175, \"date\": \"2021-08-20T15:00:00\"}, {\"datetime\": 1629558000000, \"value\": 6.3425230956419565, \"date\": \"2021-08-21T15:00:00\"}, {\"datetime\": 1629644400000, \"value\": 5.641057225003179, \"date\": \"2021-08-22T15:00:00\"}, {\"datetime\": 1629730800000, \"value\": 5.655777957730079, \"date\": \"2021-08-23T15:00:00\"}, {\"datetime\": 1629817200000, \"value\": 5.6772271320502155, \"date\": \"2021-08-24T15:00:00\"}, {\"datetime\": 1629903600000, \"value\": 6.808988109436255, \"date\": \"2021-08-25T15:00:00\"}, {\"datetime\": 1629990000000, \"value\": 6.822681571929383, \"date\": \"2021-08-26T15:00:00\"}, {\"datetime\": 1630076400000, \"value\": 6.349162735081817, \"date\": \"2021-08-27T15:00:00\"}, {\"datetime\": 1630162800000, \"value\": 6.770319441180016, \"date\": \"2021-08-28T15:00:00\"}, {\"datetime\": 1630249200000, \"value\": 5.941616362129911, \"date\": \"2021-08-29T15:00:00\"}, {\"datetime\": 1630335600000, \"value\": 5.415908395149767, \"date\": \"2021-08-30T15:00:00\"}, {\"datetime\": 1630422000000, \"value\": 5.4314569776448, \"date\": \"2021-08-31T15:00:00\"}, {\"datetime\": 1630508400000, \"value\": 5.435023486677212, \"date\": \"2021-09-01T15:00:00\"}, {\"datetime\": 1630594800000, \"value\": 6.486665684172746, \"date\": \"2021-09-02T15:00:00\"}, {\"datetime\": 1630681200000, \"value\": 6.487029847783045, \"date\": \"2021-09-03T15:00:00\"}, {\"datetime\": 1630767600000, \"value\": 5.98510316900736, \"date\": \"2021-09-04T15:00:00\"}, {\"datetime\": 1630854000000, \"value\": 6.455348988526545, \"date\": \"2021-09-05T15:00:00\"}, {\"datetime\": 1630940400000, \"value\": 5.796392905065122, \"date\": \"2021-09-06T15:00:00\"}, {\"datetime\": 1631026800000, \"value\": 5.387584801815339, \"date\": \"2021-09-07T15:00:00\"}, {\"datetime\": 1631113200000, \"value\": 5.390903375995839, \"date\": \"2021-09-08T15:00:00\"}, {\"datetime\": 1631199600000, \"value\": 5.404858813651021, \"date\": \"2021-09-09T15:00:00\"}, {\"datetime\": 1631286000000, \"value\": 5.4054437699698585, \"date\": \"2021-09-10T15:00:00\"}, {\"datetime\": 1631372400000, \"value\": 5.407188200671655, \"date\": \"2021-09-11T15:00:00\"}, {\"datetime\": 1631458800000, \"value\": 4.85975407924238, \"date\": \"2021-09-12T15:00:00\"}, {\"datetime\": 1631545200000, \"value\": 5.2289218251988805, \"date\": \"2021-09-13T15:00:00\"}, {\"datetime\": 1631631600000, \"value\": 4.633662010566134, \"date\": \"2021-09-14T15:00:00\"}, {\"datetime\": 1631718000000, \"value\": 4.179993056694807, \"date\": \"2021-09-15T15:00:00\"}, {\"datetime\": 1631804400000, \"value\": 4.192104768732929, \"date\": \"2021-09-16T15:00:00\"}, {\"datetime\": 1631890800000, \"value\": 4.1901836916703, \"date\": \"2021-09-17T15:00:00\"}, {\"datetime\": 1631977200000, \"value\": 5.33359484112041, \"date\": \"2021-09-18T15:00:00\"}, {\"datetime\": 1632063600000, \"value\": 5.342673290981422, \"date\": \"2021-09-19T15:00:00\"}, {\"datetime\": 1632150000000, \"value\": 5.359129820964404, \"date\": \"2021-09-20T15:00:00\"}, {\"datetime\": 1632236400000, \"value\": 5.368061049717541, \"date\": \"2021-09-21T15:00:00\"}, {\"datetime\": 1632322800000, \"value\": 4.870336398503262, \"date\": \"2021-09-22T15:00:00\"}, {\"datetime\": 1632409200000, \"value\": 4.5004519228558175, \"date\": \"2021-09-23T15:00:00\"}, {\"datetime\": 1632495600000, \"value\": 4.469566496144846, \"date\": \"2021-09-24T15:00:00\"}, {\"datetime\": 1632582000000, \"value\": 4.440472933554478, \"date\": \"2021-09-25T15:00:00\"}, {\"datetime\": 1632668400000, \"value\": 4.421648087780426, \"date\": \"2021-09-26T15:00:00\"}, {\"datetime\": 1632754800000, \"value\": 4.41371270642697, \"date\": \"2021-09-27T15:00:00\"}, {\"datetime\": 1632754800000, \"value\": 3.2643017597381814, \"date\": \"2021-09-27T15:00:00\"}, {\"datetime\": 1632841200000, \"value\": 3.2391974976384743, \"date\": \"2021-09-28T15:00:00\"}, {\"datetime\": 1632841200000, \"value\": 3.2194667828750494, \"date\": \"2021-09-28T15:00:00\"}, {\"datetime\": 1632927600000, \"value\": 3.1615822546748857, \"date\": \"2021-09-29T15:00:00\"}, {\"datetime\": 1633014000000, \"value\": 3.141274764634758, \"date\": \"2021-09-30T15:00:00\"}, {\"datetime\": 1633100400000, \"value\": 3.1303461482603643, \"date\": \"2021-10-01T15:00:00\"}, {\"datetime\": 1633186800000, \"value\": 3.135474179020987, \"date\": \"2021-10-02T15:00:00\"}, {\"datetime\": 1633273200000, \"value\": 3.1428013726110726, \"date\": \"2021-10-03T15:00:00\"}, {\"datetime\": 1633359600000, \"value\": 3.900961884582941, \"date\": \"2021-10-04T15:00:00\"}, {\"datetime\": 1633446000000, \"value\": 3.900863402438279, \"date\": \"2021-10-05T15:00:00\"}, {\"datetime\": 1633532400000, \"value\": 4.463271461749814, \"date\": \"2021-10-06T15:00:00\"}, {\"datetime\": 1633618800000, \"value\": 4.710809518179924, \"date\": \"2021-10-07T15:00:00\"}, {\"datetime\": 1633705200000, \"value\": 4.705443205583982, \"date\": \"2021-10-08T15:00:00\"}, {\"datetime\": 1633791600000, \"value\": 4.7465277644418995, \"date\": \"2021-10-09T15:00:00\"}, {\"datetime\": 1633878000000, \"value\": 4.76252139257176, \"date\": \"2021-10-10T15:00:00\"}, {\"datetime\": 1633964400000, \"value\": 4.773567021161786, \"date\": \"2021-10-11T15:00:00\"}, {\"datetime\": 1634050800000, \"value\": 5.535041007099668, \"date\": \"2021-10-12T15:00:00\"}, {\"datetime\": 1634137200000, \"value\": 5.550760090847503, \"date\": \"2021-10-13T15:00:00\"}, {\"datetime\": 1634223600000, \"value\": 5.304593809077562, \"date\": \"2021-10-14T15:00:00\"}, {\"datetime\": 1634310000000, \"value\": 5.598098054772692, \"date\": \"2021-10-15T15:00:00\"}, {\"datetime\": 1634396400000, \"value\": 5.023528740068745, \"date\": \"2021-10-16T15:00:00\"}, {\"datetime\": 1634482800000, \"value\": 4.7649420788900585, \"date\": \"2021-10-17T15:00:00\"}, {\"datetime\": 1634569200000, \"value\": 4.768354185788393, \"date\": \"2021-10-18T15:00:00\"}, {\"datetime\": 1634655600000, \"value\": 4.7676770610324395, \"date\": \"2021-10-19T15:00:00\"}, {\"datetime\": 1634742000000, \"value\": 5.555339329297085, \"date\": \"2021-10-20T15:00:00\"}, {\"datetime\": 1634828400000, \"value\": 5.5449976056133075, \"date\": \"2021-10-21T15:00:00\"}, {\"datetime\": 1634914800000, \"value\": 5.170089511907223, \"date\": \"2021-10-22T15:00:00\"}, {\"datetime\": 1635001200000, \"value\": 5.397850160307575, \"date\": \"2021-10-23T15:00:00\"}, {\"datetime\": 1635087600000, \"value\": 4.874371627998906, \"date\": \"2021-10-24T15:00:00\"}, {\"datetime\": 1635174000000, \"value\": 4.568720096976426, \"date\": \"2021-10-25T15:00:00\"}, {\"datetime\": 1635260400000, \"value\": 4.56809202554991, \"date\": \"2021-10-26T15:00:00\"}, {\"datetime\": 1635346800000, \"value\": 5.2843314762569085, \"date\": \"2021-10-27T15:00:00\"}, {\"datetime\": 1635433200000, \"value\": 5.262790326587638, \"date\": \"2021-10-28T15:00:00\"}, {\"datetime\": 1635519600000, \"value\": 5.2451076631907565, \"date\": \"2021-10-29T15:00:00\"}, {\"datetime\": 1635606000000, \"value\": 4.7650940035004545, \"date\": \"2021-10-30T15:00:00\"}, {\"datetime\": 1635692400000, \"value\": 5.016200083827373, \"date\": \"2021-10-31T15:00:00\"}, {\"datetime\": 1635778800000, \"value\": 4.609269094557134, \"date\": \"2021-11-01T15:00:00\"}, {\"datetime\": 1635865200000, \"value\": 4.350913716220582, \"date\": \"2021-11-02T15:00:00\"}, {\"datetime\": 1635951600000, \"value\": 4.350408286284216, \"date\": \"2021-11-03T15:00:00\"}, {\"datetime\": 1636038000000, \"value\": 4.347471767936094, \"date\": \"2021-11-04T15:00:00\"}, {\"datetime\": 1636124400000, \"value\": 5.037135915131607, \"date\": \"2021-11-05T15:00:00\"}, {\"datetime\": 1636210800000, \"value\": 4.310277906671074, \"date\": \"2021-11-06T15:00:00\"}, {\"datetime\": 1636297200000, \"value\": 4.55852403270494, \"date\": \"2021-11-07T15:00:00\"}, {\"datetime\": 1636383600000, \"value\": 4.808716362775183, \"date\": \"2021-11-08T15:00:00\"}, {\"datetime\": 1636470000000, \"value\": 4.596727435078938, \"date\": \"2021-11-09T15:00:00\"}, {\"datetime\": 1636556400000, \"value\": 4.5904570142098855, \"date\": \"2021-11-10T15:00:00\"}, {\"datetime\": 1636642800000, \"value\": 4.889593354395635, \"date\": \"2021-11-11T15:00:00\"}, {\"datetime\": 1636729200000, \"value\": 5.995017187073138, \"date\": \"2021-11-12T15:00:00\"}, {\"datetime\": 1636815600000, \"value\": 6.364518874673548, \"date\": \"2021-11-13T15:00:00\"}, {\"datetime\": 1636902000000, \"value\": 6.775421810214801, \"date\": \"2021-11-14T15:00:00\"}, {\"datetime\": 1636988400000, \"value\": 6.810223722155581, \"date\": \"2021-11-15T15:00:00\"}, {\"datetime\": 1637074800000, \"value\": 7.602127089060855, \"date\": \"2021-11-16T15:00:00\"}, {\"datetime\": 1637161200000, \"value\": 7.938446840255361, \"date\": \"2021-11-17T15:00:00\"}, {\"datetime\": 1637247600000, \"value\": 8.313109326128426, \"date\": \"2021-11-18T15:00:00\"}, {\"datetime\": 1637334000000, \"value\": 8.833269626657465, \"date\": \"2021-11-19T15:00:00\"}, {\"datetime\": 1637420400000, \"value\": 9.978125428252735, \"date\": \"2021-11-20T15:00:00\"}, {\"datetime\": 1637506800000, \"value\": 10.347868263488246, \"date\": \"2021-11-21T15:00:00\"}, {\"datetime\": 1637593200000, \"value\": 10.150166440104208, \"date\": \"2021-11-22T15:00:00\"}, {\"datetime\": 1637679600000, \"value\": 10.685818732016267, \"date\": \"2021-11-23T15:00:00\"}, {\"datetime\": 1637766000000, \"value\": 10.957516705654315, \"date\": \"2021-11-24T15:00:00\"}, {\"datetime\": 1637852400000, \"value\": 10.876568664997023, \"date\": \"2021-11-25T15:00:00\"}, {\"datetime\": 1637938800000, \"value\": 10.740131778284168, \"date\": \"2021-11-26T15:00:00\"}, {\"datetime\": 1638025200000, \"value\": 10.775173855761103, \"date\": \"2021-11-27T15:00:00\"}, {\"datetime\": 1638111600000, \"value\": 10.735036502667791, \"date\": \"2021-11-28T15:00:00\"}, {\"datetime\": 1638198000000, \"value\": 10.642925929552652, \"date\": \"2021-11-29T15:00:00\"}, {\"datetime\": 1638284400000, \"value\": 9.940941742789441, \"date\": \"2021-11-30T15:00:00\"}, {\"datetime\": 1638370800000, \"value\": 9.911338794790096, \"date\": \"2021-12-01T15:00:00\"}, {\"datetime\": 1638457200000, \"value\": 9.468086803316684, \"date\": \"2021-12-02T15:00:00\"}, {\"datetime\": 1638543600000, \"value\": 9.066319563886907, \"date\": \"2021-12-03T15:00:00\"}, {\"datetime\": 1638630000000, \"value\": 8.84163339889909, \"date\": \"2021-12-04T15:00:00\"}, {\"datetime\": 1638716400000, \"value\": 8.679767126919874, \"date\": \"2021-12-05T15:00:00\"}, {\"datetime\": 1638802800000, \"value\": 8.517645327771783, \"date\": \"2021-12-06T15:00:00\"}, {\"datetime\": 1638889200000, \"value\": 8.389623417702442, \"date\": \"2021-12-07T15:00:00\"}, {\"datetime\": 1638975600000, \"value\": 8.458735280558244, \"date\": \"2021-12-08T15:00:00\"}, {\"datetime\": 1639062000000, \"value\": 8.570304115510522, \"date\": \"2021-12-09T15:00:00\"}, {\"datetime\": 1639148400000, \"value\": 8.418205982022494, \"date\": \"2021-12-10T15:00:00\"}, {\"datetime\": 1639234800000, \"value\": 8.335985106772412, \"date\": \"2021-12-11T15:00:00\"}, {\"datetime\": 1639321200000, \"value\": 8.42380146610074, \"date\": \"2021-12-12T15:00:00\"}, {\"datetime\": 1639407600000, \"value\": 8.49417660853981, \"date\": \"2021-12-13T15:00:00\"}, {\"datetime\": 1639494000000, \"value\": 9.156899616008136, \"date\": \"2021-12-14T15:00:00\"}, {\"datetime\": 1639580400000, \"value\": 9.212304438520134, \"date\": \"2021-12-15T15:00:00\"}, {\"datetime\": 1639666800000, \"value\": 9.266518754002224, \"date\": \"2021-12-16T15:00:00\"}, {\"datetime\": 1639753200000, \"value\": 9.308081061352713, \"date\": \"2021-12-17T15:00:00\"}, {\"datetime\": 1639839600000, \"value\": 9.152496597520923, \"date\": \"2021-12-18T15:00:00\"}, {\"datetime\": 1639926000000, \"value\": 8.972003381945145, \"date\": \"2021-12-19T15:00:00\"}, {\"datetime\": 1640012400000, \"value\": 8.890042699857146, \"date\": \"2021-12-20T15:00:00\"}, {\"datetime\": 1640098800000, \"value\": 8.767999542440963, \"date\": \"2021-12-21T15:00:00\"}, {\"datetime\": 1640185200000, \"value\": 9.141768464907765, \"date\": \"2021-12-22T15:00:00\"}, {\"datetime\": 1640271600000, \"value\": 8.990360544275417, \"date\": \"2021-12-23T15:00:00\"}, {\"datetime\": 1640358000000, \"value\": 8.29190917610953, \"date\": \"2021-12-24T15:00:00\"}, {\"datetime\": 1640444400000, \"value\": 8.168719804908694, \"date\": \"2021-12-25T15:00:00\"}, {\"datetime\": 1640530800000, \"value\": 8.043080713919053, \"date\": \"2021-12-26T15:00:00\"}, {\"datetime\": 1640617200000, \"value\": 7.944972224029949, \"date\": \"2021-12-27T15:00:00\"}, {\"datetime\": 1640703600000, \"value\": 7.896136241617839, \"date\": \"2021-12-28T15:00:00\"}, {\"datetime\": 1640790000000, \"value\": 7.871114907998029, \"date\": \"2021-12-29T15:00:00\"}, {\"datetime\": 1640876400000, \"value\": 7.851351983686529, \"date\": \"2021-12-30T15:00:00\"}, {\"datetime\": 1640962800000, \"value\": 7.859132737930613, \"date\": \"2021-12-31T15:00:00\"}, {\"datetime\": 1641049200000, \"value\": 7.458317297869903, \"date\": \"2022-01-01T15:00:00\"}, {\"datetime\": 1641135600000, \"value\": 7.562599063978373, \"date\": \"2022-01-02T15:00:00\"}, {\"datetime\": 1641222000000, \"value\": 7.566323266562076, \"date\": \"2022-01-03T15:00:00\"}, {\"datetime\": 1641308400000, \"value\": 7.584125719657951, \"date\": \"2022-01-04T15:00:00\"}, {\"datetime\": 1641394800000, \"value\": 7.628656270020155, \"date\": \"2022-01-05T15:00:00\"}, {\"datetime\": 1641481200000, \"value\": 8.095550066029551, \"date\": \"2022-01-06T15:00:00\"}, {\"datetime\": 1641567600000, \"value\": 8.141303015568282, \"date\": \"2022-01-07T15:00:00\"}, {\"datetime\": 1641654000000, \"value\": 8.311263459917523, \"date\": \"2022-01-08T15:00:00\"}, {\"datetime\": 1641740400000, \"value\": 8.448197135564072, \"date\": \"2022-01-09T15:00:00\"}, {\"datetime\": 1641826800000, \"value\": 8.498136157577987, \"date\": \"2022-01-10T15:00:00\"}, {\"datetime\": 1641913200000, \"value\": 8.437395089336565, \"date\": \"2022-01-11T15:00:00\"}, {\"datetime\": 1641999600000, \"value\": 8.352757267260639, \"date\": \"2022-01-12T15:00:00\"}, {\"datetime\": 1642086000000, \"value\": 8.365023765170692, \"date\": \"2022-01-13T15:00:00\"}, {\"datetime\": 1642172400000, \"value\": 8.73198586866511, \"date\": \"2022-01-14T15:00:00\"}, {\"datetime\": 1642258800000, \"value\": 8.710415220787555, \"date\": \"2022-01-15T15:00:00\"}, {\"datetime\": 1642345200000, \"value\": 8.362272959770415, \"date\": \"2022-01-16T15:00:00\"}, {\"datetime\": 1642431600000, \"value\": 8.337555682817364, \"date\": \"2022-01-17T15:00:00\"}, {\"datetime\": 1642518000000, \"value\": 8.177189497631797, \"date\": \"2022-01-18T15:00:00\"}, {\"datetime\": 1642604400000, \"value\": 8.048115736365041, \"date\": \"2022-01-19T15:00:00\"}, {\"datetime\": 1642690800000, \"value\": 7.994467882703256, \"date\": \"2022-01-20T15:00:00\"}, {\"datetime\": 1642777200000, \"value\": 8.029935619540971, \"date\": \"2022-01-21T15:00:00\"}, {\"datetime\": 1642863600000, \"value\": 8.104712095944407, \"date\": \"2022-01-22T15:00:00\"}, {\"datetime\": 1642950000000, \"value\": 8.181027916699225, \"date\": \"2022-01-23T15:00:00\"}, {\"datetime\": 1643036400000, \"value\": 7.892109749535909, \"date\": \"2022-01-24T15:00:00\"}, {\"datetime\": 1643122800000, \"value\": 7.977026182854904, \"date\": \"2022-01-25T15:00:00\"}, {\"datetime\": 1643209200000, \"value\": 7.964109480883966, \"date\": \"2022-01-26T15:00:00\"}, {\"datetime\": 1643295600000, \"value\": 8.064153287916506, \"date\": \"2022-01-27T15:00:00\"}, {\"datetime\": 1643382000000, \"value\": 8.205975447355069, \"date\": \"2022-01-28T15:00:00\"}, {\"datetime\": 1643468400000, \"value\": 8.354114544977165, \"date\": \"2022-01-29T15:00:00\"}, {\"datetime\": 1643554800000, \"value\": 8.561251188726168, \"date\": \"2022-01-30T15:00:00\"}, {\"datetime\": 1643641200000, \"value\": 8.655912034270658, \"date\": \"2022-01-31T15:00:00\"}, {\"datetime\": 1643727600000, \"value\": 8.726846511765997, \"date\": \"2022-02-01T15:00:00\"}, {\"datetime\": 1643814000000, \"value\": 8.824039137335465, \"date\": \"2022-02-02T15:00:00\"}, {\"datetime\": 1643900400000, \"value\": 8.912772957386291, \"date\": \"2022-02-03T15:00:00\"}, {\"datetime\": 1643986800000, \"value\": 8.949961754964514, \"date\": \"2022-02-04T15:00:00\"}, {\"datetime\": 1644073200000, \"value\": 8.977964354305882, \"date\": \"2022-02-05T15:00:00\"}, {\"datetime\": 1644159600000, \"value\": 9.266351137776931, \"date\": \"2022-02-06T15:00:00\"}, {\"datetime\": 1644246000000, \"value\": 9.218581629000896, \"date\": \"2022-02-07T15:00:00\"}, {\"datetime\": 1644332400000, \"value\": 9.269340963498282, \"date\": \"2022-02-08T15:00:00\"}, {\"datetime\": 1644418800000, \"value\": 9.190451290664694, \"date\": \"2022-02-09T15:00:00\"}, {\"datetime\": 1644505200000, \"value\": 9.179177785092628, \"date\": \"2022-02-10T15:00:00\"}, {\"datetime\": 1644591600000, \"value\": 9.182931011187828, \"date\": \"2022-02-11T15:00:00\"}, {\"datetime\": 1644678000000, \"value\": 9.159987523570365, \"date\": \"2022-02-12T15:00:00\"}, {\"datetime\": 1644764400000, \"value\": 9.565050936354682, \"date\": \"2022-02-13T15:00:00\"}, {\"datetime\": 1644850800000, \"value\": 9.566243558496906, \"date\": \"2022-02-14T15:00:00\"}, {\"datetime\": 1644937200000, \"value\": 9.542593763033635, \"date\": \"2022-02-15T15:00:00\"}, {\"datetime\": 1645023600000, \"value\": 9.269486098843064, \"date\": \"2022-02-16T15:00:00\"}, {\"datetime\": 1645110000000, \"value\": 9.245973966346984, \"date\": \"2022-02-17T15:00:00\"}, {\"datetime\": 1645196400000, \"value\": 9.129198151073247, \"date\": \"2022-02-18T15:00:00\"}, {\"datetime\": 1645282800000, \"value\": 9.110989417073162, \"date\": \"2022-02-19T15:00:00\"}, {\"datetime\": 1645369200000, \"value\": 9.06591446955722, \"date\": \"2022-02-20T15:00:00\"}, {\"datetime\": 1645455600000, \"value\": 9.009207300553173, \"date\": \"2022-02-21T15:00:00\"}, {\"datetime\": 1645542000000, \"value\": 8.929043258948182, \"date\": \"2022-02-22T15:00:00\"}, {\"datetime\": 1645628400000, \"value\": 8.422739416596938, \"date\": \"2022-02-23T15:00:00\"}, {\"datetime\": 1645714800000, \"value\": 8.322003269888752, \"date\": \"2022-02-24T15:00:00\"}, {\"datetime\": 1645801200000, \"value\": 8.207306407843117, \"date\": \"2022-02-25T15:00:00\"}, {\"datetime\": 1645887600000, \"value\": 8.040467677469538, \"date\": \"2022-02-26T15:00:00\"}, {\"datetime\": 1645974000000, \"value\": 7.925045548733702, \"date\": \"2022-02-27T15:00:00\"}, {\"datetime\": 1646060400000, \"value\": 7.7504402550478275, \"date\": \"2022-02-28T15:00:00\"}, {\"datetime\": 1646146800000, \"value\": 7.551346282198904, \"date\": \"2022-03-01T15:00:00\"}, {\"datetime\": 1646233200000, \"value\": 7.360685248627517, \"date\": \"2022-03-02T15:00:00\"}, {\"datetime\": 1646319600000, \"value\": 7.188218651980398, \"date\": \"2022-03-03T15:00:00\"}, {\"datetime\": 1646406000000, \"value\": 7.054812965474758, \"date\": \"2022-03-04T15:00:00\"}, {\"datetime\": 1646492400000, \"value\": 6.932067730925478, \"date\": \"2022-03-05T15:00:00\"}]}}, {\"theme\": \"light\", \"mode\": \"vega-lite\"});\n",
       "</script>"
      ],
      "text/plain": [
       "alt.Chart(...)"
      ]
     },
     "execution_count": 262,
     "metadata": {},
     "output_type": "execute_result"
    }
   ],
   "source": [
    "mars_price_chart = alt.Chart(df).mark_line(point = True).encode(\n",
    "    x=alt.X('date:T'),\n",
    "    y=alt.X('value:Q'),\n",
    "    tooltip=[alt.Tooltip('date:T', format='%Y-%m-%d %H:%M'),'value:Q']\n",
    ").properties(width=800).properties(height=300).configure_view(strokeOpacity=0).interactive()\n",
    "mars_price_chart"
   ]
  },
  {
   "cell_type": "code",
   "execution_count": null,
   "metadata": {},
   "outputs": [],
   "source": []
  }
 ],
 "metadata": {
  "kernelspec": {
   "display_name": "Python 3 (ipykernel)",
   "language": "python",
   "name": "python3"
  },
  "language_info": {
   "codemirror_mode": {
    "name": "ipython",
    "version": 3
   },
   "file_extension": ".py",
   "mimetype": "text/x-python",
   "name": "python",
   "nbconvert_exporter": "python",
   "pygments_lexer": "ipython3",
   "version": "3.8.2"
  }
 },
 "nbformat": 4,
 "nbformat_minor": 4
}
