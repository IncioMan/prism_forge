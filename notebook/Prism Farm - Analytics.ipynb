{
 "cells": [
  {
   "cell_type": "code",
   "execution_count": 517,
   "metadata": {
    "scrolled": true
   },
   "outputs": [],
   "source": [
    "import pandas as pd\n",
    "import altair as alt\n",
    "import warnings\n",
    "warnings.filterwarnings(\"ignore\")\n",
    "alt.renderers.set_embed_options(theme='light')\n",
    "pd.set_option(\"display.max_colwidth\", 400)\n",
    "pd.set_option(\"display.max_rows\", 400)\n"
   ]
  },
  {
   "cell_type": "markdown",
   "metadata": {},
   "source": [
    "Trend line of what yLUNA is being used for?  PRISM Farm, yLUNA Staking, LPing, or Nothing."
   ]
  },
  {
   "cell_type": "code",
   "execution_count": 518,
   "metadata": {},
   "outputs": [],
   "source": [
    "class DataProvider:\n",
    "    def __init__(self, claim, get_url, path_to_data='../data'):\n",
    "        self.refract = 'c5ac5e60-7da0-429f-98e8-19ccdd77d835'\n",
    "        self.refract_cluna = '5b0257c3-e93b-49d4-93f6-e370bc3b3f50'\n",
    "        self.lping = '879d0260-93a9-4576-a1bd-2cc3dc26bf13'\n",
    "        self.ystaking = '3ff0fc49-5a0d-4cdf-a8ab-33f8ea7e755f'\n",
    "        self.ystaking_farm = '05d91866-0193-4231-b2ca-1774fbd5742a'\n",
    "        self.swaps = '1bfd8019-89a1-470d-8868-60d71e57d1d0'\n",
    "        self.router = '69b149fb-81ba-4860-aac1-b17f0d6d7688'\n",
    "        self.collector = '2ab62a07-3882-48e6-bdc6-d9e592aee2d8'\n",
    "        self.claim = claim\n",
    "        self.get_url = get_url\n",
    "        self.path_to_data = path_to_data\n",
    "        self.dates_to_mark = pd.DataFrame([\n",
    "            ['2022-02-13', '2022-02-13',2000000,'Prism Forge'], \n",
    "            ['2022-03-06', '2022-03-06',2400000,'Prism Farm']], \n",
    "            columns=['text_date','date','height','text']\n",
    "        )\n",
    "        \n",
    "    def load_from_url(self):\n",
    "        self.ystaking_farm_df = self.claim(self.ystaking_farm)\n",
    "        self.lping_df = self.claim(self.lping)\n",
    "        self.refract_df = self.claim(self.refract)\n",
    "        self.refract_cluna_df = self.claim(self.refract_cluna)\n",
    "        self.ystaking_df = self.claim(self.ystaking)\n",
    "        self.swaps_df = self.claim(self.swaps)\n",
    "        self.router_df = self.claim(self.router)\n",
    "        self.collector_df = self.claim(self.collector)\n",
    "    \n",
    "    def write_to_csv(self):\n",
    "        self.ystaking_farm_df.to_csv(f'{self.path_to_data}/ystaking_farm.csv')\n",
    "        self.lping_df.to_csv(f'{self.path_to_data}/lping.csv')\n",
    "        self.refract_df.to_csv(f'{self.path_to_data}/refract.csv')\n",
    "        self.refract_cluna_df.to_csv(f'{self.path_to_data}/refract_cluna.csv')\n",
    "        self.ystaking_df.to_csv(f'{self.path_to_data}/ystaking.csv')\n",
    "        self.swaps_df.to_csv(f'{self.path_to_data}/swaps.csv')\n",
    "        self.router_df.to_csv(f'{self.path_to_data}/router.csv')\n",
    "        self.collector_df.to_csv(f'{self.path_to_data}/collector.csv')\n",
    "        \n",
    "    def load_from_csv(self):\n",
    "        self.ystaking_farm_df = pd.read_csv(f'{self.path_to_data}/ystaking_farm.csv', index_col=0)\n",
    "        self.lping_df = pd.read_csv(f'{self.path_to_data}/lping.csv', index_col=0)\n",
    "        self.refract_df = pd.read_csv(f'{self.path_to_data}/refract.csv', index_col=0)\n",
    "        self.refract_cluna_df = pd.read_csv(f'{self.path_to_data}/refract_cluna.csv', index_col=0)\n",
    "        self.ystaking_df = pd.read_csv(f'{self.path_to_data}/ystaking.csv', index_col=0)\n",
    "        self.swaps_df = pd.read_csv(f'{self.path_to_data}/swaps.csv', index_col=0)\n",
    "        self.router_df = pd.read_csv(f'{self.path_to_data}/router.csv', index_col=0)\n",
    "        self.collector_df = pd.read_csv(f'{self.path_to_data}/collector.csv', index_col=0)\n",
    "        \n",
    "    def polish_lping(self):\n",
    "        self.lping_df['action'] = self.lping_df.apply(lambda row: row['0_action'] if row['0_action'] == 'provide_liquidity' else row['1_action'],axis=1)\n",
    "        self.lping_df.block_timestamp=self.lping_df.block_timestamp.apply(str).apply(lambda x: x[:-4] if len(x) == 23 else x)\n",
    "        self.lping_df.block_timestamp=self.lping_df.block_timestamp.apply(str).apply(lambda x: x[:-3] if len(x) == 22 else x)\n",
    "        provide_ = self.lping_df[self.lping_df.action=='provide_liquidity']\n",
    "        withdraw_ = self.lping_df[self.lping_df.action=='withdraw_liquidity']\n",
    "        #\n",
    "        provide_['prism_amount'] = provide_.apply(lambda row: row['2_amount'] if row['1_contract_address'] == 'terra1dh9478k2qvqhqeajhn75a2a7dsnf74y5ukregw' else row['3_amount'],axis=1)\n",
    "        provide_['yluna_amount'] = provide_.apply(lambda row: row['1_amount'] if row['2_contract_address'] == 'terra17wkadg0tah554r35x6wvff0y5s7ve8npcjfuhz' else row['2_amount'],axis=1)\n",
    "        provide_['sender'] = provide_['from_']\n",
    "        provide_['hr'] = provide_.block_timestamp.str[:-5] + '00:00.000'\n",
    "        provide_['day'] = provide_.block_timestamp.str[:-9]\n",
    "        provide_ = provide_[['block_timestamp','sender','tx_id','action','prism_amount','yluna_amount','hr','day']]\n",
    "        provide_['amount_signed'] = provide_.yluna_amount\n",
    "        provide_['type'] = 'provide_lp'\n",
    "        self.provide_ = provide_\n",
    "        #\n",
    "        withdraw_['prism_amount'] = withdraw_.apply(lambda row: row['1_amount'] if row['2_contract_address'] == 'terra1dh9478k2qvqhqeajhn75a2a7dsnf74y5ukregw' else row['2_amount'],axis=1)\n",
    "        withdraw_['yluna_amount'] = withdraw_.apply(lambda row: row['2_amount'] if row['3_contract_address'] == 'terra17wkadg0tah554r35x6wvff0y5s7ve8npcjfuhz' else row['1_amount'],axis=1)\n",
    "        withdraw_['sender'] = withdraw_['from_']\n",
    "        withdraw_['hr'] = withdraw_.block_timestamp.str[:-5] + '00:00.000'\n",
    "        withdraw_['day'] = withdraw_.block_timestamp.str[:-9]\n",
    "        withdraw_ = withdraw_[['block_timestamp','sender','tx_id','action','prism_amount','yluna_amount','hr','day']]\n",
    "        withdraw_['amount_signed'] = -withdraw_.yluna_amount\n",
    "        withdraw_['type'] = 'withdraw_lp'\n",
    "        self.withdraw_ = withdraw_\n",
    "\n",
    "        \n",
    "    def polish_refracting_cluna(self):\n",
    "        self.refract_cluna_df['user'] = self.refract_cluna_df['from_']\n",
    "        self.refract_cluna_df_pol = self.refract_cluna_df[['block_timestamp','tx_id','user','0_action','0_amount']]\n",
    "        self.refract_cluna_df_pol.columns = ['block_timestamp','tx_id','user','action','amount']\n",
    "        self.refract_cluna_df_pol['asset_given'] = 'cLUNA'\n",
    "        self.refract_cluna_df_pol['asset_received'] = 'yLUNA'\n",
    "        self.refract_cluna_df_pol['operation'] = 'refraction'\n",
    "        self.refract_cluna_df_pol.block_timestamp=self.refract_cluna_df_pol.block_timestamp.apply(str).apply(lambda x: x[:-4] if len(x) == 23 else x)\n",
    "        self.refract_cluna_df_pol.block_timestamp=self.refract_cluna_df_pol.block_timestamp.apply(str).apply(lambda x: x[:-3] if len(x) == 22 else x)\n",
    "        self.refract_cluna_df_pol['hr'] = self.refract_cluna_df_pol.block_timestamp.str[:-5] + '00:00.000'\n",
    "        self.refract_cluna_df_pol['day'] = self.refract_cluna_df_pol.block_timestamp.str[:-9]\n",
    "        self.refract_cluna_df_pol['amount_signed'] = self.refract_cluna_df_pol.amount\n",
    "        \n",
    "    def polish_refracting_luna(self):\n",
    "        self.refract_df['user'] = self.refract_df.apply(lambda row: row.from_ if row['0_action']=='bond_split' else row.to_, axis=1)\n",
    "        self.refract_df_pol = self.refract_df[['block_timestamp','tx_id','user','0_action','0_amount']]\n",
    "        self.refract_df_pol.columns = ['block_timestamp','tx_id','user','action','amount']\n",
    "        self.refract_df_pol['asset_given'] = self.refract_df_pol.apply(lambda row: 'LUNA' if row['action']=='bond_split' else 'yLUNA',axis=1)\n",
    "        self.refract_df_pol['asset_received'] = self.refract_df_pol.apply(lambda row: 'yLUNA' if row['action']=='bond_split' else 'LUNA',axis=1)\n",
    "        self.refract_df_pol['operation'] = 'refraction'\n",
    "        self.refract_df_pol.block_timestamp=self.refract_df_pol.block_timestamp.apply(str).apply(lambda x: x[:-4] if len(x) == 23 else x)\n",
    "        self.refract_df_pol.block_timestamp=self.refract_df_pol.block_timestamp.apply(str).apply(lambda x: x[:-3] if len(x) == 22 else x)\n",
    "        self.refract_df_pol['hr'] = self.refract_df_pol.block_timestamp.str[:-5] + '00:00.000'\n",
    "        self.refract_df_pol['day'] = self.refract_df_pol.block_timestamp.str[:-9]\n",
    "        self.refract_df_pol['amount_signed'] = self.refract_df_pol.apply(lambda row: -row.amount \n",
    "                                                        if row.action=='burn_from' else row.amount,axis=1)\n",
    "        \n",
    "    def polish_refracting(self):\n",
    "        self.polish_refracting_cluna()\n",
    "        self.polish_refracting_luna()\n",
    "        self.all_refreact = self.refract_df_pol.append(self.refract_cluna_df_pol)\n",
    "        daily_delta_rf = self.all_refreact.groupby('day').amount_signed.sum().reset_index()\n",
    "        daily_delta_rf = daily_delta_rf.sort_values(by='day')\n",
    "        daily_delta_rf['cumsum'] = daily_delta_rf.amount_signed.cumsum().apply(lambda x: round(x,2))\n",
    "        daily_delta_rf.columns = ['Time', 'Amount signed', 'Amount']\n",
    "        daily_delta_rf['Type'] = 'yLuna circulating'\n",
    "        self.daily_delta_rf = daily_delta_rf\n",
    "        \n",
    "    def polish_ystaking(self):\n",
    "        self.ystaking_df['action'] = self.ystaking_df.apply(lambda row: row['0_action'] if row['0_action']=='unbond' else row['1_action'],axis=1)\n",
    "        self.ystaking_df['amount'] = self.ystaking_df.apply(lambda row: row['0_amount'] if row['0_action']=='unbond' else row['1_amount'],axis=1)\n",
    "        self.ystaking_df['user'] = self.ystaking_df.apply(lambda row: row['to_'] if row.action=='unbond' else row['from_'],axis=1)\n",
    "        self.ystaking_df['asset_given'] = self.ystaking_df.apply(lambda row: None if row.action=='unbond' else 'yLUNA',axis=1)\n",
    "        self.ystaking_df['asset_received'] = self.ystaking_df.apply(lambda row: 'yLUNA' if row.action=='unbond' else None,axis=1)\n",
    "        self.ystaking_df.block_timestamp=self.ystaking_df.block_timestamp.apply(str).apply(lambda x: x[:-4] if len(x) == 23 else x)\n",
    "        self.ystaking_df.block_timestamp=self.ystaking_df.block_timestamp.apply(str).apply(lambda x: x[:-3] if len(x) == 22 else x)\n",
    "        self.ystaking_df['day'] = self.ystaking_df.hr.apply(str).str[:-13]\n",
    "        self.ystaking_df = self.ystaking_df[['block_timestamp','tx_id','hr','day','action','amount','user','asset_given','asset_received']]\n",
    "        self.ystaking_df['amount_signed'] = self.ystaking_df.apply(lambda row: row.amount if row.action=='bond' else -row.amount,axis=1)\n",
    "        \n",
    "    def polish_ystaking_farm(self):\n",
    "        self.ystaking_farm_df['action'] = self.ystaking_farm_df.apply(lambda row: row['3_action'] if row['3_action']=='bond' else row['1_action'], axis=1)\n",
    "        self.ystaking_farm_df['amount'] = self.ystaking_farm_df.apply(lambda row: float(row['0_amount']) if row['action']=='bond' else float(row['0_amount']), axis=1)\n",
    "        self.ystaking_farm_df = self.ystaking_farm_df[['block_timestamp','tx_id','sender','action','amount']]\n",
    "        self.ystaking_farm_df.block_timestamp=self.ystaking_farm_df.block_timestamp.apply(str).apply(lambda x: x[:-4] if len(x) == 23 else x)\n",
    "        self.ystaking_farm_df.block_timestamp=self.ystaking_farm_df.block_timestamp.apply(str).apply(lambda x: x[:-3] if len(x) == 22 else x)\n",
    "        self.ystaking_farm_df['hr'] = self.ystaking_farm_df.block_timestamp.str[:-5] + '00:00.000'\n",
    "        self.ystaking_farm_df['day'] = self.ystaking_farm_df.block_timestamp.str[:-9]\n",
    "        self.ystaking_farm_df['amount_signed'] = self.ystaking_farm_df.apply(lambda row: row.amount if row.action=='bond' else -row.amount,axis=1)\n",
    "        \n",
    "        \n",
    "    def polish_simple_swaps(self):\n",
    "        swaps_df = self.swaps_df[self.swaps_df.ask_asset != '']\n",
    "        swaps_df = swaps_df[swaps_df.sender.notna()]\n",
    "        swaps_df_pol = swaps_df.rename(columns={'sender':'user','ask_asset':'asset_received','offer_asset':'asset_given'})\n",
    "        swaps_df_pol = swaps_df_pol[['block_timestamp','tx_id','price','user','asset_received','return_amount','asset_given','offer_amount']]\n",
    "        swaps_df_pol['operation'] = 'swap'\n",
    "        self.swaps_df_pol = swaps_df_pol\n",
    "    \n",
    "    def polish_router(self):\n",
    "        router_df = self.router_df.rename(columns={'sender':'user'})\n",
    "        router_df_1 = router_df[['block_timestamp','tx_id','0_ask_asset','0_offer_amount','0_offer_asset','0_price','0_return_amount','user']]\n",
    "        router_df_1 = router_df_1.rename(columns={'0_ask_asset':'asset_received','0_offer_amount':'offer_amount',\n",
    "                           '0_price':'price','0_return_amount':'return_amount','0_offer_asset':'asset_given'})\n",
    "        router_df_2 = router_df[['block_timestamp','tx_id','1_ask_asset','1_offer_amount','1_offer_asset','1_price','1_return_amount','user']]\n",
    "        router_df_2 = router_df_2.rename(columns={'1_ask_asset':'asset_received','1_offer_amount':'offer_amount',\n",
    "                           '1_price':'price','1_return_amount':'return_amount','1_offer_asset':'asset_given'})\n",
    "        router_df_pol = router_df_1.append(router_df_2)\n",
    "        router_df_pol['operation'] = 'swap'\n",
    "        self.router_df_pol = router_df_pol\n",
    "    \n",
    "    def polish_swaps(self):\n",
    "        self.polish_simple_swaps()\n",
    "        self.polish_router()\n",
    "        self.swaps_df_all = self.router_df_pol.append(self.swaps_df_pol[self.router_df_pol.columns])\n",
    "        self.swaps_df_all.block_timestamp=self.swaps_df_all.block_timestamp.apply(str).apply(lambda x: x[:-4] if len(x) == 23 else x)\n",
    "        self.swaps_df_all.block_timestamp=self.swaps_df_all.block_timestamp.apply(str).apply(lambda x: x[:-3] if len(x) == 22 else x)\n",
    "        self.swaps_df_all['hr'] = self.swaps_df_all.block_timestamp.str[:-5] + '00:00.000'\n",
    "        self.swaps_df_all['day'] = self.swaps_df_all.block_timestamp.str[:-9]\n",
    "        #\n",
    "        yluna_swaps = self.swaps_df_all[(self.swaps_df_all.asset_given=='yLUNA')|(self.swaps_df_all.asset_received=='yLUNA')]\n",
    "        yluna_swaps['amount_signed'] = yluna_swaps.apply(lambda row: row.offer_amount if row.asset_given == 'yLUNA' else -row.return_amount,axis=1)\n",
    "        yluna_swaps['type'] = 'swap'\n",
    "        self.yluna_swaps = yluna_swaps\n",
    "    \n",
    "    def get_amount_yluna(self,row):\n",
    "        #Swapping Prism for yLuna\n",
    "        for i in range(-1,6):\n",
    "            prefix = f\"{i}_\" if i >= 0 else \"\"\n",
    "            if(row[f'{prefix}offer_asset'] == 'cw20:terra17wkadg0tah554r35x6wvff0y5s7ve8npcjfuhz'):\n",
    "                return row[f'{prefix}offer_amount']\n",
    "        #Asking for yLuna from the pool\n",
    "        for i in range(-1,6):\n",
    "            prefix = f\"{i}_\" if i >= 0 else \"\"\n",
    "            if(row[f'{prefix}ask_asset'] == 'cw20:terra17wkadg0tah554r35x6wvff0y5s7ve8npcjfuhz'):\n",
    "                return -row[f'{prefix}return_amount']\n",
    "        #Swapping PRISM for yLuna\n",
    "        for i in range(-1,6):\n",
    "            prefix = f\"{i}_\" if i >= 0 else \"\"\n",
    "            if(row[f'{prefix}contract_address'] == 'terra1kqc65n5060rtvcgcktsxycdt2a4r67q2zlvhce'):\n",
    "                if(row[f'{prefix}from'] == 'terra1kqc65n5060rtvcgcktsxycdt2a4r67q2zlvhce'):\n",
    "                    if(row[f'{prefix}action'] == 'swap'):\n",
    "                        return row[f'{i}_amount']\n",
    "        #Sending yLuna to the pool\n",
    "        for i in range(-1,6):\n",
    "            prefix = f\"{i}_\" if i >= 0 else \"\"\n",
    "            if(row[f'{prefix}contract_address'] == 'terra1dh9478k2qvqhqeajhn75a2a7dsnf74y5ukregw'):\n",
    "                if(row[f'{prefix}from'] == 'terra1kqc65n5060rtvcgcktsxycdt2a4r67q2zlvhce'):\n",
    "                    if(row[f'{prefix}action'] == 'send'):\n",
    "                        return row[f'{prefix}amount']\n",
    "    \n",
    "    def polish_collector_and_others(self):\n",
    "        lp_txs = self.withdraw_[['tx_id']].append(self.provide_[['tx_id']])\\\n",
    "                            .append(self.yluna_swaps[['tx_id']])\n",
    "        self.collector_df.block_timestamp=self.collector_df.block_timestamp.apply(str).apply(lambda x: x[:-4] if len(x) == 23 else x)\n",
    "        self.collector_df.block_timestamp=self.collector_df.block_timestamp.apply(str).apply(lambda x: x[:-3] if len(x) == 22 else x)\n",
    "        self.collector_df['hr'] = self.collector_df.block_timestamp.str[:-5] + '00:00.000'\n",
    "        self.collector_df['day'] = self.collector_df.block_timestamp.str[:-9]\n",
    "        self.collector_df = self.collector_df[self.collector_df.tx_id.isin(set(dp.collector_df.tx_id.unique()).difference(lp_txs.tx_id.unique()))]\n",
    "        self.collector_df['amount_signed'] = self.collector_df.apply(self.get_amount_yluna,axis=1)/1000000\n",
    "        self.collector_df['type'] = 'collector_and_other'\n",
    "        \n",
    "    def polish(self):\n",
    "        self.polish_lping()\n",
    "        self.polish_refracting()\n",
    "        self.polish_ystaking()\n",
    "        self.polish_ystaking_farm()\n",
    "        self.polish_swaps()\n",
    "        self.polish_collector_and_others()\n",
    "    \n",
    "    def lp_delta(self):\n",
    "        self.all_lps = self.withdraw_[['day','amount_signed','tx_id','type','block_timestamp']]\\\n",
    "                            .append(self.provide_[['day','amount_signed','tx_id','type','block_timestamp']])\\\n",
    "                            .append(self.yluna_swaps[['day','amount_signed','tx_id','type','block_timestamp']])\\\n",
    "                            .append(self.collector_df[['day','amount_signed','tx_id','type','block_timestamp']])\n",
    "        daily_delta_lp = self.all_lps.groupby('day').amount_signed.sum().reset_index()\n",
    "        daily_delta_lp = daily_delta_lp.sort_values(by='day')\n",
    "        daily_delta_lp['cumsum'] = daily_delta_lp.amount_signed.cumsum().apply(lambda x: round(x,2))\n",
    "        daily_delta_lp.columns = ['Time', 'Amount signed', 'Amount']\n",
    "        daily_delta_lp['Type'] = 'yLuna LP'\n",
    "        self.daily_delta_lp = daily_delta_lp\n",
    "        \n",
    "    def stk_farm_delta(self):\n",
    "        daily_delta_stk_farm = self.ystaking_farm_df.groupby('day').amount_signed.sum().reset_index()\n",
    "        daily_delta_stk_farm = daily_delta_stk_farm.sort_values(by='day')\n",
    "        daily_delta_stk_farm['cumsum'] = daily_delta_stk_farm.amount_signed.cumsum().apply(lambda x: round(x,2))\n",
    "        daily_delta_stk_farm.columns = ['Time', 'Amount signed', 'Amount']\n",
    "        daily_delta_stk_farm['Type'] = 'yLuna Farm staked'\n",
    "        self.daily_delta_stk_farm = daily_delta_stk_farm\n",
    "        \n",
    "    def stk_delta(self):\n",
    "        daily_delta_stk = self.ystaking_df.groupby('day').amount_signed.sum().reset_index()\n",
    "        daily_delta_stk = daily_delta_stk.sort_values(by='day')\n",
    "        daily_delta_stk['cumsum'] = daily_delta_stk.amount_signed.cumsum().apply(lambda x: round(x,2))\n",
    "        daily_delta_stk.columns = ['Time', 'Amount signed', 'Amount']\n",
    "        daily_delta_stk['Type'] = 'yLuna staked'\n",
    "        self.daily_delta_stk = daily_delta_stk\n",
    "    \n",
    "    def unused_yluna(self):\n",
    "        self.y_used = self.all_deltas[self.all_deltas.Type.isin(['yLuna LP','yLuna staked','yLuna Farm staked'])]\n",
    "        y_tot = self.all_deltas[self.all_deltas.Type.isin(['yLuna circulating'])]\n",
    "        y_unused = self.y_used.groupby('Time').Amount.sum().rename('Amount_used').reset_index().merge(y_tot, on='Time')\n",
    "        y_unused['Amount_delta'] = y_unused['Amount'] - y_unused['Amount_used']\n",
    "        y_unused['Amount_delta'] = y_unused['Amount_delta'].apply(lambda x: x if x>0 else 0)\n",
    "        y_unused = y_unused[['Time','Amount signed','Amount_delta','Type']]\n",
    "        y_unused['Type'] = 'yLuna unused'\n",
    "        y_unused.columns = ['Time','Amount signed','Amount','Type']\n",
    "        self.y_unused = y_unused\n",
    "        \n",
    "    def daily_delta(self):\n",
    "        self.lp_delta()\n",
    "        self.stk_farm_delta()\n",
    "        self.stk_delta()\n",
    "        self.all_deltas = self.daily_delta_rf.append(self.daily_delta_stk)\\\n",
    "                                    .append(self.daily_delta_lp)\\\n",
    "                                    .append(self.daily_delta_stk_farm)\n",
    "        self.unused_yluna()\n",
    "        \n",
    "        \n",
    "    def fill_date_gaps(self, dff, extra_dates=[]):\n",
    "        dd = dff.Time.unique()\n",
    "        dd = [*dd,*extra_dates]\n",
    "        unique_dates = pd.Series(dd).rename('Time').reset_index().drop(columns='index')\n",
    "        for t in dff.Type.unique():\n",
    "            df = dff[dff.Type==t]\n",
    "            last_date = df.Time.max()\n",
    "            last_value = df[df.Time==last_date].Amount.values[0]\n",
    "            df = df.merge(unique_dates, on='Time', how='right')\n",
    "            df = df[df.Type.isna()]\n",
    "            df['Type'] = t\n",
    "            df['Amount'] = df.apply(lambda row: last_value if row.Time>last_date else 0,axis=1)\n",
    "            dff = dff.append(df.fillna(0))\n",
    "        return dff\n"
   ]
  },
  {
   "cell_type": "code",
   "execution_count": 519,
   "metadata": {},
   "outputs": [],
   "source": [
    "def claim(claim_hash):\n",
    "    df = pd.read_json(\n",
    "            f\"https://api.flipsidecrypto.com/api/v2/queries/{claim_hash}/data/latest\",\n",
    "            convert_dates=[\"BLOCK_TIMESTAMP\"])\n",
    "    df.columns = [c.lower() for c in df.columns]\n",
    "    return df"
   ]
  },
  {
   "cell_type": "code",
   "execution_count": 520,
   "metadata": {},
   "outputs": [],
   "source": [
    "def get_url(url):\n",
    "    return pd.read_csv(url, index_col=0)"
   ]
  },
  {
   "cell_type": "code",
   "execution_count": 521,
   "metadata": {},
   "outputs": [],
   "source": [
    "class ChartProvider:\n",
    "    def __init__(self):\n",
    "        pass\n",
    "    \n",
    "    def get_yluna_time_area_chart(self, df, scale_, min_date=None, max_date=None, top_padding=0):\n",
    "        max_date = df['Time'].max()\n",
    "        df['Amount (millions)'] = round(df['Amount']/1000000,2).apply(str)+'M'\n",
    "        chart = alt.Chart(df).mark_area().encode(\n",
    "            x=alt.X('Time:T',scale=alt.Scale(domain=(min_date,max_date))),\n",
    "            y=alt.X('Amount:Q',scale=alt.Scale(domain=(0,df['Amount'].max()+top_padding))),\n",
    "            color=alt.Color('Type:N', \n",
    "                        scale=scale_,\n",
    "                        legend=alt.Legend(\n",
    "                                    orient='none',\n",
    "                                    padding=5,\n",
    "                                    legendY=0,\n",
    "                                    direction='vertical')),\n",
    "            tooltip=[alt.Tooltip('Time:T', format='%Y-%m-%d'),'Type:N','Amount (millions):N']\n",
    "        )\n",
    "        return chart"
   ]
  },
  {
   "cell_type": "code",
   "execution_count": 525,
   "metadata": {},
   "outputs": [],
   "source": [
    "dp = DataProvider(claim,get_url,'../data')\n",
    "dp.load_from_url()\n",
    "dp.write_to_csv()\n",
    "dp.polish()\n",
    "dp.daily_delta()"
   ]
  },
  {
   "cell_type": "code",
   "execution_count": 526,
   "metadata": {},
   "outputs": [],
   "source": [
    "dp = DataProvider(claim,get_url,'../data')\n",
    "dp.load_from_csv()\n",
    "dp.polish()\n",
    "dp.daily_delta()"
   ]
  },
  {
   "cell_type": "markdown",
   "metadata": {},
   "source": [
    "### Check LP txs"
   ]
  },
  {
   "cell_type": "code",
   "execution_count": 563,
   "metadata": {},
   "outputs": [],
   "source": [
    "#Check the txs missing for the pool (get complete list from ET)\n",
    "contract = 'terra1kqc65n5060rtvcgcktsxycdt2a4r67q2zlvhce'\n",
    "txs = pd.read_csv(f'../data/txs/{contract}.csv', index_col=0)\n",
    "txs.timestamp = pd.to_datetime(txs.timestamp)"
   ]
  },
  {
   "cell_type": "code",
   "execution_count": 564,
   "metadata": {
    "scrolled": true
   },
   "outputs": [
    {
     "data": {
      "text/html": [
       "<div>\n",
       "<style scoped>\n",
       "    .dataframe tbody tr th:only-of-type {\n",
       "        vertical-align: middle;\n",
       "    }\n",
       "\n",
       "    .dataframe tbody tr th {\n",
       "        vertical-align: top;\n",
       "    }\n",
       "\n",
       "    .dataframe thead th {\n",
       "        text-align: right;\n",
       "    }\n",
       "</style>\n",
       "<table border=\"1\" class=\"dataframe\">\n",
       "  <thead>\n",
       "    <tr style=\"text-align: right;\">\n",
       "      <th></th>\n",
       "      <th>hash</th>\n",
       "      <th>timestamp</th>\n",
       "    </tr>\n",
       "  </thead>\n",
       "  <tbody>\n",
       "    <tr>\n",
       "      <th>0</th>\n",
       "      <td>975E19763B9EAAC9BF2D0E3FD142E18714D77D72DB2C78B7176E5E3581ADFAC4</td>\n",
       "      <td>2022-03-10 16:44:17+00:00</td>\n",
       "    </tr>\n",
       "    <tr>\n",
       "      <th>1</th>\n",
       "      <td>51DA951E49B713818C95A619D9D2D41DEE6FB09951873E2C8A2842EC8B1338B6</td>\n",
       "      <td>2022-03-10 16:43:12+00:00</td>\n",
       "    </tr>\n",
       "    <tr>\n",
       "      <th>2</th>\n",
       "      <td>3A0EE768FCEA4F767E661C1CA9AF6D8B6887DB5699AAB451AE6DD0993937A995</td>\n",
       "      <td>2022-03-10 16:39:59+00:00</td>\n",
       "    </tr>\n",
       "    <tr>\n",
       "      <th>3</th>\n",
       "      <td>5DD336F9AEEABFE640141FB170BD9C572B74F577B15434AC34832A7029221412</td>\n",
       "      <td>2022-03-10 16:36:48+00:00</td>\n",
       "    </tr>\n",
       "    <tr>\n",
       "      <th>4</th>\n",
       "      <td>A21C0ABECC3C07F8B59CE9921F5116B5F90ED0BBEC698AABD10144989C05AA10</td>\n",
       "      <td>2022-03-10 16:32:03+00:00</td>\n",
       "    </tr>\n",
       "  </tbody>\n",
       "</table>\n",
       "</div>"
      ],
      "text/plain": [
       "                                                               hash  \\\n",
       "0  975E19763B9EAAC9BF2D0E3FD142E18714D77D72DB2C78B7176E5E3581ADFAC4   \n",
       "1  51DA951E49B713818C95A619D9D2D41DEE6FB09951873E2C8A2842EC8B1338B6   \n",
       "2  3A0EE768FCEA4F767E661C1CA9AF6D8B6887DB5699AAB451AE6DD0993937A995   \n",
       "3  5DD336F9AEEABFE640141FB170BD9C572B74F577B15434AC34832A7029221412   \n",
       "4  A21C0ABECC3C07F8B59CE9921F5116B5F90ED0BBEC698AABD10144989C05AA10   \n",
       "\n",
       "                  timestamp  \n",
       "0 2022-03-10 16:44:17+00:00  \n",
       "1 2022-03-10 16:43:12+00:00  \n",
       "2 2022-03-10 16:39:59+00:00  \n",
       "3 2022-03-10 16:36:48+00:00  \n",
       "4 2022-03-10 16:32:03+00:00  "
      ]
     },
     "execution_count": 564,
     "metadata": {},
     "output_type": "execute_result"
    }
   ],
   "source": [
    "txs = txs[txs.timestamp.apply(str) < dp.all_lps.block_timestamp.max()]\n",
    "txs.head()"
   ]
  },
  {
   "cell_type": "code",
   "execution_count": 565,
   "metadata": {},
   "outputs": [
    {
     "data": {
      "text/plain": [
       "76"
      ]
     },
     "execution_count": 565,
     "metadata": {},
     "output_type": "execute_result"
    }
   ],
   "source": [
    "missing_txs = set(txs.hash.values).difference(set(dp.all_lps.tx_id.values))\n",
    "#missing_txs\n",
    "len(missing_txs)"
   ]
  },
  {
   "cell_type": "code",
   "execution_count": 566,
   "metadata": {},
   "outputs": [
    {
     "data": {
      "text/html": [
       "<div>\n",
       "<style scoped>\n",
       "    .dataframe tbody tr th:only-of-type {\n",
       "        vertical-align: middle;\n",
       "    }\n",
       "\n",
       "    .dataframe tbody tr th {\n",
       "        vertical-align: top;\n",
       "    }\n",
       "\n",
       "    .dataframe thead th {\n",
       "        text-align: right;\n",
       "    }\n",
       "</style>\n",
       "<table border=\"1\" class=\"dataframe\">\n",
       "  <thead>\n",
       "    <tr style=\"text-align: right;\">\n",
       "      <th></th>\n",
       "      <th>day</th>\n",
       "      <th>amount_signed</th>\n",
       "      <th>tx_id</th>\n",
       "      <th>type</th>\n",
       "      <th>block_timestamp</th>\n",
       "    </tr>\n",
       "  </thead>\n",
       "  <tbody>\n",
       "    <tr>\n",
       "      <th>3069</th>\n",
       "      <td>2022-02-14</td>\n",
       "      <td>NaN</td>\n",
       "      <td>F1371E3F465062633DF33F66CAA3CD8BF430FB010C38EFDE7F99ECBB4D3F6FD3</td>\n",
       "      <td>collector_and_other</td>\n",
       "      <td>2022-02-14 06:56:57</td>\n",
       "    </tr>\n",
       "  </tbody>\n",
       "</table>\n",
       "</div>"
      ],
      "text/plain": [
       "             day  amount_signed  \\\n",
       "3069  2022-02-14            NaN   \n",
       "\n",
       "                                                                 tx_id  \\\n",
       "3069  F1371E3F465062633DF33F66CAA3CD8BF430FB010C38EFDE7F99ECBB4D3F6FD3   \n",
       "\n",
       "                     type      block_timestamp  \n",
       "3069  collector_and_other  2022-02-14 06:56:57  "
      ]
     },
     "execution_count": 566,
     "metadata": {},
     "output_type": "execute_result"
    }
   ],
   "source": [
    "dp.all_lps[dp.all_lps.amount_signed.isna()]"
   ]
  },
  {
   "cell_type": "code",
   "execution_count": 567,
   "metadata": {},
   "outputs": [],
   "source": [
    "extra_txs = set(dp.all_lps.tx_id.values).difference(set(txs.hash.values))"
   ]
  },
  {
   "cell_type": "code",
   "execution_count": 568,
   "metadata": {},
   "outputs": [
    {
     "data": {
      "text/plain": [
       "3"
      ]
     },
     "execution_count": 568,
     "metadata": {},
     "output_type": "execute_result"
    }
   ],
   "source": [
    "len(extra_txs)"
   ]
  },
  {
   "cell_type": "code",
   "execution_count": 569,
   "metadata": {},
   "outputs": [
    {
     "data": {
      "text/plain": [
       "type\n",
       "collector_and_other   -17.262781\n",
       "swap                   -5.486429\n",
       "Name: amount_signed, dtype: float64"
      ]
     },
     "execution_count": 569,
     "metadata": {},
     "output_type": "execute_result"
    }
   ],
   "source": [
    "dp.all_lps[dp.all_lps.tx_id.isin(extra_txs)].groupby('type').amount_signed.sum()"
   ]
  },
  {
   "cell_type": "markdown",
   "metadata": {},
   "source": [
    "## Refract"
   ]
  },
  {
   "cell_type": "code",
   "execution_count": 535,
   "metadata": {},
   "outputs": [
    {
     "data": {
      "text/plain": [
       "0       2022-02-16 05:36:35.862\n",
       "1       2022-02-16 09:44:49.510\n",
       "2       2022-02-16 19:30:54.484\n",
       "3       2022-02-18 20:59:29.332\n",
       "4       2022-02-18 13:27:37.117\n",
       "                 ...           \n",
       "2416    2022-03-09 04:50:04.961\n",
       "2417    2022-03-09 15:30:40.045\n",
       "2418    2022-03-09 15:55:51.351\n",
       "2419    2022-03-09 15:39:51.281\n",
       "2420    2022-03-09 14:54:49.815\n",
       "Name: block_timestamp, Length: 2421, dtype: object"
      ]
     },
     "execution_count": 535,
     "metadata": {},
     "output_type": "execute_result"
    }
   ],
   "source": [
    "dp.refract_cluna_df.block_timestamp"
   ]
  },
  {
   "cell_type": "code",
   "execution_count": 536,
   "metadata": {},
   "outputs": [
    {
     "data": {
      "text/plain": [
       "0       2022-02-16 05:36:35\n",
       "1       2022-02-16 09:44:49\n",
       "2       2022-02-16 19:30:54\n",
       "3       2022-02-18 20:59:29\n",
       "4       2022-02-18 13:27:37\n",
       "               ...         \n",
       "2416    2022-03-09 04:50:04\n",
       "2417    2022-03-09 15:30:40\n",
       "2418    2022-03-09 15:55:51\n",
       "2419    2022-03-09 15:39:51\n",
       "2420    2022-03-09 14:54:49\n",
       "Name: block_timestamp, Length: 2421, dtype: object"
      ]
     },
     "execution_count": 536,
     "metadata": {},
     "output_type": "execute_result"
    }
   ],
   "source": [
    "dp.refract_cluna_df_pol.block_timestamp"
   ]
  },
  {
   "cell_type": "code",
   "execution_count": 537,
   "metadata": {},
   "outputs": [],
   "source": [
    "daily_delta_rf = dp.daily_delta_rf"
   ]
  },
  {
   "cell_type": "code",
   "execution_count": 538,
   "metadata": {},
   "outputs": [
    {
     "data": {
      "text/html": [
       "<div>\n",
       "<style scoped>\n",
       "    .dataframe tbody tr th:only-of-type {\n",
       "        vertical-align: middle;\n",
       "    }\n",
       "\n",
       "    .dataframe tbody tr th {\n",
       "        vertical-align: top;\n",
       "    }\n",
       "\n",
       "    .dataframe thead th {\n",
       "        text-align: right;\n",
       "    }\n",
       "</style>\n",
       "<table border=\"1\" class=\"dataframe\">\n",
       "  <thead>\n",
       "    <tr style=\"text-align: right;\">\n",
       "      <th></th>\n",
       "      <th>Time</th>\n",
       "      <th>Amount signed</th>\n",
       "      <th>Amount</th>\n",
       "      <th>Type</th>\n",
       "    </tr>\n",
       "  </thead>\n",
       "  <tbody>\n",
       "    <tr>\n",
       "      <th>0</th>\n",
       "      <td>2022-02-14</td>\n",
       "      <td>886905.699296</td>\n",
       "      <td>886905.70</td>\n",
       "      <td>yLuna circulating</td>\n",
       "    </tr>\n",
       "    <tr>\n",
       "      <th>1</th>\n",
       "      <td>2022-02-15</td>\n",
       "      <td>203535.451347</td>\n",
       "      <td>1090441.15</td>\n",
       "      <td>yLuna circulating</td>\n",
       "    </tr>\n",
       "    <tr>\n",
       "      <th>2</th>\n",
       "      <td>2022-02-16</td>\n",
       "      <td>34802.863363</td>\n",
       "      <td>1125244.01</td>\n",
       "      <td>yLuna circulating</td>\n",
       "    </tr>\n",
       "    <tr>\n",
       "      <th>3</th>\n",
       "      <td>2022-02-17</td>\n",
       "      <td>390199.478500</td>\n",
       "      <td>1515443.49</td>\n",
       "      <td>yLuna circulating</td>\n",
       "    </tr>\n",
       "    <tr>\n",
       "      <th>4</th>\n",
       "      <td>2022-02-18</td>\n",
       "      <td>18926.171760</td>\n",
       "      <td>1534369.66</td>\n",
       "      <td>yLuna circulating</td>\n",
       "    </tr>\n",
       "  </tbody>\n",
       "</table>\n",
       "</div>"
      ],
      "text/plain": [
       "         Time  Amount signed      Amount               Type\n",
       "0  2022-02-14  886905.699296   886905.70  yLuna circulating\n",
       "1  2022-02-15  203535.451347  1090441.15  yLuna circulating\n",
       "2  2022-02-16   34802.863363  1125244.01  yLuna circulating\n",
       "3  2022-02-17  390199.478500  1515443.49  yLuna circulating\n",
       "4  2022-02-18   18926.171760  1534369.66  yLuna circulating"
      ]
     },
     "execution_count": 538,
     "metadata": {},
     "output_type": "execute_result"
    }
   ],
   "source": [
    "daily_delta_rf.head()"
   ]
  },
  {
   "cell_type": "code",
   "execution_count": 539,
   "metadata": {},
   "outputs": [
    {
     "data": {
      "text/html": [
       "\n",
       "<div id=\"altair-viz-d373f37408a543628e45fec0ac8a0c4a\"></div>\n",
       "<script type=\"text/javascript\">\n",
       "  var VEGA_DEBUG = (typeof VEGA_DEBUG == \"undefined\") ? {} : VEGA_DEBUG;\n",
       "  (function(spec, embedOpt){\n",
       "    let outputDiv = document.currentScript.previousElementSibling;\n",
       "    if (outputDiv.id !== \"altair-viz-d373f37408a543628e45fec0ac8a0c4a\") {\n",
       "      outputDiv = document.getElementById(\"altair-viz-d373f37408a543628e45fec0ac8a0c4a\");\n",
       "    }\n",
       "    const paths = {\n",
       "      \"vega\": \"https://cdn.jsdelivr.net/npm//vega@5?noext\",\n",
       "      \"vega-lib\": \"https://cdn.jsdelivr.net/npm//vega-lib?noext\",\n",
       "      \"vega-lite\": \"https://cdn.jsdelivr.net/npm//vega-lite@4.17.0?noext\",\n",
       "      \"vega-embed\": \"https://cdn.jsdelivr.net/npm//vega-embed@6?noext\",\n",
       "    };\n",
       "\n",
       "    function maybeLoadScript(lib, version) {\n",
       "      var key = `${lib.replace(\"-\", \"\")}_version`;\n",
       "      return (VEGA_DEBUG[key] == version) ?\n",
       "        Promise.resolve(paths[lib]) :\n",
       "        new Promise(function(resolve, reject) {\n",
       "          var s = document.createElement('script');\n",
       "          document.getElementsByTagName(\"head\")[0].appendChild(s);\n",
       "          s.async = true;\n",
       "          s.onload = () => {\n",
       "            VEGA_DEBUG[key] = version;\n",
       "            return resolve(paths[lib]);\n",
       "          };\n",
       "          s.onerror = () => reject(`Error loading script: ${paths[lib]}`);\n",
       "          s.src = paths[lib];\n",
       "        });\n",
       "    }\n",
       "\n",
       "    function showError(err) {\n",
       "      outputDiv.innerHTML = `<div class=\"error\" style=\"color:red;\">${err}</div>`;\n",
       "      throw err;\n",
       "    }\n",
       "\n",
       "    function displayChart(vegaEmbed) {\n",
       "      vegaEmbed(outputDiv, spec, embedOpt)\n",
       "        .catch(err => showError(`Javascript Error: ${err.message}<br>This usually means there's a typo in your chart specification. See the javascript console for the full traceback.`));\n",
       "    }\n",
       "\n",
       "    if(typeof define === \"function\" && define.amd) {\n",
       "      requirejs.config({paths});\n",
       "      require([\"vega-embed\"], displayChart, err => showError(`Error loading script: ${err.message}`));\n",
       "    } else {\n",
       "      maybeLoadScript(\"vega\", \"5\")\n",
       "        .then(() => maybeLoadScript(\"vega-lite\", \"4.17.0\"))\n",
       "        .then(() => maybeLoadScript(\"vega-embed\", \"6\"))\n",
       "        .catch(showError)\n",
       "        .then(() => displayChart(vegaEmbed));\n",
       "    }\n",
       "  })({\"config\": {\"view\": {\"continuousWidth\": 400, \"continuousHeight\": 300, \"strokeOpacity\": 0}}, \"data\": {\"name\": \"data-71e930f3d99fa50f3ca885c6c890729c\"}, \"mark\": \"area\", \"encoding\": {\"color\": {\"field\": \"Type\", \"legend\": {\"direction\": \"vertical\", \"legendY\": 0, \"orient\": \"none\", \"padding\": 5}, \"scale\": {\"domain\": [\"yLuna circulating\"], \"range\": [\"#f8936d\"]}, \"type\": \"nominal\"}, \"tooltip\": [{\"field\": \"Time\", \"format\": \"%Y-%m-%d\", \"type\": \"temporal\"}, {\"field\": \"Type\", \"type\": \"nominal\"}, {\"field\": \"Amount (millions)\", \"type\": \"nominal\"}], \"x\": {\"field\": \"Time\", \"scale\": {\"domain\": [\"2022-02-14\", \"2022-03-10\"]}, \"type\": \"temporal\"}, \"y\": {\"field\": \"Amount\", \"scale\": {\"domain\": [0, 2363615.7]}, \"type\": \"quantitative\"}}, \"width\": 800, \"$schema\": \"https://vega.github.io/schema/vega-lite/v4.17.0.json\", \"datasets\": {\"data-71e930f3d99fa50f3ca885c6c890729c\": [{\"Time\": \"2022-02-14\", \"Amount signed\": 886905.6992960001, \"Amount\": 886905.7, \"Type\": \"yLuna circulating\", \"Amount (millions)\": \"0.89M\"}, {\"Time\": \"2022-02-15\", \"Amount signed\": 203535.451347, \"Amount\": 1090441.15, \"Type\": \"yLuna circulating\", \"Amount (millions)\": \"1.09M\"}, {\"Time\": \"2022-02-16\", \"Amount signed\": 34802.863363000004, \"Amount\": 1125244.01, \"Type\": \"yLuna circulating\", \"Amount (millions)\": \"1.13M\"}, {\"Time\": \"2022-02-17\", \"Amount signed\": 390199.47849999997, \"Amount\": 1515443.49, \"Type\": \"yLuna circulating\", \"Amount (millions)\": \"1.52M\"}, {\"Time\": \"2022-02-18\", \"Amount signed\": 18926.17176, \"Amount\": 1534369.66, \"Type\": \"yLuna circulating\", \"Amount (millions)\": \"1.53M\"}, {\"Time\": \"2022-02-19\", \"Amount signed\": 8557.163948, \"Amount\": 1542926.83, \"Type\": \"yLuna circulating\", \"Amount (millions)\": \"1.54M\"}, {\"Time\": \"2022-02-20\", \"Amount signed\": 4739.721067, \"Amount\": 1547666.55, \"Type\": \"yLuna circulating\", \"Amount (millions)\": \"1.55M\"}, {\"Time\": \"2022-02-21\", \"Amount signed\": -6418.023054000001, \"Amount\": 1541248.53, \"Type\": \"yLuna circulating\", \"Amount (millions)\": \"1.54M\"}, {\"Time\": \"2022-02-22\", \"Amount signed\": 1663.183897, \"Amount\": 1542911.71, \"Type\": \"yLuna circulating\", \"Amount (millions)\": \"1.54M\"}, {\"Time\": \"2022-02-23\", \"Amount signed\": 4500.11243, \"Amount\": 1547411.82, \"Type\": \"yLuna circulating\", \"Amount (millions)\": \"1.55M\"}, {\"Time\": \"2022-02-24\", \"Amount signed\": -342.0362129999998, \"Amount\": 1547069.79, \"Type\": \"yLuna circulating\", \"Amount (millions)\": \"1.55M\"}, {\"Time\": \"2022-02-25\", \"Amount signed\": 4035.184031, \"Amount\": 1551104.97, \"Type\": \"yLuna circulating\", \"Amount (millions)\": \"1.55M\"}, {\"Time\": \"2022-02-26\", \"Amount signed\": 32360.524657, \"Amount\": 1583465.5, \"Type\": \"yLuna circulating\", \"Amount (millions)\": \"1.58M\"}, {\"Time\": \"2022-02-27\", \"Amount signed\": 478.22074500000025, \"Amount\": 1583943.72, \"Type\": \"yLuna circulating\", \"Amount (millions)\": \"1.58M\"}, {\"Time\": \"2022-02-28\", \"Amount signed\": -1117.798882, \"Amount\": 1582825.92, \"Type\": \"yLuna circulating\", \"Amount (millions)\": \"1.58M\"}, {\"Time\": \"2022-03-01\", \"Amount signed\": -789.1790650000002, \"Amount\": 1582036.74, \"Type\": \"yLuna circulating\", \"Amount (millions)\": \"1.58M\"}, {\"Time\": \"2022-03-02\", \"Amount signed\": 200929.163775, \"Amount\": 1782965.9, \"Type\": \"yLuna circulating\", \"Amount (millions)\": \"1.78M\"}, {\"Time\": \"2022-03-03\", \"Amount signed\": 597.3195, \"Amount\": 1783563.22, \"Type\": \"yLuna circulating\", \"Amount (millions)\": \"1.78M\"}, {\"Time\": \"2022-03-04\", \"Amount signed\": 2052.998513, \"Amount\": 1785616.22, \"Type\": \"yLuna circulating\", \"Amount (millions)\": \"1.79M\"}, {\"Time\": \"2022-03-05\", \"Amount signed\": 7004.864402, \"Amount\": 1792621.08, \"Type\": \"yLuna circulating\", \"Amount (millions)\": \"1.79M\"}, {\"Time\": \"2022-03-06\", \"Amount signed\": 33240.376127, \"Amount\": 1825861.46, \"Type\": \"yLuna circulating\", \"Amount (millions)\": \"1.83M\"}, {\"Time\": \"2022-03-07\", \"Amount signed\": 263343.301193, \"Amount\": 2089204.76, \"Type\": \"yLuna circulating\", \"Amount (millions)\": \"2.09M\"}, {\"Time\": \"2022-03-08\", \"Amount signed\": 96262.049692, \"Amount\": 2185466.81, \"Type\": \"yLuna circulating\", \"Amount (millions)\": \"2.19M\"}, {\"Time\": \"2022-03-09\", \"Amount signed\": 167753.236138, \"Amount\": 2353220.05, \"Type\": \"yLuna circulating\", \"Amount (millions)\": \"2.35M\"}, {\"Time\": \"2022-03-10\", \"Amount signed\": 395.653914, \"Amount\": 2353615.7, \"Type\": \"yLuna circulating\", \"Amount (millions)\": \"2.35M\"}]}}, {\"theme\": \"light\", \"mode\": \"vega-lite\"});\n",
       "</script>"
      ],
      "text/plain": [
       "alt.Chart(...)"
      ]
     },
     "execution_count": 539,
     "metadata": {},
     "output_type": "execute_result"
    }
   ],
   "source": [
    "cp = ChartProvider()\n",
    "domain = ['yLuna circulating']\n",
    "range_ = ['#f8936d']\n",
    "cp.get_yluna_time_area_chart(daily_delta_rf, \n",
    "               alt.Scale(domain=domain, range=range_),\n",
    "               min_date = daily_delta_rf.Time.min(),\n",
    "               max_date = daily_delta_rf.Time.max(),\n",
    "               top_padding = 10000\n",
    "        ).properties(width=800).configure_view(strokeOpacity=0)"
   ]
  },
  {
   "cell_type": "markdown",
   "metadata": {},
   "source": [
    "## yStaking"
   ]
  },
  {
   "cell_type": "code",
   "execution_count": 540,
   "metadata": {},
   "outputs": [],
   "source": [
    "def get_max_domain_date(df, time_field, n_hours):\n",
    "    if((pd.Timestamp(df[time_field].max()) - \n",
    "                pd.Timestamp(df[time_field].min())).total_seconds()/3600 < n_hours):\n",
    "        max_date = (pd.Timestamp(df[time_field].min()) + pd.to_timedelta(n_hours, unit='h')).strftime(\"%Y-%m-%dT%H:%M:%SZ\")\n",
    "    else:\n",
    "        max_date = df[time_field].max()\n",
    "    return max_date"
   ]
  },
  {
   "cell_type": "code",
   "execution_count": 541,
   "metadata": {},
   "outputs": [],
   "source": [
    "daily_delta_stk = dp.daily_delta_stk"
   ]
  },
  {
   "cell_type": "code",
   "execution_count": 542,
   "metadata": {},
   "outputs": [
    {
     "data": {
      "text/html": [
       "\n",
       "<div id=\"altair-viz-45bb7269e9664c07931e3290bd7bac90\"></div>\n",
       "<script type=\"text/javascript\">\n",
       "  var VEGA_DEBUG = (typeof VEGA_DEBUG == \"undefined\") ? {} : VEGA_DEBUG;\n",
       "  (function(spec, embedOpt){\n",
       "    let outputDiv = document.currentScript.previousElementSibling;\n",
       "    if (outputDiv.id !== \"altair-viz-45bb7269e9664c07931e3290bd7bac90\") {\n",
       "      outputDiv = document.getElementById(\"altair-viz-45bb7269e9664c07931e3290bd7bac90\");\n",
       "    }\n",
       "    const paths = {\n",
       "      \"vega\": \"https://cdn.jsdelivr.net/npm//vega@5?noext\",\n",
       "      \"vega-lib\": \"https://cdn.jsdelivr.net/npm//vega-lib?noext\",\n",
       "      \"vega-lite\": \"https://cdn.jsdelivr.net/npm//vega-lite@4.17.0?noext\",\n",
       "      \"vega-embed\": \"https://cdn.jsdelivr.net/npm//vega-embed@6?noext\",\n",
       "    };\n",
       "\n",
       "    function maybeLoadScript(lib, version) {\n",
       "      var key = `${lib.replace(\"-\", \"\")}_version`;\n",
       "      return (VEGA_DEBUG[key] == version) ?\n",
       "        Promise.resolve(paths[lib]) :\n",
       "        new Promise(function(resolve, reject) {\n",
       "          var s = document.createElement('script');\n",
       "          document.getElementsByTagName(\"head\")[0].appendChild(s);\n",
       "          s.async = true;\n",
       "          s.onload = () => {\n",
       "            VEGA_DEBUG[key] = version;\n",
       "            return resolve(paths[lib]);\n",
       "          };\n",
       "          s.onerror = () => reject(`Error loading script: ${paths[lib]}`);\n",
       "          s.src = paths[lib];\n",
       "        });\n",
       "    }\n",
       "\n",
       "    function showError(err) {\n",
       "      outputDiv.innerHTML = `<div class=\"error\" style=\"color:red;\">${err}</div>`;\n",
       "      throw err;\n",
       "    }\n",
       "\n",
       "    function displayChart(vegaEmbed) {\n",
       "      vegaEmbed(outputDiv, spec, embedOpt)\n",
       "        .catch(err => showError(`Javascript Error: ${err.message}<br>This usually means there's a typo in your chart specification. See the javascript console for the full traceback.`));\n",
       "    }\n",
       "\n",
       "    if(typeof define === \"function\" && define.amd) {\n",
       "      requirejs.config({paths});\n",
       "      require([\"vega-embed\"], displayChart, err => showError(`Error loading script: ${err.message}`));\n",
       "    } else {\n",
       "      maybeLoadScript(\"vega\", \"5\")\n",
       "        .then(() => maybeLoadScript(\"vega-lite\", \"4.17.0\"))\n",
       "        .then(() => maybeLoadScript(\"vega-embed\", \"6\"))\n",
       "        .catch(showError)\n",
       "        .then(() => displayChart(vegaEmbed));\n",
       "    }\n",
       "  })({\"config\": {\"view\": {\"continuousWidth\": 400, \"continuousHeight\": 300, \"strokeOpacity\": 0}}, \"data\": {\"name\": \"data-2a239ddac3662a486c73e530a9b10064\"}, \"mark\": \"area\", \"encoding\": {\"color\": {\"field\": \"Type\", \"legend\": {\"direction\": \"vertical\", \"legendY\": 0, \"orient\": \"none\", \"padding\": 5}, \"scale\": {\"domain\": [\"yLuna staked\"], \"range\": [\"#f8936d\"]}, \"type\": \"nominal\"}, \"tooltip\": [{\"field\": \"Time\", \"format\": \"%Y-%m-%d\", \"type\": \"temporal\"}, {\"field\": \"Type\", \"type\": \"nominal\"}, {\"field\": \"Amount (millions)\", \"type\": \"nominal\"}], \"x\": {\"field\": \"Time\", \"scale\": {\"domain\": [\"2022-02-14\", \"2022-03-10\"]}, \"type\": \"temporal\"}, \"y\": {\"field\": \"Amount\", \"scale\": {\"domain\": [0, 1629544.79]}, \"type\": \"quantitative\"}}, \"width\": 800, \"$schema\": \"https://vega.github.io/schema/vega-lite/v4.17.0.json\", \"datasets\": {\"data-2a239ddac3662a486c73e530a9b10064\": [{\"Time\": \"2022-02-14\", \"Amount signed\": 263973.675194, \"Amount\": 263973.68, \"Type\": \"yLuna staked\", \"Amount (millions)\": \"0.26M\"}, {\"Time\": \"2022-02-15\", \"Amount signed\": 785353.298444, \"Amount\": 1049326.97, \"Type\": \"yLuna staked\", \"Amount (millions)\": \"1.05M\"}, {\"Time\": \"2022-02-16\", \"Amount signed\": 48822.844771, \"Amount\": 1098149.82, \"Type\": \"yLuna staked\", \"Amount (millions)\": \"1.1M\"}, {\"Time\": \"2022-02-17\", \"Amount signed\": 398581.74049399997, \"Amount\": 1496731.56, \"Type\": \"yLuna staked\", \"Amount (millions)\": \"1.5M\"}, {\"Time\": \"2022-02-18\", \"Amount signed\": 26482.353074, \"Amount\": 1523213.91, \"Type\": \"yLuna staked\", \"Amount (millions)\": \"1.52M\"}, {\"Time\": \"2022-02-19\", \"Amount signed\": 9947.130666, \"Amount\": 1533161.04, \"Type\": \"yLuna staked\", \"Amount (millions)\": \"1.53M\"}, {\"Time\": \"2022-02-20\", \"Amount signed\": 6690.475193, \"Amount\": 1539851.52, \"Type\": \"yLuna staked\", \"Amount (millions)\": \"1.54M\"}, {\"Time\": \"2022-02-21\", \"Amount signed\": -5372.310204000001, \"Amount\": 1534479.21, \"Type\": \"yLuna staked\", \"Amount (millions)\": \"1.53M\"}, {\"Time\": \"2022-02-22\", \"Amount signed\": -340.56230800000026, \"Amount\": 1534138.65, \"Type\": \"yLuna staked\", \"Amount (millions)\": \"1.53M\"}, {\"Time\": \"2022-02-23\", \"Amount signed\": -1892.454582999999, \"Amount\": 1532246.19, \"Type\": \"yLuna staked\", \"Amount (millions)\": \"1.53M\"}, {\"Time\": \"2022-02-24\", \"Amount signed\": 9215.792161000001, \"Amount\": 1541461.98, \"Type\": \"yLuna staked\", \"Amount (millions)\": \"1.54M\"}, {\"Time\": \"2022-02-25\", \"Amount signed\": 6565.445083000001, \"Amount\": 1548027.43, \"Type\": \"yLuna staked\", \"Amount (millions)\": \"1.55M\"}, {\"Time\": \"2022-02-26\", \"Amount signed\": 21591.622122, \"Amount\": 1569619.05, \"Type\": \"yLuna staked\", \"Amount (millions)\": \"1.57M\"}, {\"Time\": \"2022-02-27\", \"Amount signed\": 15350.826443, \"Amount\": 1584969.88, \"Type\": \"yLuna staked\", \"Amount (millions)\": \"1.58M\"}, {\"Time\": \"2022-02-28\", \"Amount signed\": 5056.461055, \"Amount\": 1590026.34, \"Type\": \"yLuna staked\", \"Amount (millions)\": \"1.59M\"}, {\"Time\": \"2022-03-01\", \"Amount signed\": -3479.020891000003, \"Amount\": 1586547.32, \"Type\": \"yLuna staked\", \"Amount (millions)\": \"1.59M\"}, {\"Time\": \"2022-03-02\", \"Amount signed\": -801.9276639999987, \"Amount\": 1585745.39, \"Type\": \"yLuna staked\", \"Amount (millions)\": \"1.59M\"}, {\"Time\": \"2022-03-03\", \"Amount signed\": -37.225330000001634, \"Amount\": 1585708.16, \"Type\": \"yLuna staked\", \"Amount (millions)\": \"1.59M\"}, {\"Time\": \"2022-03-04\", \"Amount signed\": 980.5553720000046, \"Amount\": 1586688.72, \"Type\": \"yLuna staked\", \"Amount (millions)\": \"1.59M\"}, {\"Time\": \"2022-03-05\", \"Amount signed\": 5166.354888999995, \"Amount\": 1591855.07, \"Type\": \"yLuna staked\", \"Amount (millions)\": \"1.59M\"}, {\"Time\": \"2022-03-06\", \"Amount signed\": 27689.71858, \"Amount\": 1619544.79, \"Type\": \"yLuna staked\", \"Amount (millions)\": \"1.62M\"}, {\"Time\": \"2022-03-07\", \"Amount signed\": -924839.284345, \"Amount\": 694705.51, \"Type\": \"yLuna staked\", \"Amount (millions)\": \"0.69M\"}, {\"Time\": \"2022-03-08\", \"Amount signed\": -58734.656829, \"Amount\": 635970.85, \"Type\": \"yLuna staked\", \"Amount (millions)\": \"0.64M\"}, {\"Time\": \"2022-03-09\", \"Amount signed\": 17555.501989, \"Amount\": 653526.35, \"Type\": \"yLuna staked\", \"Amount (millions)\": \"0.65M\"}, {\"Time\": \"2022-03-10\", \"Amount signed\": 641.302894, \"Amount\": 654167.66, \"Type\": \"yLuna staked\", \"Amount (millions)\": \"0.65M\"}]}}, {\"theme\": \"light\", \"mode\": \"vega-lite\"});\n",
       "</script>"
      ],
      "text/plain": [
       "alt.Chart(...)"
      ]
     },
     "execution_count": 542,
     "metadata": {},
     "output_type": "execute_result"
    }
   ],
   "source": [
    "domain = ['yLuna staked']\n",
    "range_ = ['#f8936d']\n",
    "cp.get_yluna_time_area_chart(daily_delta_stk, \n",
    "               alt.Scale(domain=domain, range=range_),\n",
    "               min_date = daily_delta_stk.Time.min(),\n",
    "               max_date = daily_delta_stk.Time.max(),\n",
    "               top_padding = 10000\n",
    "        ).properties(width=800).configure_view(strokeOpacity=0)"
   ]
  },
  {
   "cell_type": "markdown",
   "metadata": {},
   "source": [
    "## yLuna LP"
   ]
  },
  {
   "cell_type": "code",
   "execution_count": 543,
   "metadata": {},
   "outputs": [
    {
     "data": {
      "text/plain": [
       "day                0\n",
       "type               0\n",
       "block_timestamp    0\n",
       "dtype: int64"
      ]
     },
     "execution_count": 543,
     "metadata": {},
     "output_type": "execute_result"
    }
   ],
   "source": [
    "(dp.all_lps.groupby(['tx_id','amount_signed']).count()>1).sum()"
   ]
  },
  {
   "cell_type": "code",
   "execution_count": 544,
   "metadata": {},
   "outputs": [
    {
     "data": {
      "text/plain": [
       "0        2022-03-10\n",
       "1        2022-03-10\n",
       "2        2022-03-10\n",
       "3        2022-03-10\n",
       "4        2022-03-10\n",
       "            ...    \n",
       "18258    2022-03-08\n",
       "18259    2022-03-07\n",
       "18264    2022-03-07\n",
       "18265    2022-03-07\n",
       "18267    2022-03-07\n",
       "Name: day, Length: 3933, dtype: object"
      ]
     },
     "execution_count": 544,
     "metadata": {},
     "output_type": "execute_result"
    }
   ],
   "source": [
    "dp.collector_df.day"
   ]
  },
  {
   "cell_type": "code",
   "execution_count": 545,
   "metadata": {},
   "outputs": [
    {
     "data": {
      "text/html": [
       "\n",
       "<div id=\"altair-viz-6f31e1b82825403b836c0f7aaa293f3c\"></div>\n",
       "<script type=\"text/javascript\">\n",
       "  var VEGA_DEBUG = (typeof VEGA_DEBUG == \"undefined\") ? {} : VEGA_DEBUG;\n",
       "  (function(spec, embedOpt){\n",
       "    let outputDiv = document.currentScript.previousElementSibling;\n",
       "    if (outputDiv.id !== \"altair-viz-6f31e1b82825403b836c0f7aaa293f3c\") {\n",
       "      outputDiv = document.getElementById(\"altair-viz-6f31e1b82825403b836c0f7aaa293f3c\");\n",
       "    }\n",
       "    const paths = {\n",
       "      \"vega\": \"https://cdn.jsdelivr.net/npm//vega@5?noext\",\n",
       "      \"vega-lib\": \"https://cdn.jsdelivr.net/npm//vega-lib?noext\",\n",
       "      \"vega-lite\": \"https://cdn.jsdelivr.net/npm//vega-lite@4.17.0?noext\",\n",
       "      \"vega-embed\": \"https://cdn.jsdelivr.net/npm//vega-embed@6?noext\",\n",
       "    };\n",
       "\n",
       "    function maybeLoadScript(lib, version) {\n",
       "      var key = `${lib.replace(\"-\", \"\")}_version`;\n",
       "      return (VEGA_DEBUG[key] == version) ?\n",
       "        Promise.resolve(paths[lib]) :\n",
       "        new Promise(function(resolve, reject) {\n",
       "          var s = document.createElement('script');\n",
       "          document.getElementsByTagName(\"head\")[0].appendChild(s);\n",
       "          s.async = true;\n",
       "          s.onload = () => {\n",
       "            VEGA_DEBUG[key] = version;\n",
       "            return resolve(paths[lib]);\n",
       "          };\n",
       "          s.onerror = () => reject(`Error loading script: ${paths[lib]}`);\n",
       "          s.src = paths[lib];\n",
       "        });\n",
       "    }\n",
       "\n",
       "    function showError(err) {\n",
       "      outputDiv.innerHTML = `<div class=\"error\" style=\"color:red;\">${err}</div>`;\n",
       "      throw err;\n",
       "    }\n",
       "\n",
       "    function displayChart(vegaEmbed) {\n",
       "      vegaEmbed(outputDiv, spec, embedOpt)\n",
       "        .catch(err => showError(`Javascript Error: ${err.message}<br>This usually means there's a typo in your chart specification. See the javascript console for the full traceback.`));\n",
       "    }\n",
       "\n",
       "    if(typeof define === \"function\" && define.amd) {\n",
       "      requirejs.config({paths});\n",
       "      require([\"vega-embed\"], displayChart, err => showError(`Error loading script: ${err.message}`));\n",
       "    } else {\n",
       "      maybeLoadScript(\"vega\", \"5\")\n",
       "        .then(() => maybeLoadScript(\"vega-lite\", \"4.17.0\"))\n",
       "        .then(() => maybeLoadScript(\"vega-embed\", \"6\"))\n",
       "        .catch(showError)\n",
       "        .then(() => displayChart(vegaEmbed));\n",
       "    }\n",
       "  })({\"config\": {\"view\": {\"continuousWidth\": 400, \"continuousHeight\": 300, \"strokeOpacity\": 0}}, \"data\": {\"name\": \"data-272abcdcd46603a26b5265029eed737a\"}, \"mark\": \"area\", \"encoding\": {\"color\": {\"field\": \"Type\", \"legend\": {\"direction\": \"vertical\", \"legendY\": 0, \"orient\": \"none\", \"padding\": 5}, \"scale\": {\"scheme\": \"set2\"}, \"type\": \"nominal\"}, \"tooltip\": [{\"field\": \"Time\", \"format\": \"%Y-%m-%d\", \"type\": \"temporal\"}, {\"field\": \"Type\", \"type\": \"nominal\"}, {\"field\": \"Amount (millions)\", \"type\": \"nominal\"}], \"x\": {\"field\": \"Time\", \"scale\": {\"domain\": [\"2022-02-14\", \"2022-03-10\"]}, \"type\": \"temporal\"}, \"y\": {\"field\": \"Amount\", \"scale\": {\"domain\": [0, 57562.93]}, \"type\": \"quantitative\"}}, \"width\": 800, \"$schema\": \"https://vega.github.io/schema/vega-lite/v4.17.0.json\", \"datasets\": {\"data-272abcdcd46603a26b5265029eed737a\": [{\"Time\": \"2022-02-14\", \"Amount signed\": 32029.903413, \"Amount\": 32029.9, \"Type\": \"yLuna LP\", \"Amount (millions)\": \"0.03M\"}, {\"Time\": \"2022-02-15\", \"Amount signed\": 15533.023953, \"Amount\": 47562.93, \"Type\": \"yLuna LP\", \"Amount (millions)\": \"0.05M\"}, {\"Time\": \"2022-02-16\", \"Amount signed\": -3949.600484, \"Amount\": 43613.33, \"Type\": \"yLuna LP\", \"Amount (millions)\": \"0.04M\"}, {\"Time\": \"2022-02-17\", \"Amount signed\": -6834.842364, \"Amount\": 36778.48, \"Type\": \"yLuna LP\", \"Amount (millions)\": \"0.04M\"}, {\"Time\": \"2022-02-18\", \"Amount signed\": -7036.5981409999995, \"Amount\": 29741.89, \"Type\": \"yLuna LP\", \"Amount (millions)\": \"0.03M\"}, {\"Time\": \"2022-02-19\", \"Amount signed\": 337.49347700000004, \"Amount\": 30079.38, \"Type\": \"yLuna LP\", \"Amount (millions)\": \"0.03M\"}, {\"Time\": \"2022-02-20\", \"Amount signed\": -1702.4568729999999, \"Amount\": 28376.92, \"Type\": \"yLuna LP\", \"Amount (millions)\": \"0.03M\"}, {\"Time\": \"2022-02-21\", \"Amount signed\": -1555.1015479999999, \"Amount\": 26821.82, \"Type\": \"yLuna LP\", \"Amount (millions)\": \"0.03M\"}, {\"Time\": \"2022-02-22\", \"Amount signed\": 3529.4248159999997, \"Amount\": 30351.25, \"Type\": \"yLuna LP\", \"Amount (millions)\": \"0.03M\"}, {\"Time\": \"2022-02-23\", \"Amount signed\": 5290.555898999999, \"Amount\": 35641.8, \"Type\": \"yLuna LP\", \"Amount (millions)\": \"0.04M\"}, {\"Time\": \"2022-02-24\", \"Amount signed\": -6865.751919000001, \"Amount\": 28776.05, \"Type\": \"yLuna LP\", \"Amount (millions)\": \"0.03M\"}, {\"Time\": \"2022-02-25\", \"Amount signed\": -2172.2056940000007, \"Amount\": 26603.84, \"Type\": \"yLuna LP\", \"Amount (millions)\": \"0.03M\"}, {\"Time\": \"2022-02-26\", \"Amount signed\": -2031.7789800000007, \"Amount\": 24572.07, \"Type\": \"yLuna LP\", \"Amount (millions)\": \"0.02M\"}, {\"Time\": \"2022-02-27\", \"Amount signed\": -2120.0020019999997, \"Amount\": 22452.06, \"Type\": \"yLuna LP\", \"Amount (millions)\": \"0.02M\"}, {\"Time\": \"2022-02-28\", \"Amount signed\": -6805.338279, \"Amount\": 15646.73, \"Type\": \"yLuna LP\", \"Amount (millions)\": \"0.02M\"}, {\"Time\": \"2022-03-01\", \"Amount signed\": 1265.766605, \"Amount\": 16912.49, \"Type\": \"yLuna LP\", \"Amount (millions)\": \"0.02M\"}, {\"Time\": \"2022-03-02\", \"Amount signed\": 1194.0815790000001, \"Amount\": 18106.57, \"Type\": \"yLuna LP\", \"Amount (millions)\": \"0.02M\"}, {\"Time\": \"2022-03-03\", \"Amount signed\": 1484.8906469999995, \"Amount\": 19591.46, \"Type\": \"yLuna LP\", \"Amount (millions)\": \"0.02M\"}, {\"Time\": \"2022-03-04\", \"Amount signed\": 900.399076, \"Amount\": 20491.86, \"Type\": \"yLuna LP\", \"Amount (millions)\": \"0.02M\"}, {\"Time\": \"2022-03-05\", \"Amount signed\": 2973.3474730000003, \"Amount\": 23465.21, \"Type\": \"yLuna LP\", \"Amount (millions)\": \"0.02M\"}, {\"Time\": \"2022-03-06\", \"Amount signed\": 1880.2935290000012, \"Amount\": 25345.5, \"Type\": \"yLuna LP\", \"Amount (millions)\": \"0.03M\"}, {\"Time\": \"2022-03-07\", \"Amount signed\": -9020.900787, \"Amount\": 16324.6, \"Type\": \"yLuna LP\", \"Amount (millions)\": \"0.02M\"}, {\"Time\": \"2022-03-08\", \"Amount signed\": -254.78356999999988, \"Amount\": 16069.82, \"Type\": \"yLuna LP\", \"Amount (millions)\": \"0.02M\"}, {\"Time\": \"2022-03-09\", \"Amount signed\": 238.09874299999993, \"Amount\": 16307.92, \"Type\": \"yLuna LP\", \"Amount (millions)\": \"0.02M\"}, {\"Time\": \"2022-03-10\", \"Amount signed\": -861.667626, \"Amount\": 15446.25, \"Type\": \"yLuna LP\", \"Amount (millions)\": \"0.02M\"}]}}, {\"theme\": \"light\", \"mode\": \"vega-lite\"});\n",
       "</script>"
      ],
      "text/plain": [
       "alt.Chart(...)"
      ]
     },
     "execution_count": 545,
     "metadata": {},
     "output_type": "execute_result"
    }
   ],
   "source": [
    "cp.get_yluna_time_area_chart(dp.daily_delta_lp, \n",
    "               alt.Scale(scheme='set2'),\n",
    "               min_date = daily_delta_stk.Time.min(),\n",
    "               max_date = daily_delta_stk.Time.max(),\n",
    "               top_padding = 10000\n",
    "        ).properties(width=800).configure_view(strokeOpacity=0)"
   ]
  },
  {
   "cell_type": "code",
   "execution_count": 546,
   "metadata": {},
   "outputs": [
    {
     "data": {
      "text/plain": [
       "day\n",
       "2022-02-14    32029.903413\n",
       "2022-02-15    15533.023953\n",
       "2022-02-16    -3949.600484\n",
       "2022-02-17    -6834.842364\n",
       "2022-02-18    -7036.598141\n",
       "2022-02-19      337.493477\n",
       "2022-02-20    -1702.456873\n",
       "2022-02-21    -1555.101548\n",
       "2022-02-22     3529.424816\n",
       "2022-02-23     5290.555899\n",
       "2022-02-24    -6865.751919\n",
       "2022-02-25    -2172.205694\n",
       "2022-02-26    -2031.778980\n",
       "2022-02-27    -2120.002002\n",
       "2022-02-28    -6805.338279\n",
       "2022-03-01     1265.766605\n",
       "2022-03-02     1194.081579\n",
       "2022-03-03     1484.890647\n",
       "2022-03-04      900.399076\n",
       "2022-03-05     2973.347473\n",
       "2022-03-06     1880.293529\n",
       "2022-03-07    -9020.900787\n",
       "2022-03-08     -254.783570\n",
       "2022-03-09      238.098743\n",
       "2022-03-10     -861.667626\n",
       "Name: amount_signed, dtype: float64"
      ]
     },
     "execution_count": 546,
     "metadata": {},
     "output_type": "execute_result"
    }
   ],
   "source": [
    "dp.all_lps.groupby(['day']).amount_signed.sum()"
   ]
  },
  {
   "cell_type": "code",
   "execution_count": 547,
   "metadata": {},
   "outputs": [
    {
     "data": {
      "text/html": [
       "\n",
       "<div id=\"altair-viz-d6467cbda94f4aca85a3af4d63c5aebc\"></div>\n",
       "<script type=\"text/javascript\">\n",
       "  var VEGA_DEBUG = (typeof VEGA_DEBUG == \"undefined\") ? {} : VEGA_DEBUG;\n",
       "  (function(spec, embedOpt){\n",
       "    let outputDiv = document.currentScript.previousElementSibling;\n",
       "    if (outputDiv.id !== \"altair-viz-d6467cbda94f4aca85a3af4d63c5aebc\") {\n",
       "      outputDiv = document.getElementById(\"altair-viz-d6467cbda94f4aca85a3af4d63c5aebc\");\n",
       "    }\n",
       "    const paths = {\n",
       "      \"vega\": \"https://cdn.jsdelivr.net/npm//vega@5?noext\",\n",
       "      \"vega-lib\": \"https://cdn.jsdelivr.net/npm//vega-lib?noext\",\n",
       "      \"vega-lite\": \"https://cdn.jsdelivr.net/npm//vega-lite@4.17.0?noext\",\n",
       "      \"vega-embed\": \"https://cdn.jsdelivr.net/npm//vega-embed@6?noext\",\n",
       "    };\n",
       "\n",
       "    function maybeLoadScript(lib, version) {\n",
       "      var key = `${lib.replace(\"-\", \"\")}_version`;\n",
       "      return (VEGA_DEBUG[key] == version) ?\n",
       "        Promise.resolve(paths[lib]) :\n",
       "        new Promise(function(resolve, reject) {\n",
       "          var s = document.createElement('script');\n",
       "          document.getElementsByTagName(\"head\")[0].appendChild(s);\n",
       "          s.async = true;\n",
       "          s.onload = () => {\n",
       "            VEGA_DEBUG[key] = version;\n",
       "            return resolve(paths[lib]);\n",
       "          };\n",
       "          s.onerror = () => reject(`Error loading script: ${paths[lib]}`);\n",
       "          s.src = paths[lib];\n",
       "        });\n",
       "    }\n",
       "\n",
       "    function showError(err) {\n",
       "      outputDiv.innerHTML = `<div class=\"error\" style=\"color:red;\">${err}</div>`;\n",
       "      throw err;\n",
       "    }\n",
       "\n",
       "    function displayChart(vegaEmbed) {\n",
       "      vegaEmbed(outputDiv, spec, embedOpt)\n",
       "        .catch(err => showError(`Javascript Error: ${err.message}<br>This usually means there's a typo in your chart specification. See the javascript console for the full traceback.`));\n",
       "    }\n",
       "\n",
       "    if(typeof define === \"function\" && define.amd) {\n",
       "      requirejs.config({paths});\n",
       "      require([\"vega-embed\"], displayChart, err => showError(`Error loading script: ${err.message}`));\n",
       "    } else {\n",
       "      maybeLoadScript(\"vega\", \"5\")\n",
       "        .then(() => maybeLoadScript(\"vega-lite\", \"4.17.0\"))\n",
       "        .then(() => maybeLoadScript(\"vega-embed\", \"6\"))\n",
       "        .catch(showError)\n",
       "        .then(() => displayChart(vegaEmbed));\n",
       "    }\n",
       "  })({\"config\": {\"view\": {\"continuousWidth\": 400, \"continuousHeight\": 300, \"strokeOpacity\": 0}}, \"data\": {\"name\": \"data-b2490e329cb7ec8402aad4e7c23229b2\"}, \"mark\": \"area\", \"encoding\": {\"color\": {\"field\": \"Type\", \"legend\": {\"direction\": \"vertical\", \"legendY\": 0, \"orient\": \"none\", \"padding\": 5}, \"scale\": {\"scheme\": \"set2\"}, \"type\": \"nominal\"}, \"tooltip\": [{\"field\": \"Time\", \"format\": \"%Y-%m-%d\", \"type\": \"temporal\"}, {\"field\": \"Type\", \"type\": \"nominal\"}, {\"field\": \"Amount (millions)\", \"type\": \"nominal\"}], \"x\": {\"field\": \"Time\", \"scale\": {\"domain\": [\"2022-03-07\", \"2022-03-10\"]}, \"type\": \"temporal\"}, \"y\": {\"field\": \"Amount\", \"scale\": {\"domain\": [0, 1617907.0]}, \"type\": \"quantitative\"}}, \"width\": 800, \"$schema\": \"https://vega.github.io/schema/vega-lite/v4.17.0.json\", \"datasets\": {\"data-b2490e329cb7ec8402aad4e7c23229b2\": [{\"Time\": \"2022-03-07\", \"Amount signed\": 1206968.667262, \"Amount\": 1206968.67, \"Type\": \"yLuna Farm staked\", \"Amount (millions)\": \"1.21M\"}, {\"Time\": \"2022-03-08\", \"Amount signed\": 156245.15410400002, \"Amount\": 1363213.82, \"Type\": \"yLuna Farm staked\", \"Amount (millions)\": \"1.36M\"}, {\"Time\": \"2022-03-09\", \"Amount signed\": 238429.85880800002, \"Amount\": 1601643.68, \"Type\": \"yLuna Farm staked\", \"Amount (millions)\": \"1.6M\"}, {\"Time\": \"2022-03-10\", \"Amount signed\": 6263.324076, \"Amount\": 1607907.0, \"Type\": \"yLuna Farm staked\", \"Amount (millions)\": \"1.61M\"}]}}, {\"theme\": \"light\", \"mode\": \"vega-lite\"});\n",
       "</script>"
      ],
      "text/plain": [
       "alt.Chart(...)"
      ]
     },
     "execution_count": 547,
     "metadata": {},
     "output_type": "execute_result"
    }
   ],
   "source": [
    "cp.get_yluna_time_area_chart(dp.daily_delta_stk_farm, \n",
    "               alt.Scale(scheme='set2'),\n",
    "               min_date = dp.daily_delta_stk_farm.Time.min(),\n",
    "               max_date = dp.daily_delta_stk_farm.Time.max(),\n",
    "               top_padding = 10000\n",
    "        ).properties(width=800).configure_view(strokeOpacity=0)"
   ]
  },
  {
   "cell_type": "code",
   "execution_count": 548,
   "metadata": {},
   "outputs": [
    {
     "data": {
      "text/html": [
       "\n",
       "<div id=\"altair-viz-403a4c5cf51b4a159c287eb065def222\"></div>\n",
       "<script type=\"text/javascript\">\n",
       "  var VEGA_DEBUG = (typeof VEGA_DEBUG == \"undefined\") ? {} : VEGA_DEBUG;\n",
       "  (function(spec, embedOpt){\n",
       "    let outputDiv = document.currentScript.previousElementSibling;\n",
       "    if (outputDiv.id !== \"altair-viz-403a4c5cf51b4a159c287eb065def222\") {\n",
       "      outputDiv = document.getElementById(\"altair-viz-403a4c5cf51b4a159c287eb065def222\");\n",
       "    }\n",
       "    const paths = {\n",
       "      \"vega\": \"https://cdn.jsdelivr.net/npm//vega@5?noext\",\n",
       "      \"vega-lib\": \"https://cdn.jsdelivr.net/npm//vega-lib?noext\",\n",
       "      \"vega-lite\": \"https://cdn.jsdelivr.net/npm//vega-lite@4.17.0?noext\",\n",
       "      \"vega-embed\": \"https://cdn.jsdelivr.net/npm//vega-embed@6?noext\",\n",
       "    };\n",
       "\n",
       "    function maybeLoadScript(lib, version) {\n",
       "      var key = `${lib.replace(\"-\", \"\")}_version`;\n",
       "      return (VEGA_DEBUG[key] == version) ?\n",
       "        Promise.resolve(paths[lib]) :\n",
       "        new Promise(function(resolve, reject) {\n",
       "          var s = document.createElement('script');\n",
       "          document.getElementsByTagName(\"head\")[0].appendChild(s);\n",
       "          s.async = true;\n",
       "          s.onload = () => {\n",
       "            VEGA_DEBUG[key] = version;\n",
       "            return resolve(paths[lib]);\n",
       "          };\n",
       "          s.onerror = () => reject(`Error loading script: ${paths[lib]}`);\n",
       "          s.src = paths[lib];\n",
       "        });\n",
       "    }\n",
       "\n",
       "    function showError(err) {\n",
       "      outputDiv.innerHTML = `<div class=\"error\" style=\"color:red;\">${err}</div>`;\n",
       "      throw err;\n",
       "    }\n",
       "\n",
       "    function displayChart(vegaEmbed) {\n",
       "      vegaEmbed(outputDiv, spec, embedOpt)\n",
       "        .catch(err => showError(`Javascript Error: ${err.message}<br>This usually means there's a typo in your chart specification. See the javascript console for the full traceback.`));\n",
       "    }\n",
       "\n",
       "    if(typeof define === \"function\" && define.amd) {\n",
       "      requirejs.config({paths});\n",
       "      require([\"vega-embed\"], displayChart, err => showError(`Error loading script: ${err.message}`));\n",
       "    } else {\n",
       "      maybeLoadScript(\"vega\", \"5\")\n",
       "        .then(() => maybeLoadScript(\"vega-lite\", \"4.17.0\"))\n",
       "        .then(() => maybeLoadScript(\"vega-embed\", \"6\"))\n",
       "        .catch(showError)\n",
       "        .then(() => displayChart(vegaEmbed));\n",
       "    }\n",
       "  })({\"config\": {\"view\": {\"continuousWidth\": 400, \"continuousHeight\": 300, \"strokeOpacity\": 0}}, \"data\": {\"name\": \"data-6d03d409895cce6efca22e5553a5ccd1\"}, \"mark\": \"area\", \"encoding\": {\"color\": {\"field\": \"Type\", \"legend\": {\"direction\": \"vertical\", \"legendY\": 0, \"orient\": \"none\", \"padding\": 5}, \"scale\": {\"scheme\": \"set2\"}, \"type\": \"nominal\"}, \"tooltip\": [{\"field\": \"Time\", \"format\": \"%Y-%m-%d\", \"type\": \"temporal\"}, {\"field\": \"Type\", \"type\": \"nominal\"}, {\"field\": \"Amount (millions)\", \"type\": \"nominal\"}], \"x\": {\"field\": \"Time\", \"scale\": {\"domain\": [\"2022-02-14\", \"2022-03-10\"]}, \"type\": \"temporal\"}, \"y\": {\"field\": \"Amount\", \"scale\": {\"domain\": [0, 600902.1199999999]}, \"type\": \"quantitative\"}}, \"width\": 800, \"$schema\": \"https://vega.github.io/schema/vega-lite/v4.17.0.json\", \"datasets\": {\"data-6d03d409895cce6efca22e5553a5ccd1\": [{\"Time\": \"2022-02-14\", \"Amount signed\": 886905.6992960001, \"Amount\": 590902.1199999999, \"Type\": \"yLuna unused\", \"Amount (millions)\": \"0.59M\"}, {\"Time\": \"2022-02-15\", \"Amount signed\": 203535.451347, \"Amount\": 0.0, \"Type\": \"yLuna unused\", \"Amount (millions)\": \"0.0M\"}, {\"Time\": \"2022-02-16\", \"Amount signed\": 34802.863363000004, \"Amount\": 0.0, \"Type\": \"yLuna unused\", \"Amount (millions)\": \"0.0M\"}, {\"Time\": \"2022-02-17\", \"Amount signed\": 390199.47849999997, \"Amount\": 0.0, \"Type\": \"yLuna unused\", \"Amount (millions)\": \"0.0M\"}, {\"Time\": \"2022-02-18\", \"Amount signed\": 18926.17176, \"Amount\": 0.0, \"Type\": \"yLuna unused\", \"Amount (millions)\": \"0.0M\"}, {\"Time\": \"2022-02-19\", \"Amount signed\": 8557.163948, \"Amount\": 0.0, \"Type\": \"yLuna unused\", \"Amount (millions)\": \"0.0M\"}, {\"Time\": \"2022-02-20\", \"Amount signed\": 4739.721067, \"Amount\": 0.0, \"Type\": \"yLuna unused\", \"Amount (millions)\": \"0.0M\"}, {\"Time\": \"2022-02-21\", \"Amount signed\": -6418.023054000001, \"Amount\": 0.0, \"Type\": \"yLuna unused\", \"Amount (millions)\": \"0.0M\"}, {\"Time\": \"2022-02-22\", \"Amount signed\": 1663.183897, \"Amount\": 0.0, \"Type\": \"yLuna unused\", \"Amount (millions)\": \"0.0M\"}, {\"Time\": \"2022-02-23\", \"Amount signed\": 4500.11243, \"Amount\": 0.0, \"Type\": \"yLuna unused\", \"Amount (millions)\": \"0.0M\"}, {\"Time\": \"2022-02-24\", \"Amount signed\": -342.0362129999998, \"Amount\": 0.0, \"Type\": \"yLuna unused\", \"Amount (millions)\": \"0.0M\"}, {\"Time\": \"2022-02-25\", \"Amount signed\": 4035.184031, \"Amount\": 0.0, \"Type\": \"yLuna unused\", \"Amount (millions)\": \"0.0M\"}, {\"Time\": \"2022-02-26\", \"Amount signed\": 32360.524657, \"Amount\": 0.0, \"Type\": \"yLuna unused\", \"Amount (millions)\": \"0.0M\"}, {\"Time\": \"2022-02-27\", \"Amount signed\": 478.22074500000025, \"Amount\": 0.0, \"Type\": \"yLuna unused\", \"Amount (millions)\": \"0.0M\"}, {\"Time\": \"2022-02-28\", \"Amount signed\": -1117.798882, \"Amount\": 0.0, \"Type\": \"yLuna unused\", \"Amount (millions)\": \"0.0M\"}, {\"Time\": \"2022-03-01\", \"Amount signed\": -789.1790650000002, \"Amount\": 0.0, \"Type\": \"yLuna unused\", \"Amount (millions)\": \"0.0M\"}, {\"Time\": \"2022-03-02\", \"Amount signed\": 200929.163775, \"Amount\": 179113.93999999994, \"Type\": \"yLuna unused\", \"Amount (millions)\": \"0.18M\"}, {\"Time\": \"2022-03-03\", \"Amount signed\": 597.3195, \"Amount\": 178263.6000000001, \"Type\": \"yLuna unused\", \"Amount (millions)\": \"0.18M\"}, {\"Time\": \"2022-03-04\", \"Amount signed\": 2052.998513, \"Amount\": 178435.6399999999, \"Type\": \"yLuna unused\", \"Amount (millions)\": \"0.18M\"}, {\"Time\": \"2022-03-05\", \"Amount signed\": 7004.864402, \"Amount\": 177300.80000000005, \"Type\": \"yLuna unused\", \"Amount (millions)\": \"0.18M\"}, {\"Time\": \"2022-03-06\", \"Amount signed\": 33240.376127, \"Amount\": 180971.16999999993, \"Type\": \"yLuna unused\", \"Amount (millions)\": \"0.18M\"}, {\"Time\": \"2022-03-07\", \"Amount signed\": 263343.301193, \"Amount\": 171205.9800000002, \"Type\": \"yLuna unused\", \"Amount (millions)\": \"0.17M\"}, {\"Time\": \"2022-03-08\", \"Amount signed\": 96262.049692, \"Amount\": 170212.32000000007, \"Type\": \"yLuna unused\", \"Amount (millions)\": \"0.17M\"}, {\"Time\": \"2022-03-09\", \"Amount signed\": 167753.236138, \"Amount\": 81742.09999999963, \"Type\": \"yLuna unused\", \"Amount (millions)\": \"0.08M\"}, {\"Time\": \"2022-03-10\", \"Amount signed\": 395.653914, \"Amount\": 76094.79000000004, \"Type\": \"yLuna unused\", \"Amount (millions)\": \"0.08M\"}]}}, {\"theme\": \"light\", \"mode\": \"vega-lite\"});\n",
       "</script>"
      ],
      "text/plain": [
       "alt.Chart(...)"
      ]
     },
     "execution_count": 548,
     "metadata": {},
     "output_type": "execute_result"
    }
   ],
   "source": [
    "cp.get_yluna_time_area_chart(dp.y_unused, \n",
    "               alt.Scale(scheme='set2'),\n",
    "               min_date = dp.y_unused.Time.min(),\n",
    "               max_date = dp.y_unused.Time.max(),\n",
    "               top_padding = 10000\n",
    "        ).properties(width=800).configure_view(strokeOpacity=0)"
   ]
  },
  {
   "cell_type": "markdown",
   "metadata": {},
   "source": [
    "## All deltas"
   ]
  },
  {
   "cell_type": "code",
   "execution_count": 549,
   "metadata": {},
   "outputs": [],
   "source": [
    "all_deltas = dp.y_used.append(dp.y_unused)"
   ]
  },
  {
   "cell_type": "code",
   "execution_count": 550,
   "metadata": {},
   "outputs": [],
   "source": [
    "all_deltas = dp.fill_date_gaps(all_deltas, ['2022-02-12','2022-02-13'])"
   ]
  },
  {
   "cell_type": "code",
   "execution_count": 551,
   "metadata": {},
   "outputs": [
    {
     "data": {
      "text/html": [
       "\n",
       "<div id=\"altair-viz-7041d21ccd36404280d57fabc7a7abf1\"></div>\n",
       "<script type=\"text/javascript\">\n",
       "  var VEGA_DEBUG = (typeof VEGA_DEBUG == \"undefined\") ? {} : VEGA_DEBUG;\n",
       "  (function(spec, embedOpt){\n",
       "    let outputDiv = document.currentScript.previousElementSibling;\n",
       "    if (outputDiv.id !== \"altair-viz-7041d21ccd36404280d57fabc7a7abf1\") {\n",
       "      outputDiv = document.getElementById(\"altair-viz-7041d21ccd36404280d57fabc7a7abf1\");\n",
       "    }\n",
       "    const paths = {\n",
       "      \"vega\": \"https://cdn.jsdelivr.net/npm//vega@5?noext\",\n",
       "      \"vega-lib\": \"https://cdn.jsdelivr.net/npm//vega-lib?noext\",\n",
       "      \"vega-lite\": \"https://cdn.jsdelivr.net/npm//vega-lite@4.17.0?noext\",\n",
       "      \"vega-embed\": \"https://cdn.jsdelivr.net/npm//vega-embed@6?noext\",\n",
       "    };\n",
       "\n",
       "    function maybeLoadScript(lib, version) {\n",
       "      var key = `${lib.replace(\"-\", \"\")}_version`;\n",
       "      return (VEGA_DEBUG[key] == version) ?\n",
       "        Promise.resolve(paths[lib]) :\n",
       "        new Promise(function(resolve, reject) {\n",
       "          var s = document.createElement('script');\n",
       "          document.getElementsByTagName(\"head\")[0].appendChild(s);\n",
       "          s.async = true;\n",
       "          s.onload = () => {\n",
       "            VEGA_DEBUG[key] = version;\n",
       "            return resolve(paths[lib]);\n",
       "          };\n",
       "          s.onerror = () => reject(`Error loading script: ${paths[lib]}`);\n",
       "          s.src = paths[lib];\n",
       "        });\n",
       "    }\n",
       "\n",
       "    function showError(err) {\n",
       "      outputDiv.innerHTML = `<div class=\"error\" style=\"color:red;\">${err}</div>`;\n",
       "      throw err;\n",
       "    }\n",
       "\n",
       "    function displayChart(vegaEmbed) {\n",
       "      vegaEmbed(outputDiv, spec, embedOpt)\n",
       "        .catch(err => showError(`Javascript Error: ${err.message}<br>This usually means there's a typo in your chart specification. See the javascript console for the full traceback.`));\n",
       "    }\n",
       "\n",
       "    if(typeof define === \"function\" && define.amd) {\n",
       "      requirejs.config({paths});\n",
       "      require([\"vega-embed\"], displayChart, err => showError(`Error loading script: ${err.message}`));\n",
       "    } else {\n",
       "      maybeLoadScript(\"vega\", \"5\")\n",
       "        .then(() => maybeLoadScript(\"vega-lite\", \"4.17.0\"))\n",
       "        .then(() => maybeLoadScript(\"vega-embed\", \"6\"))\n",
       "        .catch(showError)\n",
       "        .then(() => displayChart(vegaEmbed));\n",
       "    }\n",
       "  })({\"config\": {\"view\": {\"continuousWidth\": 400, \"continuousHeight\": 300, \"strokeOpacity\": 0}}, \"layer\": [{\"data\": {\"name\": \"data-f2e7b18b6fd19d2b8779db0745e323f4\"}, \"mark\": \"area\", \"encoding\": {\"color\": {\"field\": \"Type\", \"legend\": {\"direction\": \"vertical\", \"legendY\": 0, \"orient\": \"none\", \"padding\": 5}, \"scale\": {\"scheme\": \"set2\"}, \"type\": \"nominal\"}, \"tooltip\": [{\"field\": \"Time\", \"format\": \"%Y-%m-%d\", \"type\": \"temporal\"}, {\"field\": \"Type\", \"type\": \"nominal\"}, {\"field\": \"Amount (millions)\", \"type\": \"nominal\"}], \"x\": {\"field\": \"Time\", \"scale\": {\"domain\": [\"2022-02-12\", \"2022-03-10\"]}, \"type\": \"temporal\"}, \"y\": {\"field\": \"Amount\", \"scale\": {\"domain\": [0, 3119544.79]}, \"type\": \"quantitative\"}}}, {\"data\": {\"name\": \"data-bf69e67827aa5ed7d9d532afa84e7b5c\"}, \"mark\": {\"type\": \"rule\", \"color\": \"#e45756\"}, \"encoding\": {\"x\": {\"axis\": {\"labels\": false, \"title\": \"\"}, \"field\": \"date\", \"type\": \"temporal\"}}}, {\"data\": {\"name\": \"data-bf69e67827aa5ed7d9d532afa84e7b5c\"}, \"mark\": {\"type\": \"text\", \"angle\": 0, \"color\": \"#e45756\"}, \"encoding\": {\"text\": {\"field\": \"text\", \"type\": \"nominal\"}, \"x\": {\"axis\": {\"labels\": false, \"title\": \"\"}, \"field\": \"text_date\", \"type\": \"temporal\"}, \"y\": {\"field\": \"height\", \"type\": \"quantitative\"}}}], \"width\": 800, \"$schema\": \"https://vega.github.io/schema/vega-lite/v4.17.0.json\", \"datasets\": {\"data-f2e7b18b6fd19d2b8779db0745e323f4\": [{\"Time\": \"2022-02-14\", \"Amount signed\": 263973.675194, \"Amount\": 263973.68, \"Type\": \"yLuna staked\", \"Amount (millions)\": \"0.26M\"}, {\"Time\": \"2022-02-15\", \"Amount signed\": 785353.298444, \"Amount\": 1049326.97, \"Type\": \"yLuna staked\", \"Amount (millions)\": \"1.05M\"}, {\"Time\": \"2022-02-16\", \"Amount signed\": 48822.844771, \"Amount\": 1098149.82, \"Type\": \"yLuna staked\", \"Amount (millions)\": \"1.1M\"}, {\"Time\": \"2022-02-17\", \"Amount signed\": 398581.74049399997, \"Amount\": 1496731.56, \"Type\": \"yLuna staked\", \"Amount (millions)\": \"1.5M\"}, {\"Time\": \"2022-02-18\", \"Amount signed\": 26482.353074, \"Amount\": 1523213.91, \"Type\": \"yLuna staked\", \"Amount (millions)\": \"1.52M\"}, {\"Time\": \"2022-02-19\", \"Amount signed\": 9947.130666, \"Amount\": 1533161.04, \"Type\": \"yLuna staked\", \"Amount (millions)\": \"1.53M\"}, {\"Time\": \"2022-02-20\", \"Amount signed\": 6690.475193, \"Amount\": 1539851.52, \"Type\": \"yLuna staked\", \"Amount (millions)\": \"1.54M\"}, {\"Time\": \"2022-02-21\", \"Amount signed\": -5372.310204000001, \"Amount\": 1534479.21, \"Type\": \"yLuna staked\", \"Amount (millions)\": \"1.53M\"}, {\"Time\": \"2022-02-22\", \"Amount signed\": -340.56230800000026, \"Amount\": 1534138.65, \"Type\": \"yLuna staked\", \"Amount (millions)\": \"1.53M\"}, {\"Time\": \"2022-02-23\", \"Amount signed\": -1892.454582999999, \"Amount\": 1532246.19, \"Type\": \"yLuna staked\", \"Amount (millions)\": \"1.53M\"}, {\"Time\": \"2022-02-24\", \"Amount signed\": 9215.792161000001, \"Amount\": 1541461.98, \"Type\": \"yLuna staked\", \"Amount (millions)\": \"1.54M\"}, {\"Time\": \"2022-02-25\", \"Amount signed\": 6565.445083000001, \"Amount\": 1548027.43, \"Type\": \"yLuna staked\", \"Amount (millions)\": \"1.55M\"}, {\"Time\": \"2022-02-26\", \"Amount signed\": 21591.622122, \"Amount\": 1569619.05, \"Type\": \"yLuna staked\", \"Amount (millions)\": \"1.57M\"}, {\"Time\": \"2022-02-27\", \"Amount signed\": 15350.826443, \"Amount\": 1584969.88, \"Type\": \"yLuna staked\", \"Amount (millions)\": \"1.58M\"}, {\"Time\": \"2022-02-28\", \"Amount signed\": 5056.461055, \"Amount\": 1590026.34, \"Type\": \"yLuna staked\", \"Amount (millions)\": \"1.59M\"}, {\"Time\": \"2022-03-01\", \"Amount signed\": -3479.020891000003, \"Amount\": 1586547.32, \"Type\": \"yLuna staked\", \"Amount (millions)\": \"1.59M\"}, {\"Time\": \"2022-03-02\", \"Amount signed\": -801.9276639999987, \"Amount\": 1585745.39, \"Type\": \"yLuna staked\", \"Amount (millions)\": \"1.59M\"}, {\"Time\": \"2022-03-03\", \"Amount signed\": -37.225330000001634, \"Amount\": 1585708.16, \"Type\": \"yLuna staked\", \"Amount (millions)\": \"1.59M\"}, {\"Time\": \"2022-03-04\", \"Amount signed\": 980.5553720000046, \"Amount\": 1586688.72, \"Type\": \"yLuna staked\", \"Amount (millions)\": \"1.59M\"}, {\"Time\": \"2022-03-05\", \"Amount signed\": 5166.354888999995, \"Amount\": 1591855.07, \"Type\": \"yLuna staked\", \"Amount (millions)\": \"1.59M\"}, {\"Time\": \"2022-03-06\", \"Amount signed\": 27689.71858, \"Amount\": 1619544.79, \"Type\": \"yLuna staked\", \"Amount (millions)\": \"1.62M\"}, {\"Time\": \"2022-03-07\", \"Amount signed\": -924839.284345, \"Amount\": 694705.51, \"Type\": \"yLuna staked\", \"Amount (millions)\": \"0.69M\"}, {\"Time\": \"2022-03-08\", \"Amount signed\": -58734.656829, \"Amount\": 635970.85, \"Type\": \"yLuna staked\", \"Amount (millions)\": \"0.64M\"}, {\"Time\": \"2022-03-09\", \"Amount signed\": 17555.501989, \"Amount\": 653526.35, \"Type\": \"yLuna staked\", \"Amount (millions)\": \"0.65M\"}, {\"Time\": \"2022-03-10\", \"Amount signed\": 641.302894, \"Amount\": 654167.66, \"Type\": \"yLuna staked\", \"Amount (millions)\": \"0.65M\"}, {\"Time\": \"2022-02-14\", \"Amount signed\": 32029.903413, \"Amount\": 32029.9, \"Type\": \"yLuna LP\", \"Amount (millions)\": \"0.03M\"}, {\"Time\": \"2022-02-15\", \"Amount signed\": 15533.023953, \"Amount\": 47562.93, \"Type\": \"yLuna LP\", \"Amount (millions)\": \"0.05M\"}, {\"Time\": \"2022-02-16\", \"Amount signed\": -3949.600484, \"Amount\": 43613.33, \"Type\": \"yLuna LP\", \"Amount (millions)\": \"0.04M\"}, {\"Time\": \"2022-02-17\", \"Amount signed\": -6834.842364, \"Amount\": 36778.48, \"Type\": \"yLuna LP\", \"Amount (millions)\": \"0.04M\"}, {\"Time\": \"2022-02-18\", \"Amount signed\": -7036.5981409999995, \"Amount\": 29741.89, \"Type\": \"yLuna LP\", \"Amount (millions)\": \"0.03M\"}, {\"Time\": \"2022-02-19\", \"Amount signed\": 337.49347700000004, \"Amount\": 30079.38, \"Type\": \"yLuna LP\", \"Amount (millions)\": \"0.03M\"}, {\"Time\": \"2022-02-20\", \"Amount signed\": -1702.4568729999999, \"Amount\": 28376.92, \"Type\": \"yLuna LP\", \"Amount (millions)\": \"0.03M\"}, {\"Time\": \"2022-02-21\", \"Amount signed\": -1555.1015479999999, \"Amount\": 26821.82, \"Type\": \"yLuna LP\", \"Amount (millions)\": \"0.03M\"}, {\"Time\": \"2022-02-22\", \"Amount signed\": 3529.4248159999997, \"Amount\": 30351.25, \"Type\": \"yLuna LP\", \"Amount (millions)\": \"0.03M\"}, {\"Time\": \"2022-02-23\", \"Amount signed\": 5290.555898999999, \"Amount\": 35641.8, \"Type\": \"yLuna LP\", \"Amount (millions)\": \"0.04M\"}, {\"Time\": \"2022-02-24\", \"Amount signed\": -6865.751919000001, \"Amount\": 28776.05, \"Type\": \"yLuna LP\", \"Amount (millions)\": \"0.03M\"}, {\"Time\": \"2022-02-25\", \"Amount signed\": -2172.2056940000007, \"Amount\": 26603.84, \"Type\": \"yLuna LP\", \"Amount (millions)\": \"0.03M\"}, {\"Time\": \"2022-02-26\", \"Amount signed\": -2031.7789800000007, \"Amount\": 24572.07, \"Type\": \"yLuna LP\", \"Amount (millions)\": \"0.02M\"}, {\"Time\": \"2022-02-27\", \"Amount signed\": -2120.0020019999997, \"Amount\": 22452.06, \"Type\": \"yLuna LP\", \"Amount (millions)\": \"0.02M\"}, {\"Time\": \"2022-02-28\", \"Amount signed\": -6805.338279, \"Amount\": 15646.73, \"Type\": \"yLuna LP\", \"Amount (millions)\": \"0.02M\"}, {\"Time\": \"2022-03-01\", \"Amount signed\": 1265.766605, \"Amount\": 16912.49, \"Type\": \"yLuna LP\", \"Amount (millions)\": \"0.02M\"}, {\"Time\": \"2022-03-02\", \"Amount signed\": 1194.0815790000001, \"Amount\": 18106.57, \"Type\": \"yLuna LP\", \"Amount (millions)\": \"0.02M\"}, {\"Time\": \"2022-03-03\", \"Amount signed\": 1484.8906469999995, \"Amount\": 19591.46, \"Type\": \"yLuna LP\", \"Amount (millions)\": \"0.02M\"}, {\"Time\": \"2022-03-04\", \"Amount signed\": 900.399076, \"Amount\": 20491.86, \"Type\": \"yLuna LP\", \"Amount (millions)\": \"0.02M\"}, {\"Time\": \"2022-03-05\", \"Amount signed\": 2973.3474730000003, \"Amount\": 23465.21, \"Type\": \"yLuna LP\", \"Amount (millions)\": \"0.02M\"}, {\"Time\": \"2022-03-06\", \"Amount signed\": 1880.2935290000012, \"Amount\": 25345.5, \"Type\": \"yLuna LP\", \"Amount (millions)\": \"0.03M\"}, {\"Time\": \"2022-03-07\", \"Amount signed\": -9020.900787, \"Amount\": 16324.6, \"Type\": \"yLuna LP\", \"Amount (millions)\": \"0.02M\"}, {\"Time\": \"2022-03-08\", \"Amount signed\": -254.78356999999988, \"Amount\": 16069.82, \"Type\": \"yLuna LP\", \"Amount (millions)\": \"0.02M\"}, {\"Time\": \"2022-03-09\", \"Amount signed\": 238.09874299999993, \"Amount\": 16307.92, \"Type\": \"yLuna LP\", \"Amount (millions)\": \"0.02M\"}, {\"Time\": \"2022-03-10\", \"Amount signed\": -861.667626, \"Amount\": 15446.25, \"Type\": \"yLuna LP\", \"Amount (millions)\": \"0.02M\"}, {\"Time\": \"2022-03-07\", \"Amount signed\": 1206968.667262, \"Amount\": 1206968.67, \"Type\": \"yLuna Farm staked\", \"Amount (millions)\": \"1.21M\"}, {\"Time\": \"2022-03-08\", \"Amount signed\": 156245.15410400002, \"Amount\": 1363213.82, \"Type\": \"yLuna Farm staked\", \"Amount (millions)\": \"1.36M\"}, {\"Time\": \"2022-03-09\", \"Amount signed\": 238429.85880800002, \"Amount\": 1601643.68, \"Type\": \"yLuna Farm staked\", \"Amount (millions)\": \"1.6M\"}, {\"Time\": \"2022-03-10\", \"Amount signed\": 6263.324076, \"Amount\": 1607907.0, \"Type\": \"yLuna Farm staked\", \"Amount (millions)\": \"1.61M\"}, {\"Time\": \"2022-02-14\", \"Amount signed\": 886905.6992960001, \"Amount\": 590902.1199999999, \"Type\": \"yLuna unused\", \"Amount (millions)\": \"0.59M\"}, {\"Time\": \"2022-02-15\", \"Amount signed\": 203535.451347, \"Amount\": 0.0, \"Type\": \"yLuna unused\", \"Amount (millions)\": \"0.0M\"}, {\"Time\": \"2022-02-16\", \"Amount signed\": 34802.863363000004, \"Amount\": 0.0, \"Type\": \"yLuna unused\", \"Amount (millions)\": \"0.0M\"}, {\"Time\": \"2022-02-17\", \"Amount signed\": 390199.47849999997, \"Amount\": 0.0, \"Type\": \"yLuna unused\", \"Amount (millions)\": \"0.0M\"}, {\"Time\": \"2022-02-18\", \"Amount signed\": 18926.17176, \"Amount\": 0.0, \"Type\": \"yLuna unused\", \"Amount (millions)\": \"0.0M\"}, {\"Time\": \"2022-02-19\", \"Amount signed\": 8557.163948, \"Amount\": 0.0, \"Type\": \"yLuna unused\", \"Amount (millions)\": \"0.0M\"}, {\"Time\": \"2022-02-20\", \"Amount signed\": 4739.721067, \"Amount\": 0.0, \"Type\": \"yLuna unused\", \"Amount (millions)\": \"0.0M\"}, {\"Time\": \"2022-02-21\", \"Amount signed\": -6418.023054000001, \"Amount\": 0.0, \"Type\": \"yLuna unused\", \"Amount (millions)\": \"0.0M\"}, {\"Time\": \"2022-02-22\", \"Amount signed\": 1663.183897, \"Amount\": 0.0, \"Type\": \"yLuna unused\", \"Amount (millions)\": \"0.0M\"}, {\"Time\": \"2022-02-23\", \"Amount signed\": 4500.11243, \"Amount\": 0.0, \"Type\": \"yLuna unused\", \"Amount (millions)\": \"0.0M\"}, {\"Time\": \"2022-02-24\", \"Amount signed\": -342.0362129999998, \"Amount\": 0.0, \"Type\": \"yLuna unused\", \"Amount (millions)\": \"0.0M\"}, {\"Time\": \"2022-02-25\", \"Amount signed\": 4035.184031, \"Amount\": 0.0, \"Type\": \"yLuna unused\", \"Amount (millions)\": \"0.0M\"}, {\"Time\": \"2022-02-26\", \"Amount signed\": 32360.524657, \"Amount\": 0.0, \"Type\": \"yLuna unused\", \"Amount (millions)\": \"0.0M\"}, {\"Time\": \"2022-02-27\", \"Amount signed\": 478.22074500000025, \"Amount\": 0.0, \"Type\": \"yLuna unused\", \"Amount (millions)\": \"0.0M\"}, {\"Time\": \"2022-02-28\", \"Amount signed\": -1117.798882, \"Amount\": 0.0, \"Type\": \"yLuna unused\", \"Amount (millions)\": \"0.0M\"}, {\"Time\": \"2022-03-01\", \"Amount signed\": -789.1790650000002, \"Amount\": 0.0, \"Type\": \"yLuna unused\", \"Amount (millions)\": \"0.0M\"}, {\"Time\": \"2022-03-02\", \"Amount signed\": 200929.163775, \"Amount\": 179113.93999999994, \"Type\": \"yLuna unused\", \"Amount (millions)\": \"0.18M\"}, {\"Time\": \"2022-03-03\", \"Amount signed\": 597.3195, \"Amount\": 178263.6000000001, \"Type\": \"yLuna unused\", \"Amount (millions)\": \"0.18M\"}, {\"Time\": \"2022-03-04\", \"Amount signed\": 2052.998513, \"Amount\": 178435.6399999999, \"Type\": \"yLuna unused\", \"Amount (millions)\": \"0.18M\"}, {\"Time\": \"2022-03-05\", \"Amount signed\": 7004.864402, \"Amount\": 177300.80000000005, \"Type\": \"yLuna unused\", \"Amount (millions)\": \"0.18M\"}, {\"Time\": \"2022-03-06\", \"Amount signed\": 33240.376127, \"Amount\": 180971.16999999993, \"Type\": \"yLuna unused\", \"Amount (millions)\": \"0.18M\"}, {\"Time\": \"2022-03-07\", \"Amount signed\": 263343.301193, \"Amount\": 171205.9800000002, \"Type\": \"yLuna unused\", \"Amount (millions)\": \"0.17M\"}, {\"Time\": \"2022-03-08\", \"Amount signed\": 96262.049692, \"Amount\": 170212.32000000007, \"Type\": \"yLuna unused\", \"Amount (millions)\": \"0.17M\"}, {\"Time\": \"2022-03-09\", \"Amount signed\": 167753.236138, \"Amount\": 81742.09999999963, \"Type\": \"yLuna unused\", \"Amount (millions)\": \"0.08M\"}, {\"Time\": \"2022-03-10\", \"Amount signed\": 395.653914, \"Amount\": 76094.79000000004, \"Type\": \"yLuna unused\", \"Amount (millions)\": \"0.08M\"}, {\"Time\": \"2022-02-12\", \"Amount signed\": 0.0, \"Amount\": 0.0, \"Type\": \"yLuna staked\", \"Amount (millions)\": \"0.0M\"}, {\"Time\": \"2022-02-13\", \"Amount signed\": 0.0, \"Amount\": 0.0, \"Type\": \"yLuna staked\", \"Amount (millions)\": \"0.0M\"}, {\"Time\": \"2022-02-12\", \"Amount signed\": 0.0, \"Amount\": 0.0, \"Type\": \"yLuna LP\", \"Amount (millions)\": \"0.0M\"}, {\"Time\": \"2022-02-13\", \"Amount signed\": 0.0, \"Amount\": 0.0, \"Type\": \"yLuna LP\", \"Amount (millions)\": \"0.0M\"}, {\"Time\": \"2022-02-14\", \"Amount signed\": 0.0, \"Amount\": 0.0, \"Type\": \"yLuna Farm staked\", \"Amount (millions)\": \"0.0M\"}, {\"Time\": \"2022-02-15\", \"Amount signed\": 0.0, \"Amount\": 0.0, \"Type\": \"yLuna Farm staked\", \"Amount (millions)\": \"0.0M\"}, {\"Time\": \"2022-02-16\", \"Amount signed\": 0.0, \"Amount\": 0.0, \"Type\": \"yLuna Farm staked\", \"Amount (millions)\": \"0.0M\"}, {\"Time\": \"2022-02-17\", \"Amount signed\": 0.0, \"Amount\": 0.0, \"Type\": \"yLuna Farm staked\", \"Amount (millions)\": \"0.0M\"}, {\"Time\": \"2022-02-18\", \"Amount signed\": 0.0, \"Amount\": 0.0, \"Type\": \"yLuna Farm staked\", \"Amount (millions)\": \"0.0M\"}, {\"Time\": \"2022-02-19\", \"Amount signed\": 0.0, \"Amount\": 0.0, \"Type\": \"yLuna Farm staked\", \"Amount (millions)\": \"0.0M\"}, {\"Time\": \"2022-02-20\", \"Amount signed\": 0.0, \"Amount\": 0.0, \"Type\": \"yLuna Farm staked\", \"Amount (millions)\": \"0.0M\"}, {\"Time\": \"2022-02-21\", \"Amount signed\": 0.0, \"Amount\": 0.0, \"Type\": \"yLuna Farm staked\", \"Amount (millions)\": \"0.0M\"}, {\"Time\": \"2022-02-22\", \"Amount signed\": 0.0, \"Amount\": 0.0, \"Type\": \"yLuna Farm staked\", \"Amount (millions)\": \"0.0M\"}, {\"Time\": \"2022-02-23\", \"Amount signed\": 0.0, \"Amount\": 0.0, \"Type\": \"yLuna Farm staked\", \"Amount (millions)\": \"0.0M\"}, {\"Time\": \"2022-02-24\", \"Amount signed\": 0.0, \"Amount\": 0.0, \"Type\": \"yLuna Farm staked\", \"Amount (millions)\": \"0.0M\"}, {\"Time\": \"2022-02-25\", \"Amount signed\": 0.0, \"Amount\": 0.0, \"Type\": \"yLuna Farm staked\", \"Amount (millions)\": \"0.0M\"}, {\"Time\": \"2022-02-26\", \"Amount signed\": 0.0, \"Amount\": 0.0, \"Type\": \"yLuna Farm staked\", \"Amount (millions)\": \"0.0M\"}, {\"Time\": \"2022-02-27\", \"Amount signed\": 0.0, \"Amount\": 0.0, \"Type\": \"yLuna Farm staked\", \"Amount (millions)\": \"0.0M\"}, {\"Time\": \"2022-02-28\", \"Amount signed\": 0.0, \"Amount\": 0.0, \"Type\": \"yLuna Farm staked\", \"Amount (millions)\": \"0.0M\"}, {\"Time\": \"2022-03-01\", \"Amount signed\": 0.0, \"Amount\": 0.0, \"Type\": \"yLuna Farm staked\", \"Amount (millions)\": \"0.0M\"}, {\"Time\": \"2022-03-02\", \"Amount signed\": 0.0, \"Amount\": 0.0, \"Type\": \"yLuna Farm staked\", \"Amount (millions)\": \"0.0M\"}, {\"Time\": \"2022-03-03\", \"Amount signed\": 0.0, \"Amount\": 0.0, \"Type\": \"yLuna Farm staked\", \"Amount (millions)\": \"0.0M\"}, {\"Time\": \"2022-03-04\", \"Amount signed\": 0.0, \"Amount\": 0.0, \"Type\": \"yLuna Farm staked\", \"Amount (millions)\": \"0.0M\"}, {\"Time\": \"2022-03-05\", \"Amount signed\": 0.0, \"Amount\": 0.0, \"Type\": \"yLuna Farm staked\", \"Amount (millions)\": \"0.0M\"}, {\"Time\": \"2022-03-06\", \"Amount signed\": 0.0, \"Amount\": 0.0, \"Type\": \"yLuna Farm staked\", \"Amount (millions)\": \"0.0M\"}, {\"Time\": \"2022-02-12\", \"Amount signed\": 0.0, \"Amount\": 0.0, \"Type\": \"yLuna Farm staked\", \"Amount (millions)\": \"0.0M\"}, {\"Time\": \"2022-02-13\", \"Amount signed\": 0.0, \"Amount\": 0.0, \"Type\": \"yLuna Farm staked\", \"Amount (millions)\": \"0.0M\"}, {\"Time\": \"2022-02-12\", \"Amount signed\": 0.0, \"Amount\": 0.0, \"Type\": \"yLuna unused\", \"Amount (millions)\": \"0.0M\"}, {\"Time\": \"2022-02-13\", \"Amount signed\": 0.0, \"Amount\": 0.0, \"Type\": \"yLuna unused\", \"Amount (millions)\": \"0.0M\"}], \"data-bf69e67827aa5ed7d9d532afa84e7b5c\": [{\"text_date\": \"2022-02-13\", \"date\": \"2022-02-13\", \"height\": 2000000, \"text\": \"Prism Forge\"}, {\"text_date\": \"2022-03-06\", \"date\": \"2022-03-06\", \"height\": 2400000, \"text\": \"Prism Farm\"}]}}, {\"theme\": \"light\", \"mode\": \"vega-lite\"});\n",
       "</script>"
      ],
      "text/plain": [
       "alt.LayerChart(...)"
      ]
     },
     "execution_count": 551,
     "metadata": {},
     "output_type": "execute_result"
    }
   ],
   "source": [
    "c1 = cp.get_yluna_time_area_chart(all_deltas, \n",
    "               alt.Scale(scheme='set2'),\n",
    "               min_date = all_deltas.Time.min(),\n",
    "               max_date = all_deltas.Time.max(),\n",
    "               top_padding = 1500000\n",
    "        )\n",
    "\n",
    "c2 = alt.Chart(dp.dates_to_mark).mark_rule(color='#e45756').encode(\n",
    "    x=alt.X('date'+':T',axis=alt.Axis(labels=False,title=''))\n",
    ")\n",
    "\n",
    "c3 = alt.Chart(dp.dates_to_mark).mark_text(\n",
    "    color='#e45756',\n",
    "    angle=0\n",
    ").encode(\n",
    "    x=alt.X('text_date'+':T',axis=alt.Axis(labels=False,title='')),\n",
    "    y='height',\n",
    "    text='text'\n",
    ")\n",
    "\n",
    "(c1 + c2 + c3).properties(width=800).configure_view(strokeOpacity=0)"
   ]
  },
  {
   "cell_type": "markdown",
   "metadata": {},
   "source": [
    "## Query"
   ]
  },
  {
   "cell_type": "code",
   "execution_count": 231,
   "metadata": {},
   "outputs": [],
   "source": [
    "import requests\n",
    "luna_apr = float(\n",
    "    requests.get('https://api.terra.dev/chart/staking-return/annualized').json(\n",
    "    )[-1]['value']) * 100\n",
    "et_query = requests.get(\n",
    "    'https://api.extraterrestrial.money/v1/api/prices').json()\n",
    "yluna_price = float(et_query['prices']['yLUNA']['price'])\n",
    "luna_price = float(et_query['prices']['LUNA']['price'])\n",
    "yluna_apr = luna_apr * luna_price / yluna_price"
   ]
  },
  {
   "cell_type": "code",
   "execution_count": 232,
   "metadata": {},
   "outputs": [
    {
     "data": {
      "text/plain": [
       "8.115326633560468"
      ]
     },
     "execution_count": 232,
     "metadata": {},
     "output_type": "execute_result"
    }
   ],
   "source": [
    "yluna_apr"
   ]
  },
  {
   "cell_type": "code",
   "execution_count": 233,
   "metadata": {},
   "outputs": [
    {
     "data": {
      "text/plain": [
       "6.740162722440834"
      ]
     },
     "execution_count": 233,
     "metadata": {},
     "output_type": "execute_result"
    }
   ],
   "source": [
    "luna_apr"
   ]
  },
  {
   "cell_type": "code",
   "execution_count": 234,
   "metadata": {},
   "outputs": [
    {
     "data": {
      "text/plain": [
       "95.2243989664808"
      ]
     },
     "execution_count": 234,
     "metadata": {},
     "output_type": "execute_result"
    }
   ],
   "source": [
    "luna_price"
   ]
  },
  {
   "cell_type": "code",
   "execution_count": 235,
   "metadata": {},
   "outputs": [],
   "source": [
    "df = pd.DataFrame(requests.get('https://api.terra.dev/chart/staking-return/annualized').json())\n",
    "df['date'] = pd.to_datetime(df['datetime'], unit='ms')\n",
    "df = df[df['date'] > '2021-07-05 15:00:00']"
   ]
  },
  {
   "cell_type": "code",
   "execution_count": 236,
   "metadata": {},
   "outputs": [],
   "source": [
    "df.value = df.value.apply(float).apply(lambda x: x*100)"
   ]
  },
  {
   "cell_type": "code",
   "execution_count": 237,
   "metadata": {},
   "outputs": [
    {
     "data": {
      "text/html": [
       "\n",
       "<div id=\"altair-viz-14365d579a1348ee94c3490b07332c04\"></div>\n",
       "<script type=\"text/javascript\">\n",
       "  var VEGA_DEBUG = (typeof VEGA_DEBUG == \"undefined\") ? {} : VEGA_DEBUG;\n",
       "  (function(spec, embedOpt){\n",
       "    let outputDiv = document.currentScript.previousElementSibling;\n",
       "    if (outputDiv.id !== \"altair-viz-14365d579a1348ee94c3490b07332c04\") {\n",
       "      outputDiv = document.getElementById(\"altair-viz-14365d579a1348ee94c3490b07332c04\");\n",
       "    }\n",
       "    const paths = {\n",
       "      \"vega\": \"https://cdn.jsdelivr.net/npm//vega@5?noext\",\n",
       "      \"vega-lib\": \"https://cdn.jsdelivr.net/npm//vega-lib?noext\",\n",
       "      \"vega-lite\": \"https://cdn.jsdelivr.net/npm//vega-lite@4.17.0?noext\",\n",
       "      \"vega-embed\": \"https://cdn.jsdelivr.net/npm//vega-embed@6?noext\",\n",
       "    };\n",
       "\n",
       "    function maybeLoadScript(lib, version) {\n",
       "      var key = `${lib.replace(\"-\", \"\")}_version`;\n",
       "      return (VEGA_DEBUG[key] == version) ?\n",
       "        Promise.resolve(paths[lib]) :\n",
       "        new Promise(function(resolve, reject) {\n",
       "          var s = document.createElement('script');\n",
       "          document.getElementsByTagName(\"head\")[0].appendChild(s);\n",
       "          s.async = true;\n",
       "          s.onload = () => {\n",
       "            VEGA_DEBUG[key] = version;\n",
       "            return resolve(paths[lib]);\n",
       "          };\n",
       "          s.onerror = () => reject(`Error loading script: ${paths[lib]}`);\n",
       "          s.src = paths[lib];\n",
       "        });\n",
       "    }\n",
       "\n",
       "    function showError(err) {\n",
       "      outputDiv.innerHTML = `<div class=\"error\" style=\"color:red;\">${err}</div>`;\n",
       "      throw err;\n",
       "    }\n",
       "\n",
       "    function displayChart(vegaEmbed) {\n",
       "      vegaEmbed(outputDiv, spec, embedOpt)\n",
       "        .catch(err => showError(`Javascript Error: ${err.message}<br>This usually means there's a typo in your chart specification. See the javascript console for the full traceback.`));\n",
       "    }\n",
       "\n",
       "    if(typeof define === \"function\" && define.amd) {\n",
       "      requirejs.config({paths});\n",
       "      require([\"vega-embed\"], displayChart, err => showError(`Error loading script: ${err.message}`));\n",
       "    } else {\n",
       "      maybeLoadScript(\"vega\", \"5\")\n",
       "        .then(() => maybeLoadScript(\"vega-lite\", \"4.17.0\"))\n",
       "        .then(() => maybeLoadScript(\"vega-embed\", \"6\"))\n",
       "        .catch(showError)\n",
       "        .then(() => displayChart(vegaEmbed));\n",
       "    }\n",
       "  })({\"config\": {\"view\": {\"continuousWidth\": 400, \"continuousHeight\": 300, \"strokeOpacity\": 0}}, \"data\": {\"name\": \"data-e4fd82d5ca1474b2f393e426c394fb0b\"}, \"mark\": {\"type\": \"line\", \"point\": true}, \"encoding\": {\"tooltip\": [{\"field\": \"date\", \"format\": \"%Y-%m-%d %H:%M\", \"type\": \"temporal\"}, {\"field\": \"value\", \"type\": \"quantitative\"}], \"x\": {\"field\": \"date\", \"type\": \"temporal\"}, \"y\": {\"field\": \"value\", \"type\": \"quantitative\"}}, \"height\": 300, \"selection\": {\"selector002\": {\"type\": \"interval\", \"bind\": \"scales\", \"encodings\": [\"x\", \"y\"]}}, \"width\": 800, \"$schema\": \"https://vega.github.io/schema/vega-lite/v4.17.0.json\", \"datasets\": {\"data-e4fd82d5ca1474b2f393e426c394fb0b\": [{\"datetime\": 1625583600000, \"value\": 10.516557003519278, \"date\": \"2021-07-06T15:00:00\"}, {\"datetime\": 1625670000000, \"value\": 10.491026750311798, \"date\": \"2021-07-07T15:00:00\"}, {\"datetime\": 1625756400000, \"value\": 13.044786794992497, \"date\": \"2021-07-08T15:00:00\"}, {\"datetime\": 1625842800000, \"value\": 13.018621711538817, \"date\": \"2021-07-09T15:00:00\"}, {\"datetime\": 1625929200000, \"value\": 12.980842022996358, \"date\": \"2021-07-10T15:00:00\"}, {\"datetime\": 1626015600000, \"value\": 10.58600914923499, \"date\": \"2021-07-11T15:00:00\"}, {\"datetime\": 1626102000000, \"value\": 12.137017264230305, \"date\": \"2021-07-12T15:00:00\"}, {\"datetime\": 1626188400000, \"value\": 11.122908591662648, \"date\": \"2021-07-13T15:00:00\"}, {\"datetime\": 1626274800000, \"value\": 9.01084581007032, \"date\": \"2021-07-14T15:00:00\"}, {\"datetime\": 1626361200000, \"value\": 9.009098641530269, \"date\": \"2021-07-15T15:00:00\"}, {\"datetime\": 1626447600000, \"value\": 11.783302182789194, \"date\": \"2021-07-16T15:00:00\"}, {\"datetime\": 1626534000000, \"value\": 11.76095983646648, \"date\": \"2021-07-17T15:00:00\"}, {\"datetime\": 1626620400000, \"value\": 9.16322051391014, \"date\": \"2021-07-18T15:00:00\"}, {\"datetime\": 1626706800000, \"value\": 10.345383816885551, \"date\": \"2021-07-19T15:00:00\"}, {\"datetime\": 1626793200000, \"value\": 11.779331461429784, \"date\": \"2021-07-20T15:00:00\"}, {\"datetime\": 1626879600000, \"value\": 10.350177623129882, \"date\": \"2021-07-21T15:00:00\"}, {\"datetime\": 1626966000000, \"value\": 8.793859400342281, \"date\": \"2021-07-22T15:00:00\"}, {\"datetime\": 1627052400000, \"value\": 8.781738611394935, \"date\": \"2021-07-23T15:00:00\"}, {\"datetime\": 1627138800000, \"value\": 10.748457793486601, \"date\": \"2021-07-24T15:00:00\"}, {\"datetime\": 1627225200000, \"value\": 10.736182507369216, \"date\": \"2021-07-25T15:00:00\"}, {\"datetime\": 1627311600000, \"value\": 7.924369329488165, \"date\": \"2021-07-26T15:00:00\"}, {\"datetime\": 1627398000000, \"value\": 8.700446844478464, \"date\": \"2021-07-27T15:00:00\"}, {\"datetime\": 1627484400000, \"value\": 8.69036277293325, \"date\": \"2021-07-28T15:00:00\"}, {\"datetime\": 1627570800000, \"value\": 7.488051760216094, \"date\": \"2021-07-29T15:00:00\"}, {\"datetime\": 1627657200000, \"value\": 6.0436566490460955, \"date\": \"2021-07-30T15:00:00\"}, {\"datetime\": 1627743600000, \"value\": 6.0189218918786604, \"date\": \"2021-07-31T15:00:00\"}, {\"datetime\": 1627830000000, \"value\": 7.429558053318806, \"date\": \"2021-08-01T15:00:00\"}, {\"datetime\": 1627916400000, \"value\": 7.412265197799364, \"date\": \"2021-08-02T15:00:00\"}, {\"datetime\": 1628002800000, \"value\": 5.962984186180553, \"date\": \"2021-08-03T15:00:00\"}, {\"datetime\": 1628089200000, \"value\": 6.664750011785291, \"date\": \"2021-08-04T15:00:00\"}, {\"datetime\": 1628175600000, \"value\": 6.651635191738864, \"date\": \"2021-08-05T15:00:00\"}, {\"datetime\": 1628262000000, \"value\": 5.85760016350443, \"date\": \"2021-08-06T15:00:00\"}, {\"datetime\": 1628348400000, \"value\": 5.83513880268396, \"date\": \"2021-08-07T15:00:00\"}, {\"datetime\": 1628434800000, \"value\": 5.828565649203045, \"date\": \"2021-08-08T15:00:00\"}, {\"datetime\": 1628521200000, \"value\": 7.4504668698500325, \"date\": \"2021-08-09T15:00:00\"}, {\"datetime\": 1628607600000, \"value\": 7.446653041394663, \"date\": \"2021-08-10T15:00:00\"}, {\"datetime\": 1628694000000, \"value\": 6.747443498576204, \"date\": \"2021-08-11T15:00:00\"}, {\"datetime\": 1628780400000, \"value\": 7.451149652305607, \"date\": \"2021-08-12T15:00:00\"}, {\"datetime\": 1628866800000, \"value\": 6.896967576028995, \"date\": \"2021-08-13T15:00:00\"}, {\"datetime\": 1628953200000, \"value\": 6.163770545446132, \"date\": \"2021-08-14T15:00:00\"}, {\"datetime\": 1629039600000, \"value\": 6.171446172768161, \"date\": \"2021-08-15T15:00:00\"}, {\"datetime\": 1629126000000, \"value\": 6.177594052722483, \"date\": \"2021-08-16T15:00:00\"}, {\"datetime\": 1629212400000, \"value\": 7.328501008541428, \"date\": \"2021-08-17T15:00:00\"}, {\"datetime\": 1629298800000, \"value\": 7.332606205609696, \"date\": \"2021-08-18T15:00:00\"}, {\"datetime\": 1629385200000, \"value\": 6.545677699603236, \"date\": \"2021-08-19T15:00:00\"}, {\"datetime\": 1629471600000, \"value\": 7.088015626609175, \"date\": \"2021-08-20T15:00:00\"}, {\"datetime\": 1629558000000, \"value\": 6.3425230956419565, \"date\": \"2021-08-21T15:00:00\"}, {\"datetime\": 1629644400000, \"value\": 5.641057225003179, \"date\": \"2021-08-22T15:00:00\"}, {\"datetime\": 1629730800000, \"value\": 5.655777957730079, \"date\": \"2021-08-23T15:00:00\"}, {\"datetime\": 1629817200000, \"value\": 5.6772271320502155, \"date\": \"2021-08-24T15:00:00\"}, {\"datetime\": 1629903600000, \"value\": 6.808988109436255, \"date\": \"2021-08-25T15:00:00\"}, {\"datetime\": 1629990000000, \"value\": 6.822681571929383, \"date\": \"2021-08-26T15:00:00\"}, {\"datetime\": 1630076400000, \"value\": 6.349162735081817, \"date\": \"2021-08-27T15:00:00\"}, {\"datetime\": 1630162800000, \"value\": 6.770319441180016, \"date\": \"2021-08-28T15:00:00\"}, {\"datetime\": 1630249200000, \"value\": 5.941616362129911, \"date\": \"2021-08-29T15:00:00\"}, {\"datetime\": 1630335600000, \"value\": 5.415908395149767, \"date\": \"2021-08-30T15:00:00\"}, {\"datetime\": 1630422000000, \"value\": 5.4314569776448, \"date\": \"2021-08-31T15:00:00\"}, {\"datetime\": 1630508400000, \"value\": 5.435023486677212, \"date\": \"2021-09-01T15:00:00\"}, {\"datetime\": 1630594800000, \"value\": 6.486665684172746, \"date\": \"2021-09-02T15:00:00\"}, {\"datetime\": 1630681200000, \"value\": 6.487029847783045, \"date\": \"2021-09-03T15:00:00\"}, {\"datetime\": 1630767600000, \"value\": 5.98510316900736, \"date\": \"2021-09-04T15:00:00\"}, {\"datetime\": 1630854000000, \"value\": 6.455348988526545, \"date\": \"2021-09-05T15:00:00\"}, {\"datetime\": 1630940400000, \"value\": 5.796392905065122, \"date\": \"2021-09-06T15:00:00\"}, {\"datetime\": 1631026800000, \"value\": 5.387584801815339, \"date\": \"2021-09-07T15:00:00\"}, {\"datetime\": 1631113200000, \"value\": 5.390903375995839, \"date\": \"2021-09-08T15:00:00\"}, {\"datetime\": 1631199600000, \"value\": 5.404858813651021, \"date\": \"2021-09-09T15:00:00\"}, {\"datetime\": 1631286000000, \"value\": 5.4054437699698585, \"date\": \"2021-09-10T15:00:00\"}, {\"datetime\": 1631372400000, \"value\": 5.407188200671655, \"date\": \"2021-09-11T15:00:00\"}, {\"datetime\": 1631458800000, \"value\": 4.85975407924238, \"date\": \"2021-09-12T15:00:00\"}, {\"datetime\": 1631545200000, \"value\": 5.2289218251988805, \"date\": \"2021-09-13T15:00:00\"}, {\"datetime\": 1631631600000, \"value\": 4.633662010566134, \"date\": \"2021-09-14T15:00:00\"}, {\"datetime\": 1631718000000, \"value\": 4.179993056694807, \"date\": \"2021-09-15T15:00:00\"}, {\"datetime\": 1631804400000, \"value\": 4.192104768732929, \"date\": \"2021-09-16T15:00:00\"}, {\"datetime\": 1631890800000, \"value\": 4.1901836916703, \"date\": \"2021-09-17T15:00:00\"}, {\"datetime\": 1631977200000, \"value\": 5.33359484112041, \"date\": \"2021-09-18T15:00:00\"}, {\"datetime\": 1632063600000, \"value\": 5.342673290981422, \"date\": \"2021-09-19T15:00:00\"}, {\"datetime\": 1632150000000, \"value\": 5.359129820964404, \"date\": \"2021-09-20T15:00:00\"}, {\"datetime\": 1632236400000, \"value\": 5.368061049717541, \"date\": \"2021-09-21T15:00:00\"}, {\"datetime\": 1632322800000, \"value\": 4.870336398503262, \"date\": \"2021-09-22T15:00:00\"}, {\"datetime\": 1632409200000, \"value\": 4.5004519228558175, \"date\": \"2021-09-23T15:00:00\"}, {\"datetime\": 1632495600000, \"value\": 4.469566496144846, \"date\": \"2021-09-24T15:00:00\"}, {\"datetime\": 1632582000000, \"value\": 4.440472933554478, \"date\": \"2021-09-25T15:00:00\"}, {\"datetime\": 1632668400000, \"value\": 4.421648087780426, \"date\": \"2021-09-26T15:00:00\"}, {\"datetime\": 1632754800000, \"value\": 4.41371270642697, \"date\": \"2021-09-27T15:00:00\"}, {\"datetime\": 1632754800000, \"value\": 3.2643017597381814, \"date\": \"2021-09-27T15:00:00\"}, {\"datetime\": 1632841200000, \"value\": 3.2391974976384743, \"date\": \"2021-09-28T15:00:00\"}, {\"datetime\": 1632841200000, \"value\": 3.2194667828750494, \"date\": \"2021-09-28T15:00:00\"}, {\"datetime\": 1632927600000, \"value\": 3.1615822546748857, \"date\": \"2021-09-29T15:00:00\"}, {\"datetime\": 1633014000000, \"value\": 3.141274764634758, \"date\": \"2021-09-30T15:00:00\"}, {\"datetime\": 1633100400000, \"value\": 3.1303461482603643, \"date\": \"2021-10-01T15:00:00\"}, {\"datetime\": 1633186800000, \"value\": 3.135474179020987, \"date\": \"2021-10-02T15:00:00\"}, {\"datetime\": 1633273200000, \"value\": 3.1428013726110726, \"date\": \"2021-10-03T15:00:00\"}, {\"datetime\": 1633359600000, \"value\": 3.900961884582941, \"date\": \"2021-10-04T15:00:00\"}, {\"datetime\": 1633446000000, \"value\": 3.900863402438279, \"date\": \"2021-10-05T15:00:00\"}, {\"datetime\": 1633532400000, \"value\": 4.463271461749814, \"date\": \"2021-10-06T15:00:00\"}, {\"datetime\": 1633618800000, \"value\": 4.710809518179924, \"date\": \"2021-10-07T15:00:00\"}, {\"datetime\": 1633705200000, \"value\": 4.705443205583982, \"date\": \"2021-10-08T15:00:00\"}, {\"datetime\": 1633791600000, \"value\": 4.7465277644418995, \"date\": \"2021-10-09T15:00:00\"}, {\"datetime\": 1633878000000, \"value\": 4.76252139257176, \"date\": \"2021-10-10T15:00:00\"}, {\"datetime\": 1633964400000, \"value\": 4.773567021161786, \"date\": \"2021-10-11T15:00:00\"}, {\"datetime\": 1634050800000, \"value\": 5.535041007099668, \"date\": \"2021-10-12T15:00:00\"}, {\"datetime\": 1634137200000, \"value\": 5.550760090847503, \"date\": \"2021-10-13T15:00:00\"}, {\"datetime\": 1634223600000, \"value\": 5.304593809077562, \"date\": \"2021-10-14T15:00:00\"}, {\"datetime\": 1634310000000, \"value\": 5.598098054772692, \"date\": \"2021-10-15T15:00:00\"}, {\"datetime\": 1634396400000, \"value\": 5.023528740068745, \"date\": \"2021-10-16T15:00:00\"}, {\"datetime\": 1634482800000, \"value\": 4.7649420788900585, \"date\": \"2021-10-17T15:00:00\"}, {\"datetime\": 1634569200000, \"value\": 4.768354185788393, \"date\": \"2021-10-18T15:00:00\"}, {\"datetime\": 1634655600000, \"value\": 4.7676770610324395, \"date\": \"2021-10-19T15:00:00\"}, {\"datetime\": 1634742000000, \"value\": 5.555339329297085, \"date\": \"2021-10-20T15:00:00\"}, {\"datetime\": 1634828400000, \"value\": 5.5449976056133075, \"date\": \"2021-10-21T15:00:00\"}, {\"datetime\": 1634914800000, \"value\": 5.170089511907223, \"date\": \"2021-10-22T15:00:00\"}, {\"datetime\": 1635001200000, \"value\": 5.397850160307575, \"date\": \"2021-10-23T15:00:00\"}, {\"datetime\": 1635087600000, \"value\": 4.874371627998906, \"date\": \"2021-10-24T15:00:00\"}, {\"datetime\": 1635174000000, \"value\": 4.568720096976426, \"date\": \"2021-10-25T15:00:00\"}, {\"datetime\": 1635260400000, \"value\": 4.56809202554991, \"date\": \"2021-10-26T15:00:00\"}, {\"datetime\": 1635346800000, \"value\": 5.2843314762569085, \"date\": \"2021-10-27T15:00:00\"}, {\"datetime\": 1635433200000, \"value\": 5.262790326587638, \"date\": \"2021-10-28T15:00:00\"}, {\"datetime\": 1635519600000, \"value\": 5.2451076631907565, \"date\": \"2021-10-29T15:00:00\"}, {\"datetime\": 1635606000000, \"value\": 4.7650940035004545, \"date\": \"2021-10-30T15:00:00\"}, {\"datetime\": 1635692400000, \"value\": 5.016200083827373, \"date\": \"2021-10-31T15:00:00\"}, {\"datetime\": 1635778800000, \"value\": 4.609269094557134, \"date\": \"2021-11-01T15:00:00\"}, {\"datetime\": 1635865200000, \"value\": 4.350913716220582, \"date\": \"2021-11-02T15:00:00\"}, {\"datetime\": 1635951600000, \"value\": 4.350408286284216, \"date\": \"2021-11-03T15:00:00\"}, {\"datetime\": 1636038000000, \"value\": 4.347471767936094, \"date\": \"2021-11-04T15:00:00\"}, {\"datetime\": 1636124400000, \"value\": 5.037135915131607, \"date\": \"2021-11-05T15:00:00\"}, {\"datetime\": 1636210800000, \"value\": 4.310277906671074, \"date\": \"2021-11-06T15:00:00\"}, {\"datetime\": 1636297200000, \"value\": 4.55852403270494, \"date\": \"2021-11-07T15:00:00\"}, {\"datetime\": 1636383600000, \"value\": 4.808716362775183, \"date\": \"2021-11-08T15:00:00\"}, {\"datetime\": 1636470000000, \"value\": 4.596727435078938, \"date\": \"2021-11-09T15:00:00\"}, {\"datetime\": 1636556400000, \"value\": 4.5904570142098855, \"date\": \"2021-11-10T15:00:00\"}, {\"datetime\": 1636642800000, \"value\": 4.889593354395635, \"date\": \"2021-11-11T15:00:00\"}, {\"datetime\": 1636729200000, \"value\": 5.995017187073138, \"date\": \"2021-11-12T15:00:00\"}, {\"datetime\": 1636815600000, \"value\": 6.364518874673548, \"date\": \"2021-11-13T15:00:00\"}, {\"datetime\": 1636902000000, \"value\": 6.775421810214801, \"date\": \"2021-11-14T15:00:00\"}, {\"datetime\": 1636988400000, \"value\": 6.810223722155581, \"date\": \"2021-11-15T15:00:00\"}, {\"datetime\": 1637074800000, \"value\": 7.602127089060855, \"date\": \"2021-11-16T15:00:00\"}, {\"datetime\": 1637161200000, \"value\": 7.938446840255361, \"date\": \"2021-11-17T15:00:00\"}, {\"datetime\": 1637247600000, \"value\": 8.313109326128426, \"date\": \"2021-11-18T15:00:00\"}, {\"datetime\": 1637334000000, \"value\": 8.833269626657465, \"date\": \"2021-11-19T15:00:00\"}, {\"datetime\": 1637420400000, \"value\": 9.978125428252735, \"date\": \"2021-11-20T15:00:00\"}, {\"datetime\": 1637506800000, \"value\": 10.347868263488246, \"date\": \"2021-11-21T15:00:00\"}, {\"datetime\": 1637593200000, \"value\": 10.150166440104208, \"date\": \"2021-11-22T15:00:00\"}, {\"datetime\": 1637679600000, \"value\": 10.685818732016267, \"date\": \"2021-11-23T15:00:00\"}, {\"datetime\": 1637766000000, \"value\": 10.957516705654315, \"date\": \"2021-11-24T15:00:00\"}, {\"datetime\": 1637852400000, \"value\": 10.876568664997023, \"date\": \"2021-11-25T15:00:00\"}, {\"datetime\": 1637938800000, \"value\": 10.740131778284168, \"date\": \"2021-11-26T15:00:00\"}, {\"datetime\": 1638025200000, \"value\": 10.775173855761103, \"date\": \"2021-11-27T15:00:00\"}, {\"datetime\": 1638111600000, \"value\": 10.735036502667791, \"date\": \"2021-11-28T15:00:00\"}, {\"datetime\": 1638198000000, \"value\": 10.642925929552652, \"date\": \"2021-11-29T15:00:00\"}, {\"datetime\": 1638284400000, \"value\": 9.940941742789441, \"date\": \"2021-11-30T15:00:00\"}, {\"datetime\": 1638370800000, \"value\": 9.911338794790096, \"date\": \"2021-12-01T15:00:00\"}, {\"datetime\": 1638457200000, \"value\": 9.468086803316684, \"date\": \"2021-12-02T15:00:00\"}, {\"datetime\": 1638543600000, \"value\": 9.066319563886907, \"date\": \"2021-12-03T15:00:00\"}, {\"datetime\": 1638630000000, \"value\": 8.84163339889909, \"date\": \"2021-12-04T15:00:00\"}, {\"datetime\": 1638716400000, \"value\": 8.679767126919874, \"date\": \"2021-12-05T15:00:00\"}, {\"datetime\": 1638802800000, \"value\": 8.517645327771783, \"date\": \"2021-12-06T15:00:00\"}, {\"datetime\": 1638889200000, \"value\": 8.389623417702442, \"date\": \"2021-12-07T15:00:00\"}, {\"datetime\": 1638975600000, \"value\": 8.458735280558244, \"date\": \"2021-12-08T15:00:00\"}, {\"datetime\": 1639062000000, \"value\": 8.570304115510522, \"date\": \"2021-12-09T15:00:00\"}, {\"datetime\": 1639148400000, \"value\": 8.418205982022494, \"date\": \"2021-12-10T15:00:00\"}, {\"datetime\": 1639234800000, \"value\": 8.335985106772412, \"date\": \"2021-12-11T15:00:00\"}, {\"datetime\": 1639321200000, \"value\": 8.42380146610074, \"date\": \"2021-12-12T15:00:00\"}, {\"datetime\": 1639407600000, \"value\": 8.49417660853981, \"date\": \"2021-12-13T15:00:00\"}, {\"datetime\": 1639494000000, \"value\": 9.156899616008136, \"date\": \"2021-12-14T15:00:00\"}, {\"datetime\": 1639580400000, \"value\": 9.212304438520134, \"date\": \"2021-12-15T15:00:00\"}, {\"datetime\": 1639666800000, \"value\": 9.266518754002224, \"date\": \"2021-12-16T15:00:00\"}, {\"datetime\": 1639753200000, \"value\": 9.308081061352713, \"date\": \"2021-12-17T15:00:00\"}, {\"datetime\": 1639839600000, \"value\": 9.152496597520923, \"date\": \"2021-12-18T15:00:00\"}, {\"datetime\": 1639926000000, \"value\": 8.972003381945145, \"date\": \"2021-12-19T15:00:00\"}, {\"datetime\": 1640012400000, \"value\": 8.890042699857146, \"date\": \"2021-12-20T15:00:00\"}, {\"datetime\": 1640098800000, \"value\": 8.767999542440963, \"date\": \"2021-12-21T15:00:00\"}, {\"datetime\": 1640185200000, \"value\": 9.141768464907765, \"date\": \"2021-12-22T15:00:00\"}, {\"datetime\": 1640271600000, \"value\": 8.990360544275417, \"date\": \"2021-12-23T15:00:00\"}, {\"datetime\": 1640358000000, \"value\": 8.29190917610953, \"date\": \"2021-12-24T15:00:00\"}, {\"datetime\": 1640444400000, \"value\": 8.168719804908694, \"date\": \"2021-12-25T15:00:00\"}, {\"datetime\": 1640530800000, \"value\": 8.043080713919053, \"date\": \"2021-12-26T15:00:00\"}, {\"datetime\": 1640617200000, \"value\": 7.944972224029949, \"date\": \"2021-12-27T15:00:00\"}, {\"datetime\": 1640703600000, \"value\": 7.896136241617839, \"date\": \"2021-12-28T15:00:00\"}, {\"datetime\": 1640790000000, \"value\": 7.871114907998029, \"date\": \"2021-12-29T15:00:00\"}, {\"datetime\": 1640876400000, \"value\": 7.851351983686529, \"date\": \"2021-12-30T15:00:00\"}, {\"datetime\": 1640962800000, \"value\": 7.859132737930613, \"date\": \"2021-12-31T15:00:00\"}, {\"datetime\": 1641049200000, \"value\": 7.458317297869903, \"date\": \"2022-01-01T15:00:00\"}, {\"datetime\": 1641135600000, \"value\": 7.562599063978373, \"date\": \"2022-01-02T15:00:00\"}, {\"datetime\": 1641222000000, \"value\": 7.566323266562076, \"date\": \"2022-01-03T15:00:00\"}, {\"datetime\": 1641308400000, \"value\": 7.584125719657951, \"date\": \"2022-01-04T15:00:00\"}, {\"datetime\": 1641394800000, \"value\": 7.628656270020155, \"date\": \"2022-01-05T15:00:00\"}, {\"datetime\": 1641481200000, \"value\": 8.095550066029551, \"date\": \"2022-01-06T15:00:00\"}, {\"datetime\": 1641567600000, \"value\": 8.141303015568282, \"date\": \"2022-01-07T15:00:00\"}, {\"datetime\": 1641654000000, \"value\": 8.311263459917523, \"date\": \"2022-01-08T15:00:00\"}, {\"datetime\": 1641740400000, \"value\": 8.448197135564072, \"date\": \"2022-01-09T15:00:00\"}, {\"datetime\": 1641826800000, \"value\": 8.498136157577987, \"date\": \"2022-01-10T15:00:00\"}, {\"datetime\": 1641913200000, \"value\": 8.437395089336565, \"date\": \"2022-01-11T15:00:00\"}, {\"datetime\": 1641999600000, \"value\": 8.352757267260639, \"date\": \"2022-01-12T15:00:00\"}, {\"datetime\": 1642086000000, \"value\": 8.365023765170692, \"date\": \"2022-01-13T15:00:00\"}, {\"datetime\": 1642172400000, \"value\": 8.73198586866511, \"date\": \"2022-01-14T15:00:00\"}, {\"datetime\": 1642258800000, \"value\": 8.710415220787555, \"date\": \"2022-01-15T15:00:00\"}, {\"datetime\": 1642345200000, \"value\": 8.362272959770415, \"date\": \"2022-01-16T15:00:00\"}, {\"datetime\": 1642431600000, \"value\": 8.337555682817364, \"date\": \"2022-01-17T15:00:00\"}, {\"datetime\": 1642518000000, \"value\": 8.177189497631797, \"date\": \"2022-01-18T15:00:00\"}, {\"datetime\": 1642604400000, \"value\": 8.048115736365041, \"date\": \"2022-01-19T15:00:00\"}, {\"datetime\": 1642690800000, \"value\": 7.994467882703256, \"date\": \"2022-01-20T15:00:00\"}, {\"datetime\": 1642777200000, \"value\": 8.029935619540971, \"date\": \"2022-01-21T15:00:00\"}, {\"datetime\": 1642863600000, \"value\": 8.104712095944407, \"date\": \"2022-01-22T15:00:00\"}, {\"datetime\": 1642950000000, \"value\": 8.181027916699225, \"date\": \"2022-01-23T15:00:00\"}, {\"datetime\": 1643036400000, \"value\": 7.892109749535909, \"date\": \"2022-01-24T15:00:00\"}, {\"datetime\": 1643122800000, \"value\": 7.977026182854904, \"date\": \"2022-01-25T15:00:00\"}, {\"datetime\": 1643209200000, \"value\": 7.964109480883966, \"date\": \"2022-01-26T15:00:00\"}, {\"datetime\": 1643295600000, \"value\": 8.064153287916506, \"date\": \"2022-01-27T15:00:00\"}, {\"datetime\": 1643382000000, \"value\": 8.205975447355069, \"date\": \"2022-01-28T15:00:00\"}, {\"datetime\": 1643468400000, \"value\": 8.354114544977165, \"date\": \"2022-01-29T15:00:00\"}, {\"datetime\": 1643554800000, \"value\": 8.561251188726168, \"date\": \"2022-01-30T15:00:00\"}, {\"datetime\": 1643641200000, \"value\": 8.655912034270658, \"date\": \"2022-01-31T15:00:00\"}, {\"datetime\": 1643727600000, \"value\": 8.726846511765997, \"date\": \"2022-02-01T15:00:00\"}, {\"datetime\": 1643814000000, \"value\": 8.824039137335465, \"date\": \"2022-02-02T15:00:00\"}, {\"datetime\": 1643900400000, \"value\": 8.912772957386291, \"date\": \"2022-02-03T15:00:00\"}, {\"datetime\": 1643986800000, \"value\": 8.949961754964514, \"date\": \"2022-02-04T15:00:00\"}, {\"datetime\": 1644073200000, \"value\": 8.977964354305882, \"date\": \"2022-02-05T15:00:00\"}, {\"datetime\": 1644159600000, \"value\": 9.266351137776931, \"date\": \"2022-02-06T15:00:00\"}, {\"datetime\": 1644246000000, \"value\": 9.218581629000896, \"date\": \"2022-02-07T15:00:00\"}, {\"datetime\": 1644332400000, \"value\": 9.269340963498282, \"date\": \"2022-02-08T15:00:00\"}, {\"datetime\": 1644418800000, \"value\": 9.190451290664694, \"date\": \"2022-02-09T15:00:00\"}, {\"datetime\": 1644505200000, \"value\": 9.179177785092628, \"date\": \"2022-02-10T15:00:00\"}, {\"datetime\": 1644591600000, \"value\": 9.182931011187828, \"date\": \"2022-02-11T15:00:00\"}, {\"datetime\": 1644678000000, \"value\": 9.159987523570365, \"date\": \"2022-02-12T15:00:00\"}, {\"datetime\": 1644764400000, \"value\": 9.565050936354682, \"date\": \"2022-02-13T15:00:00\"}, {\"datetime\": 1644850800000, \"value\": 9.566243558496906, \"date\": \"2022-02-14T15:00:00\"}, {\"datetime\": 1644937200000, \"value\": 9.542593763033635, \"date\": \"2022-02-15T15:00:00\"}, {\"datetime\": 1645023600000, \"value\": 9.269486098843064, \"date\": \"2022-02-16T15:00:00\"}, {\"datetime\": 1645110000000, \"value\": 9.245973966346984, \"date\": \"2022-02-17T15:00:00\"}, {\"datetime\": 1645196400000, \"value\": 9.129198151073247, \"date\": \"2022-02-18T15:00:00\"}, {\"datetime\": 1645282800000, \"value\": 9.110989417073162, \"date\": \"2022-02-19T15:00:00\"}, {\"datetime\": 1645369200000, \"value\": 9.06591446955722, \"date\": \"2022-02-20T15:00:00\"}, {\"datetime\": 1645455600000, \"value\": 9.009207300553173, \"date\": \"2022-02-21T15:00:00\"}, {\"datetime\": 1645542000000, \"value\": 8.929043258948182, \"date\": \"2022-02-22T15:00:00\"}, {\"datetime\": 1645628400000, \"value\": 8.422739416596938, \"date\": \"2022-02-23T15:00:00\"}, {\"datetime\": 1645714800000, \"value\": 8.322003269888752, \"date\": \"2022-02-24T15:00:00\"}, {\"datetime\": 1645801200000, \"value\": 8.207306407843117, \"date\": \"2022-02-25T15:00:00\"}, {\"datetime\": 1645887600000, \"value\": 8.040467677469538, \"date\": \"2022-02-26T15:00:00\"}, {\"datetime\": 1645974000000, \"value\": 7.925045548733702, \"date\": \"2022-02-27T15:00:00\"}, {\"datetime\": 1646060400000, \"value\": 7.7504402550478275, \"date\": \"2022-02-28T15:00:00\"}, {\"datetime\": 1646146800000, \"value\": 7.551346282198904, \"date\": \"2022-03-01T15:00:00\"}, {\"datetime\": 1646233200000, \"value\": 7.360685248627517, \"date\": \"2022-03-02T15:00:00\"}, {\"datetime\": 1646319600000, \"value\": 7.188218651980398, \"date\": \"2022-03-03T15:00:00\"}, {\"datetime\": 1646406000000, \"value\": 7.054812965474758, \"date\": \"2022-03-04T15:00:00\"}, {\"datetime\": 1646492400000, \"value\": 6.932067730925478, \"date\": \"2022-03-05T15:00:00\"}, {\"datetime\": 1646578800000, \"value\": 6.855740284343178, \"date\": \"2022-03-06T15:00:00\"}, {\"datetime\": 1646665200000, \"value\": 6.81135800269274, \"date\": \"2022-03-07T15:00:00\"}, {\"datetime\": 1646751600000, \"value\": 6.740162722440834, \"date\": \"2022-03-08T15:00:00\"}]}}, {\"theme\": \"light\", \"mode\": \"vega-lite\"});\n",
       "</script>"
      ],
      "text/plain": [
       "alt.Chart(...)"
      ]
     },
     "execution_count": 237,
     "metadata": {},
     "output_type": "execute_result"
    }
   ],
   "source": [
    "mars_price_chart = alt.Chart(df).mark_line(point = True).encode(\n",
    "    x=alt.X('date:T'),\n",
    "    y=alt.X('value:Q'),\n",
    "    tooltip=[alt.Tooltip('date:T', format='%Y-%m-%d %H:%M'),'value:Q']\n",
    ").properties(width=800).properties(height=300).configure_view(strokeOpacity=0).interactive()\n",
    "mars_price_chart"
   ]
  },
  {
   "cell_type": "code",
   "execution_count": null,
   "metadata": {},
   "outputs": [],
   "source": []
  },
  {
   "cell_type": "code",
   "execution_count": null,
   "metadata": {},
   "outputs": [],
   "source": []
  }
 ],
 "metadata": {
  "kernelspec": {
   "display_name": "Python 3 (ipykernel)",
   "language": "python",
   "name": "python3"
  },
  "language_info": {
   "codemirror_mode": {
    "name": "ipython",
    "version": 3
   },
   "file_extension": ".py",
   "mimetype": "text/x-python",
   "name": "python",
   "nbconvert_exporter": "python",
   "pygments_lexer": "ipython3",
   "version": "3.8.2"
  }
 },
 "nbformat": 4,
 "nbformat_minor": 4
}
