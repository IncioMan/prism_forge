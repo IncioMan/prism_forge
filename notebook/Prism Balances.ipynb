{
 "cells": [
  {
   "cell_type": "code",
   "execution_count": 17,
   "metadata": {
    "scrolled": true
   },
   "outputs": [],
   "source": [
    "import pandas as pd\n",
    "import altair as alt\n",
    "import warnings\n",
    "warnings.filterwarnings(\"ignore\")\n",
    "alt.renderers.set_embed_options(theme='light')\n",
    "pd.set_option(\"display.max_colwidth\", 400)\n",
    "pd.set_option(\"display.max_rows\", 400)\n"
   ]
  },
  {
   "cell_type": "markdown",
   "metadata": {},
   "source": [
    "Trend line of what yLUNA is being used for?  PRISM Farm, yLUNA Staking, LPing, or Nothing."
   ]
  },
  {
   "cell_type": "code",
   "execution_count": 18,
   "metadata": {},
   "outputs": [],
   "source": [
    "prism_addr = 'terra1dh9478k2qvqhqeajhn75a2a7dsnf74y5ukregw'\n",
    "yluna_addr = 'terra17wkadg0tah554r35x6wvff0y5s7ve8npcjfuhz'\n",
    "pluna_addr = 'terra1tlgelulz9pdkhls6uglfn5lmxarx7f2gxtdzh2'\n",
    "pLuna_PRISM_Pair = 'terra1persuahr6f8fm6nyup0xjc7aveaur89nwgs5vs'\n",
    "yLuna_PRISM_Pair = 'terra1kqc65n5060rtvcgcktsxycdt2a4r67q2zlvhce'"
   ]
  },
  {
   "cell_type": "code",
   "execution_count": 19,
   "metadata": {},
   "outputs": [],
   "source": [
    "def claim(claim_hash):\n",
    "    df = pd.read_json(\n",
    "            f\"https://api.flipsidecrypto.com/api/v2/queries/{claim_hash}/data/latest\",\n",
    "            convert_dates=[\"BLOCK_TIMESTAMP\"])\n",
    "    df.columns = [c.lower() for c in df.columns]\n",
    "    return df"
   ]
  },
  {
   "cell_type": "code",
   "execution_count": 20,
   "metadata": {},
   "outputs": [],
   "source": [
    "def get_url(url):\n",
    "    return pd.read_csv(url, index_col=0)"
   ]
  },
  {
   "cell_type": "code",
   "execution_count": 51,
   "metadata": {},
   "outputs": [],
   "source": [
    "class PrismBalanceDataProvider:\n",
    "    def __init__(self, claim, get_url, path_to_data='../data'):\n",
    "        self.transfers = '9651b671-1f85-4133-8384-20042dc1adb1'\n",
    "        self.boost_activation = 'ccbaf92f-6aaa-4460-a65f-83814431fd17'\n",
    "        self.prism_forge = '2a364c52-9c37-4540-81c7-e5b890f0ef6b'\n",
    "        self.claim = claim\n",
    "        self.get_url = get_url\n",
    "        self.path_to_data = path_to_data\n",
    "    \n",
    "    def load(self):\n",
    "        self.load_from_url()\n",
    "        self.load_from_csv()\n",
    "        for df in [self.transfers_df, self.boost_activation_df, self.prism_forge_df,\n",
    "                  self.transfers_df_from_csv, self.boost_activation_df_from_csv, self.prism_forge_df_from_csv]:\n",
    "            df.columns = [c.lower() for c in df.columns]\n",
    "       \n",
    "        self.transfers_df = self.transfers_df.append(self.transfers_df_from_csv).drop_duplicates()\n",
    "        self.boost_activation_df = self.boost_activation_df.append(self.boost_activation_df_from_csv).drop_duplicates()\n",
    "        self.prism_forge_df = self.prism_forge_df.append(self.prism_forge_df_from_csv).drop_duplicates()\n",
    "            \n",
    "    def load_from_url(self):\n",
    "        self.transfers_df = self.claim(self.transfers)\n",
    "        self.boost_activation_df = self.claim(self.boost_activation)\n",
    "        self.prism_forge_df = self.claim(self.prism_forge)\n",
    "        \n",
    "    def write_to_csv(self):\n",
    "        self.transfers_df.to_csv(f'{self.path_to_data}/transfers.csv')\n",
    "        self.boost_activation_df.to_csv(f'{self.path_to_data}/boost_activation.csv')\n",
    "        self.prism_forge_df.to_csv(f'{self.path_to_data}/prism_forge.csv')\n",
    "        \n",
    "    def load_from_csv(self):\n",
    "        self.transfers_df_from_csv = pd.read_csv(f'{self.path_to_data}/transfers.csv', index_col=0)\n",
    "        self.boost_activation_df_from_csv = pd.read_csv(f'{self.path_to_data}/boost_activation.csv', index_col=0)\n",
    "        self.prism_forge_df_from_csv = pd.read_csv(f'{self.path_to_data}/prism_forge.csv', index_col=0)\n",
    "        \n",
    "    def parse_forge_withdrawals(self):\n",
    "        prism_forge_df = self.prism_forge_df\n",
    "        prism_forge_df.block_timestamp=prism_forge_df.block_timestamp.apply(str).apply(lambda x: x[:-4] if len(x) == 23 else x)\n",
    "        prism_forge_df.block_timestamp=prism_forge_df.block_timestamp.apply(str).apply(lambda x: x[:-3] if len(x) == 22 else x)\n",
    "        prism_forge_df.block_timestamp=prism_forge_df.block_timestamp.apply(str).apply(lambda x: x[:-7] if len(x) == 26 else x)\n",
    "        prism_forge_df['hr'] = prism_forge_df.block_timestamp.str[:-5] + '00:00.000'\n",
    "        prism_forge_df['day'] = prism_forge_df.block_timestamp.str[:-9]\n",
    "        prism_forge_df['amount'] = prism_forge_df.withdraw_amount/1000000\n",
    "        prism_forge_df = prism_forge_df[['block_timestamp','tx_id','to_','amount','day']]\n",
    "        prism_forge_df.columns = ['block_timestamp','tx_id','user','amount','day']\n",
    "        prism_forge_df['amount_signed'] = prism_forge_df.amount\n",
    "        self.prism_forge_df = prism_forge_df\n",
    "        \n",
    "    def parse_transfers(self):\n",
    "        transfers_df = self.transfers_df\n",
    "        transfers_df.block_timestamp=transfers_df.block_timestamp.apply(str).apply(lambda x: x[:-4] if len(x) == 23 else x)\n",
    "        transfers_df.block_timestamp=transfers_df.block_timestamp.apply(str).apply(lambda x: x[:-3] if len(x) == 22 else x)\n",
    "        transfers_df.block_timestamp=transfers_df.block_timestamp.apply(str).apply(lambda x: x[:-7] if len(x) == 26 else x)\n",
    "        transfers_df['hr'] = transfers_df.block_timestamp.str[:-5] + '00:00.000'\n",
    "        transfers_df['day'] = transfers_df.block_timestamp.str[:-9]\n",
    "        transfers_df['amount'] = transfers_df.amount/1000000\n",
    "        self.transfers_df= transfers_df\n",
    "        send_tx = transfers_df[['block_timestamp','tx_id','from_','amount','day']]\n",
    "        send_tx.columns = ['block_timestamp','tx_id','user','amount','day']\n",
    "        send_tx['amount_signed'] = -send_tx.amount\n",
    "        receive_tx = transfers_df[['block_timestamp','tx_id','to_','amount','day']]\n",
    "        receive_tx.columns = ['block_timestamp','tx_id','user','amount','day']\n",
    "        receive_tx['amount_signed'] = receive_tx.amount\n",
    "        self.all_transfers = send_tx.append(receive_tx)\n",
    "        \n",
    "    def parse(self):\n",
    "        self.parse_transfers()\n",
    "        self.parse_forge_withdrawals()\n",
    "        \n"
   ]
  },
  {
   "cell_type": "code",
   "execution_count": 52,
   "metadata": {},
   "outputs": [],
   "source": [
    "prism_dp = PrismBalanceDataProvider(claim, get_url, '../data/prism/')\n",
    "prism_dp.load()\n",
    "prism_dp.parse()"
   ]
  },
  {
   "cell_type": "code",
   "execution_count": 56,
   "metadata": {},
   "outputs": [
    {
     "data": {
      "text/html": [
       "<div>\n",
       "<style scoped>\n",
       "    .dataframe tbody tr th:only-of-type {\n",
       "        vertical-align: middle;\n",
       "    }\n",
       "\n",
       "    .dataframe tbody tr th {\n",
       "        vertical-align: top;\n",
       "    }\n",
       "\n",
       "    .dataframe thead th {\n",
       "        text-align: right;\n",
       "    }\n",
       "</style>\n",
       "<table border=\"1\" class=\"dataframe\">\n",
       "  <thead>\n",
       "    <tr style=\"text-align: right;\">\n",
       "      <th></th>\n",
       "      <th>block_timestamp</th>\n",
       "      <th>tx_id</th>\n",
       "      <th>user</th>\n",
       "      <th>amount</th>\n",
       "      <th>day</th>\n",
       "      <th>amount_signed</th>\n",
       "    </tr>\n",
       "  </thead>\n",
       "  <tbody>\n",
       "    <tr>\n",
       "      <th>109</th>\n",
       "      <td>2022-02-06 19:58:46</td>\n",
       "      <td>A438D3042A5F940F90A0360E7A4EB44C7A7B9FCE8B8B3CFD24E6C19D4CB55F4B</td>\n",
       "      <td>terra1uh37lsydrup8vqvvttd53qwj93ft9x7572g62q</td>\n",
       "      <td>470.729674</td>\n",
       "      <td>2022-02-06</td>\n",
       "      <td>-470.729674</td>\n",
       "    </tr>\n",
       "  </tbody>\n",
       "</table>\n",
       "</div>"
      ],
      "text/plain": [
       "         block_timestamp  \\\n",
       "109  2022-02-06 19:58:46   \n",
       "\n",
       "                                                                tx_id  \\\n",
       "109  A438D3042A5F940F90A0360E7A4EB44C7A7B9FCE8B8B3CFD24E6C19D4CB55F4B   \n",
       "\n",
       "                                             user      amount         day  \\\n",
       "109  terra1uh37lsydrup8vqvvttd53qwj93ft9x7572g62q  470.729674  2022-02-06   \n",
       "\n",
       "     amount_signed  \n",
       "109    -470.729674  "
      ]
     },
     "execution_count": 56,
     "metadata": {},
     "output_type": "execute_result"
    }
   ],
   "source": [
    "prism_dp.all_transfers[prism_dp.all_transfers.user=='terra1uh37lsydrup8vqvvttd53qwj93ft9x7572g62q']"
   ]
  },
  {
   "cell_type": "code",
   "execution_count": 55,
   "metadata": {},
   "outputs": [
    {
     "data": {
      "text/html": [
       "<div>\n",
       "<style scoped>\n",
       "    .dataframe tbody tr th:only-of-type {\n",
       "        vertical-align: middle;\n",
       "    }\n",
       "\n",
       "    .dataframe tbody tr th {\n",
       "        vertical-align: top;\n",
       "    }\n",
       "\n",
       "    .dataframe thead th {\n",
       "        text-align: right;\n",
       "    }\n",
       "</style>\n",
       "<table border=\"1\" class=\"dataframe\">\n",
       "  <thead>\n",
       "    <tr style=\"text-align: right;\">\n",
       "      <th></th>\n",
       "      <th>block_timestamp</th>\n",
       "      <th>tx_id</th>\n",
       "      <th>user</th>\n",
       "      <th>amount</th>\n",
       "      <th>day</th>\n",
       "      <th>amount_signed</th>\n",
       "    </tr>\n",
       "  </thead>\n",
       "  <tbody>\n",
       "    <tr>\n",
       "      <th>3892</th>\n",
       "      <td>2022-02-06 19:55:18</td>\n",
       "      <td>8B78FFB3D2D39824DF156B945A8E5DFB3ED00D8D8D8E55CDC2F412BC7AA2D9B4</td>\n",
       "      <td>terra1uh37lsydrup8vqvvttd53qwj93ft9x7572g62q</td>\n",
       "      <td>470.729674</td>\n",
       "      <td>2022-02-06</td>\n",
       "      <td>470.729674</td>\n",
       "    </tr>\n",
       "  </tbody>\n",
       "</table>\n",
       "</div>"
      ],
      "text/plain": [
       "          block_timestamp  \\\n",
       "3892  2022-02-06 19:55:18   \n",
       "\n",
       "                                                                 tx_id  \\\n",
       "3892  8B78FFB3D2D39824DF156B945A8E5DFB3ED00D8D8D8E55CDC2F412BC7AA2D9B4   \n",
       "\n",
       "                                              user      amount         day  \\\n",
       "3892  terra1uh37lsydrup8vqvvttd53qwj93ft9x7572g62q  470.729674  2022-02-06   \n",
       "\n",
       "      amount_signed  \n",
       "3892     470.729674  "
      ]
     },
     "execution_count": 55,
     "metadata": {},
     "output_type": "execute_result"
    }
   ],
   "source": [
    "prism_dp.prism_forge_df[prism_dp.prism_forge_df.user=='terra1uh37lsydrup8vqvvttd53qwj93ft9x7572g62q']"
   ]
  },
  {
   "cell_type": "code",
   "execution_count": null,
   "metadata": {},
   "outputs": [],
   "source": []
  }
 ],
 "metadata": {
  "kernelspec": {
   "display_name": "Python 3",
   "language": "python",
   "name": "python3"
  },
  "language_info": {
   "codemirror_mode": {
    "name": "ipython",
    "version": 3
   },
   "file_extension": ".py",
   "mimetype": "text/x-python",
   "name": "python",
   "nbconvert_exporter": "python",
   "pygments_lexer": "ipython3",
   "version": "3.8.2"
  }
 },
 "nbformat": 4,
 "nbformat_minor": 4
}
