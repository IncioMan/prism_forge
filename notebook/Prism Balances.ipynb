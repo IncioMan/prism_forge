{
 "cells": [
  {
   "cell_type": "code",
   "execution_count": 17,
   "metadata": {
    "scrolled": true
   },
   "outputs": [],
   "source": [
    "import pandas as pd\n",
    "import altair as alt\n",
    "import warnings\n",
    "warnings.filterwarnings(\"ignore\")\n",
    "alt.renderers.set_embed_options(theme='light')\n",
    "pd.set_option(\"display.max_colwidth\", 400)\n",
    "pd.set_option(\"display.max_rows\", 400)\n"
   ]
  },
  {
   "cell_type": "markdown",
   "metadata": {},
   "source": [
    "Trend line of what yLUNA is being used for?  PRISM Farm, yLUNA Staking, LPing, or Nothing."
   ]
  },
  {
   "cell_type": "code",
   "execution_count": 18,
   "metadata": {},
   "outputs": [],
   "source": [
    "prism_addr = 'terra1dh9478k2qvqhqeajhn75a2a7dsnf74y5ukregw'\n",
    "yluna_addr = 'terra17wkadg0tah554r35x6wvff0y5s7ve8npcjfuhz'\n",
    "pluna_addr = 'terra1tlgelulz9pdkhls6uglfn5lmxarx7f2gxtdzh2'\n",
    "pLuna_PRISM_Pair = 'terra1persuahr6f8fm6nyup0xjc7aveaur89nwgs5vs'\n",
    "yLuna_PRISM_Pair = 'terra1kqc65n5060rtvcgcktsxycdt2a4r67q2zlvhce'"
   ]
  },
  {
   "cell_type": "code",
   "execution_count": 19,
   "metadata": {},
   "outputs": [],
   "source": [
    "def claim(claim_hash):\n",
    "    df = pd.read_json(\n",
    "            f\"https://api.flipsidecrypto.com/api/v2/queries/{claim_hash}/data/latest\",\n",
    "            convert_dates=[\"BLOCK_TIMESTAMP\"])\n",
    "    df.columns = [c.lower() for c in df.columns]\n",
    "    return df"
   ]
  },
  {
   "cell_type": "code",
   "execution_count": 20,
   "metadata": {},
   "outputs": [],
   "source": [
    "def get_url(url):\n",
    "    return pd.read_csv(url, index_col=0)"
   ]
  },
  {
   "cell_type": "code",
   "execution_count": 32,
   "metadata": {},
   "outputs": [],
   "source": [
    "class PrismBalanceDataProvider:\n",
    "    def __init__(self, claim, get_url, path_to_data='../data'):\n",
    "        self.transfers = '9651b671-1f85-4133-8384-20042dc1adb1'\n",
    "        self.boost_activation = 'ccbaf92f-6aaa-4460-a65f-83814431fd17'\n",
    "        self.prism_forge = '2a364c52-9c37-4540-81c7-e5b890f0ef6b'\n",
    "        self.claim = claim\n",
    "        self.get_url = get_url\n",
    "        self.path_to_data = path_to_data\n",
    "    \n",
    "    def load(self):\n",
    "        self.load_from_url()\n",
    "        self.load_from_csv()\n",
    "        for df in [self.transfers_df, self.boost_activation_df, self.prism_forge_df,\n",
    "                  self.transfers_df_from_csv, self.boost_activation_df_from_csv, self.prism_forge_df_from_csv]:\n",
    "            df.columns = [c.lower() for c in df.columns]\n",
    "       \n",
    "        self.transfers_df = self.transfers_df.append(self.transfers_df_from_csv).drop_duplicates()\n",
    "        self.boost_activation_df = self.boost_activation_df.append(self.boost_activation_df_from_csv).drop_duplicates()\n",
    "        self.prism_forge_df = self.boost_activation_df.append(self.prism_forge_df_from_csv).drop_duplicates()\n",
    "            \n",
    "    def load_from_url(self):\n",
    "        self.transfers_df = self.claim(self.transfers)\n",
    "        self.boost_activation_df = self.claim(self.boost_activation)\n",
    "        self.prism_forge_df = self.claim(self.prism_forge)\n",
    "        \n",
    "    def write_to_csv(self):\n",
    "        self.transfers_df.to_csv(f'{self.path_to_data}/transfers.csv')\n",
    "        self.boost_activation_df.to_csv(f'{self.path_to_data}/boost_activation.csv')\n",
    "        self.prism_forge_df.to_csv(f'{self.path_to_data}/prism_forge.csv')\n",
    "        \n",
    "    def load_from_csv(self):\n",
    "        self.transfers_df_from_csv = pd.read_csv(f'{self.path_to_data}/transfers.csv', index_col=0)\n",
    "        self.boost_activation_df_from_csv = pd.read_csv(f'{self.path_to_data}/boost_activation.csv', index_col=0)\n",
    "        self.prism_forge_df_from_csv = pd.read_csv(f'{self.path_to_data}/prism_forge.csv', index_col=0)\n",
    "        \n",
    "        \n",
    "    def parse_transfers(self):\n",
    "        transfers_df = self.transfers_df\n",
    "        transfers_df.block_timestamp=transfers_df.block_timestamp.apply(str).apply(lambda x: x[:-4] if len(x) == 23 else x)\n",
    "        transfers_df.block_timestamp=transfers_df.block_timestamp.apply(str).apply(lambda x: x[:-3] if len(x) == 22 else x)\n",
    "        transfers_df.block_timestamp=transfers_df.block_timestamp.apply(str).apply(lambda x: x[:-7] if len(x) == 26 else x)\n",
    "        transfers_df['hr'] = transfers_df.block_timestamp.str[:-5] + '00:00.000'\n",
    "        transfers_df['day'] = transfers_df.block_timestamp.str[:-9]\n",
    "        self.transfers_df= transfers_df\n",
    "        send_tx = transfers_df[['block_timestamp','from_','amount','day']]\n",
    "        send_tx.columns = ['block_timestamp','user','amount','day']\n",
    "        send_tx['amount_signed'] = -send_tx.amount\n",
    "        receive_tx = transfers_df[['block_timestamp','to_','amount','day']]\n",
    "        receive_tx.columns = ['block_timestamp','user','amount','day']\n",
    "        receive_tx['amount_signed'] = receive_tx.amount\n",
    "        self.all_transfers = send_tx.append(receive_tx)\n",
    "        \n",
    "    def parse(self):\n",
    "        self.parse_transfers()\n",
    "        \n"
   ]
  },
  {
   "cell_type": "code",
   "execution_count": 33,
   "metadata": {},
   "outputs": [],
   "source": [
    "prism_dp = PrismBalanceDataProvider(claim, get_url, '../data/prism/')\n",
    "prism_dp.load()\n",
    "prism_dp.parse()"
   ]
  }
 ],
 "metadata": {
  "kernelspec": {
   "display_name": "Python 3",
   "language": "python",
   "name": "python3"
  },
  "language_info": {
   "codemirror_mode": {
    "name": "ipython",
    "version": 3
   },
   "file_extension": ".py",
   "mimetype": "text/x-python",
   "name": "python",
   "nbconvert_exporter": "python",
   "pygments_lexer": "ipython3",
   "version": "3.8.2"
  }
 },
 "nbformat": 4,
 "nbformat_minor": 4
}
