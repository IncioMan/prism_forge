{
 "cells": [
  {
   "cell_type": "code",
   "execution_count": null,
   "metadata": {
    "scrolled": true
   },
   "outputs": [],
   "source": [
    "import pandas as pd\n",
    "import altair as alt\n",
    "import warnings\n",
    "import datetime\n",
    "\n",
    "warnings.filterwarnings(\"ignore\")\n",
    "alt.renderers.set_embed_options(theme='light')\n",
    "pd.set_option(\"display.max_colwidth\", 400)\n",
    "pd.set_option(\"display.max_rows\", 400)\n",
    "alt.renderers.set_embed_options(theme='dark')\n"
   ]
  },
  {
   "cell_type": "code",
   "execution_count": null,
   "metadata": {},
   "outputs": [],
   "source": [
    "class PrismEmittedDataProvider():\n",
    "    def __init__(self):\n",
    "        self.calulcate_emission()\n",
    "        self.dates_to_mark()\n",
    "    \n",
    "    def dates_to_mark(self):\n",
    "        dates_to_mark = []\n",
    "        start_farm = datetime.date(2022, 3, 5)\n",
    "        date_ = start_farm+datetime.timedelta(days=int(365/100*10))\n",
    "        dates_to_mark.append((8000000,'10%',date_+datetime.timedelta(days=-1),date_))\n",
    "        date_ = start_farm+datetime.timedelta(days=int(365/100*30))\n",
    "        dates_to_mark.append((8000000,'30%',date_+datetime.timedelta(days=-1),date_))\n",
    "        date_ = start_farm+datetime.timedelta(days=int(365/100*50))\n",
    "        dates_to_mark.append((8000000,'50%',date_+datetime.timedelta(days=-1),date_))\n",
    "        date_ = start_farm+datetime.timedelta(days=int(365))\n",
    "        dates_to_mark.append((8000000,'100%',date_+datetime.timedelta(days=-1),date_))\n",
    "        dates_to_mark = pd.DataFrame(dates_to_mark,columns=['height','text','text_date','Date'])\n",
    "        dates_to_mark.Date = dates_to_mark.Date.apply(str)\n",
    "        dates_to_mark.text_date = dates_to_mark.text_date.apply(str)\n",
    "        dates_to_mark = dates_to_mark.merge(self.prism_emitted[['Date','Total Prism']],on='Date')\n",
    "        self.dates_to_mark = dates_to_mark\n",
    "    \n",
    "    def calulcate_emission(self):\n",
    "        data = []\n",
    "        start_farm = datetime.date(2022, 3, 5)\n",
    "        base_tot = 104000000\n",
    "        boost_tot = 26000000\n",
    "        tot = base_tot+boost_tot\n",
    "        for i in range(1,366):\n",
    "            data.append((start_farm+datetime.timedelta(days=i), tot/365*i, base_tot/365*i, boost_tot/365*i))\n",
    "        prism_emitted = pd.DataFrame(data, columns=['Date','Total Prism','Normal','Boost',])\n",
    "        prism_emitted.Date = prism_emitted.Date.apply(str)\n",
    "        self.prism_emitted = prism_emitted\n",
    "        \n",
    "        normal = prism_emitted[['Date','Normal']]\n",
    "        normal.columns = ['Date','Amount']\n",
    "        normal['Type'] = 'Normal'\n",
    "        boost = prism_emitted[['Date','Boost']]\n",
    "        boost.columns = ['Date','Amount']\n",
    "        boost['Type'] = 'Boost'\n",
    "        df = normal.append(boost)\n",
    "        self.prism_emitted_so_far = df[df.Date<str(datetime.datetime.today().date())]"
   ]
  },
  {
   "cell_type": "code",
   "execution_count": null,
   "metadata": {},
   "outputs": [],
   "source": [
    "pe_dp = PrismEmittedDataProvider()"
   ]
  },
  {
   "cell_type": "code",
   "execution_count": null,
   "metadata": {},
   "outputs": [],
   "source": [
    "class PrismEmittedChartProvider:\n",
    "    def __init__(self):\n",
    "        pass\n",
    "    \n",
    "    def prism_emitted_trend_line(self, prism_emitted):\n",
    "        cum_ust_chart = alt.Chart(prism_emitted).mark_line(strokeDash=[6,6]).encode(\n",
    "            x=alt.X('Date:T'),\n",
    "            y='Total Prism'\n",
    "        )\n",
    "        return cum_ust_chart\n",
    "    def prism_emitted_so_far(self, prism_emitted_so_far):\n",
    "        chart = alt.Chart(prism_emitted_so_far).mark_area().encode(\n",
    "            x=alt.X('Date:T', scale=alt.Scale(domain=(prism_emitted_so_far.Date.min(),'2022-09-05'))),\n",
    "            y=alt.Y('Amount:Q',scale=alt.Scale(domain=(0,65000000))),\n",
    "            color=alt.Color('Type:N',\n",
    "                        legend=alt.Legend(\n",
    "                                    orient='none',\n",
    "                                    padding=5,\n",
    "                                    legendY=0,\n",
    "                                    direction='vertical')),\n",
    "            tooltip=['Type:N','Amount:Q']\n",
    "        )\n",
    "        return chart\n",
    "    \n",
    "    def dates_to_mark(self, dates_to_mark):\n",
    "        c2 = alt.Chart(dates_to_mark).mark_rule(color='#e45756').encode(\n",
    "            x=alt.X('date'+':T')\n",
    "        )\n",
    "\n",
    "        c3 = alt.Chart(dates_to_mark).mark_text(\n",
    "            color='#e45756',\n",
    "            angle=0\n",
    "        ).encode(\n",
    "            x=alt.X('text_date'+':T',axis=alt.Axis(title='')),\n",
    "            y=alt.Y('height',axis=alt.Axis(title='Prism Emitted')),\n",
    "            text='text'\n",
    "        )\n",
    "        return c2, c3\n",
    "    \n",
    "    def prism_emitted_chart(self, prism_emitted, prism_emitted_so_far,dates_to_mark):\n",
    "        trend_line = self.prism_emitted_trend_line(prism_emitted)\n",
    "        so_far = self.prism_emitted_so_far(prism_emitted_so_far)\n",
    "        marks, lines = self.dates_to_mark(dates_to_mark)\n",
    "        return (so_far+trend_line+marks+lines)\\\n",
    "                .configure_mark(\n",
    "                    color='#ffffff'\n",
    "                ).properties(width=900).configure_axis(grid=False).configure_view(strokeOpacity=0).interactive()"
   ]
  },
  {
   "cell_type": "code",
   "execution_count": null,
   "metadata": {
    "scrolled": true
   },
   "outputs": [],
   "source": [
    "cp = PrismEmittedChartProvider()\n",
    "cp.prism_emitted_chart(pe_dp.prism_emitted, pe_dp.prism_emitted_so_far, pe_dp.dates_to_mark)"
   ]
  },
  {
   "cell_type": "code",
   "execution_count": null,
   "metadata": {},
   "outputs": [],
   "source": []
  },
  {
   "cell_type": "code",
   "execution_count": null,
   "metadata": {},
   "outputs": [],
   "source": []
  }
 ],
 "metadata": {
  "kernelspec": {
   "display_name": "Python 3",
   "language": "python",
   "name": "python3"
  },
  "language_info": {
   "codemirror_mode": {
    "name": "ipython",
    "version": 3
   },
   "file_extension": ".py",
   "mimetype": "text/x-python",
   "name": "python",
   "nbconvert_exporter": "python",
   "pygments_lexer": "ipython3",
   "version": "3.8.2"
  }
 },
 "nbformat": 4,
 "nbformat_minor": 4
}
