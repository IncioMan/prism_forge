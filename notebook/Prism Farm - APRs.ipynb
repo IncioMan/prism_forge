{
 "cells": [
  {
   "cell_type": "code",
   "execution_count": 60,
   "metadata": {
    "scrolled": true
   },
   "outputs": [
    {
     "data": {
      "text/plain": [
       "RendererRegistry.enable('default')"
      ]
     },
     "execution_count": 60,
     "metadata": {},
     "output_type": "execute_result"
    }
   ],
   "source": [
    "import pandas as pd\n",
    "import altair as alt\n",
    "import warnings\n",
    "import datetime\n",
    "\n",
    "warnings.filterwarnings(\"ignore\")\n",
    "alt.renderers.set_embed_options(theme='light')\n",
    "pd.set_option(\"display.max_colwidth\", 400)\n",
    "pd.set_option(\"display.max_rows\", 400)\n",
    "alt.renderers.set_embed_options(theme='dark')\n"
   ]
  },
  {
   "cell_type": "code",
   "execution_count": 169,
   "metadata": {},
   "outputs": [],
   "source": [
    "class PrismEmittedDataProvider():\n",
    "    def __init__(self):\n",
    "        self.calculcate_emission()\n",
    "        self.dates_to_mark()\n",
    "    \n",
    "    def dates_to_mark(self):\n",
    "        dates_to_mark = []\n",
    "        start_farm = datetime.date(2022, 3, 5)\n",
    "        shift = 1\n",
    "        date_ = start_farm+datetime.timedelta(days=int(365/100*10))\n",
    "        dates_to_mark.append((8000000,'10%',date_+datetime.timedelta(days=-shift),date_))\n",
    "        date_ = start_farm+datetime.timedelta(days=int(365/100*30))\n",
    "        dates_to_mark.append((8000000,'30%',date_+datetime.timedelta(days=-shift),date_))\n",
    "        date_ = start_farm+datetime.timedelta(days=int(365/100*50))\n",
    "        dates_to_mark.append((8000000,'50%',date_+datetime.timedelta(days=-shift),date_))\n",
    "        date_ = start_farm+datetime.timedelta(days=int(365))\n",
    "        dates_to_mark.append((8000000,'100%',date_+datetime.timedelta(days=-shift),date_))\n",
    "        date_ = datetime.datetime.today().date()\n",
    "        perc = round(self.prism_emitted[self.prism_emitted.Date==str(date_)]['Total Prism'].values[0]/130000000,2)\n",
    "        dates_to_mark.append((8000000,f'{perc}%',date_+datetime.timedelta(days=-shift),date_))\n",
    "        dates_to_mark = pd.DataFrame(dates_to_mark,columns=['height','text','text_date','Date'])\n",
    "        dates_to_mark.Date = dates_to_mark.Date.apply(str)\n",
    "        dates_to_mark.text_date = dates_to_mark.text_date.apply(str)\n",
    "        dates_to_mark = dates_to_mark.merge(self.prism_emitted[['Date','Total Prism']],on='Date')\n",
    "        self.dates_to_mark = dates_to_mark\n",
    "        extra_dates_to_mark = []\n",
    "        date_ = start_farm+datetime.timedelta(days=30)\n",
    "        extra_dates_to_mark.append((14000000,'Unlock starts',date_+datetime.timedelta(days=-shift*3),date_))\n",
    "        extra_dates_to_mark = pd.DataFrame(extra_dates_to_mark,columns=['height','text','text_date','Date'])\n",
    "        extra_dates_to_mark.Date = extra_dates_to_mark.Date.apply(str)\n",
    "        extra_dates_to_mark.text_date = extra_dates_to_mark.text_date.apply(str)\n",
    "        self.extra_dates_to_mark = extra_dates_to_mark\n",
    "    \n",
    "    def calculcate_emission(self):\n",
    "        data = []\n",
    "        start_farm = datetime.date(2022, 3, 5)\n",
    "        base_tot = 104000000\n",
    "        boost_tot = 26000000\n",
    "        tot = base_tot+boost_tot\n",
    "        for i in range(1,366):\n",
    "            data.append((start_farm+datetime.timedelta(days=i), tot/365*i, base_tot/365*i, boost_tot/365*i))\n",
    "        prism_emitted = pd.DataFrame(data, columns=['Date','Total Prism','Normal','Boost',])\n",
    "        prism_emitted.Date = prism_emitted.Date.apply(str)\n",
    "        self.prism_emitted = prism_emitted\n",
    "        \n",
    "        normal = prism_emitted[['Date','Normal']]\n",
    "        normal.columns = ['Date','Amount']\n",
    "        normal['Type'] = 'Normal'\n",
    "        boost = prism_emitted[['Date','Boost']]\n",
    "        boost.columns = ['Date','Amount']\n",
    "        boost['Type'] = 'Boost'\n",
    "        df = normal.append(boost)\n",
    "        self.prism_emitted_so_far = df[df.Date<=str(datetime.datetime.today().date())]"
   ]
  },
  {
   "cell_type": "code",
   "execution_count": 170,
   "metadata": {},
   "outputs": [],
   "source": [
    "pe_dp = PrismEmittedDataProvider()"
   ]
  },
  {
   "cell_type": "code",
   "execution_count": 171,
   "metadata": {},
   "outputs": [],
   "source": [
    "class PrismEmittedChartProvider:\n",
    "    def __init__(self):\n",
    "        pass\n",
    "    \n",
    "    def prism_emitted_trend_line(self, prism_emitted, final_date):\n",
    "        if(final_date):\n",
    "            prism_emitted = prism_emitted[prism_emitted.Date<=final_date]\n",
    "        cum_ust_chart = alt.Chart(prism_emitted).mark_line(strokeDash=[6,6]).encode(\n",
    "            x=alt.X('Date:T'),\n",
    "            y='Total Prism'\n",
    "        )\n",
    "        return cum_ust_chart\n",
    "    def prism_emitted_so_far(self, prism_emitted_so_far, final_date):\n",
    "        if(final_date):\n",
    "            prism_emitted_so_far = prism_emitted_so_far[prism_emitted_so_far.Date<=final_date]\n",
    "        prism_emitted_so_far['Amount emitted'] = prism_emitted_so_far.Amount.apply(lambda x: str(round(x/1000000,2))+'M')\n",
    "        chart = alt.Chart(prism_emitted_so_far).mark_area().encode(\n",
    "            x=alt.X('Date:T'),\n",
    "            y=alt.Y('Amount:Q'),\n",
    "            color=alt.Color('Type:N',\n",
    "                        legend=alt.Legend(\n",
    "                                    orient='none',\n",
    "                                    padding=5,\n",
    "                                    legendY=0,\n",
    "                                    direction='vertical')),\n",
    "            tooltip=['Date:T', 'Type:N','Amount emitted']\n",
    "        )\n",
    "        return chart\n",
    "    \n",
    "    def dates_to_mark(self, dates_to_mark, extra_dates_to_mark, final_date):\n",
    "        if(final_date):\n",
    "            dates_to_mark = dates_to_mark[dates_to_mark.Date <= final_date]\n",
    "        c2 = alt.Chart(dates_to_mark).mark_rule(color='#e45756').encode(\n",
    "            x='Date'+':T'\n",
    "        )\n",
    "\n",
    "        c3 = alt.Chart(dates_to_mark).mark_text(\n",
    "            color='#e45756',\n",
    "            angle=0\n",
    "        ).encode(\n",
    "            x=alt.X('text_date'+':T',axis=alt.Axis(title='')),\n",
    "            y=alt.Y('height'),\n",
    "            text='text'\n",
    "        )\n",
    "        \n",
    "        c4 = alt.Chart(extra_dates_to_mark).mark_rule(color='#a6cfe3').encode(\n",
    "            x='Date'+':T'\n",
    "        )\n",
    "\n",
    "        c5 = alt.Chart(extra_dates_to_mark).mark_text(\n",
    "            color='#a6cfe3',\n",
    "            angle=0\n",
    "        ).encode(\n",
    "            x=alt.X('text_date'+':T',axis=alt.Axis(title='')),\n",
    "            y=alt.Y('height',axis=alt.Axis(title='Prism Emitted')),\n",
    "            text='text'\n",
    "        )\n",
    "        return c2, c3, c4, c5\n",
    "    \n",
    "    def prism_emitted_chart(self, prism_emitted, prism_emitted_so_far,dates_to_mark, extra_dates_to_mark, final_date=None):\n",
    "        trend_line = self.prism_emitted_trend_line(prism_emitted, final_date)\n",
    "        so_far = self.prism_emitted_so_far(prism_emitted_so_far, final_date)\n",
    "        marks, lines, marks2, lines2 = self.dates_to_mark(dates_to_mark, extra_dates_to_mark, final_date)\n",
    "        return (so_far+trend_line+marks+lines+marks2+lines2)\\\n",
    "                .configure_mark(\n",
    "                    color='#ffffff'\n",
    "                ).configure_axis(grid=False).configure_view(strokeOpacity=0)"
   ]
  },
  {
   "cell_type": "code",
   "execution_count": 172,
   "metadata": {
    "scrolled": true
   },
   "outputs": [
    {
     "data": {
      "text/html": [
       "\n",
       "<div id=\"altair-viz-8f967d5041384715b96ba998a68836d6\"></div>\n",
       "<script type=\"text/javascript\">\n",
       "  var VEGA_DEBUG = (typeof VEGA_DEBUG == \"undefined\") ? {} : VEGA_DEBUG;\n",
       "  (function(spec, embedOpt){\n",
       "    let outputDiv = document.currentScript.previousElementSibling;\n",
       "    if (outputDiv.id !== \"altair-viz-8f967d5041384715b96ba998a68836d6\") {\n",
       "      outputDiv = document.getElementById(\"altair-viz-8f967d5041384715b96ba998a68836d6\");\n",
       "    }\n",
       "    const paths = {\n",
       "      \"vega\": \"https://cdn.jsdelivr.net/npm//vega@5?noext\",\n",
       "      \"vega-lib\": \"https://cdn.jsdelivr.net/npm//vega-lib?noext\",\n",
       "      \"vega-lite\": \"https://cdn.jsdelivr.net/npm//vega-lite@4.17.0?noext\",\n",
       "      \"vega-embed\": \"https://cdn.jsdelivr.net/npm//vega-embed@6?noext\",\n",
       "    };\n",
       "\n",
       "    function maybeLoadScript(lib, version) {\n",
       "      var key = `${lib.replace(\"-\", \"\")}_version`;\n",
       "      return (VEGA_DEBUG[key] == version) ?\n",
       "        Promise.resolve(paths[lib]) :\n",
       "        new Promise(function(resolve, reject) {\n",
       "          var s = document.createElement('script');\n",
       "          document.getElementsByTagName(\"head\")[0].appendChild(s);\n",
       "          s.async = true;\n",
       "          s.onload = () => {\n",
       "            VEGA_DEBUG[key] = version;\n",
       "            return resolve(paths[lib]);\n",
       "          };\n",
       "          s.onerror = () => reject(`Error loading script: ${paths[lib]}`);\n",
       "          s.src = paths[lib];\n",
       "        });\n",
       "    }\n",
       "\n",
       "    function showError(err) {\n",
       "      outputDiv.innerHTML = `<div class=\"error\" style=\"color:red;\">${err}</div>`;\n",
       "      throw err;\n",
       "    }\n",
       "\n",
       "    function displayChart(vegaEmbed) {\n",
       "      vegaEmbed(outputDiv, spec, embedOpt)\n",
       "        .catch(err => showError(`Javascript Error: ${err.message}<br>This usually means there's a typo in your chart specification. See the javascript console for the full traceback.`));\n",
       "    }\n",
       "\n",
       "    if(typeof define === \"function\" && define.amd) {\n",
       "      requirejs.config({paths});\n",
       "      require([\"vega-embed\"], displayChart, err => showError(`Error loading script: ${err.message}`));\n",
       "    } else {\n",
       "      maybeLoadScript(\"vega\", \"5\")\n",
       "        .then(() => maybeLoadScript(\"vega-lite\", \"4.17.0\"))\n",
       "        .then(() => maybeLoadScript(\"vega-embed\", \"6\"))\n",
       "        .catch(showError)\n",
       "        .then(() => displayChart(vegaEmbed));\n",
       "    }\n",
       "  })({\"config\": {\"view\": {\"continuousWidth\": 400, \"continuousHeight\": 300, \"strokeOpacity\": 0}, \"axis\": {\"grid\": false}, \"mark\": {\"color\": \"#ffffff\"}}, \"layer\": [{\"data\": {\"name\": \"data-dcbbd8cc193ebf16c34ae57b0520e0fd\"}, \"mark\": \"area\", \"encoding\": {\"color\": {\"field\": \"Type\", \"legend\": {\"direction\": \"vertical\", \"legendY\": 0, \"orient\": \"none\", \"padding\": 5}, \"type\": \"nominal\"}, \"tooltip\": [{\"field\": \"Date\", \"type\": \"temporal\"}, {\"field\": \"Type\", \"type\": \"nominal\"}, {\"field\": \"Amount emitted\", \"type\": \"nominal\"}], \"x\": {\"field\": \"Date\", \"type\": \"temporal\"}, \"y\": {\"field\": \"Amount\", \"type\": \"quantitative\"}}}, {\"data\": {\"name\": \"data-efb02344bd3e9db53dc4941fde710cb9\"}, \"mark\": {\"type\": \"line\", \"strokeDash\": [6, 6]}, \"encoding\": {\"x\": {\"field\": \"Date\", \"type\": \"temporal\"}, \"y\": {\"field\": \"Total Prism\", \"type\": \"quantitative\"}}}, {\"data\": {\"name\": \"data-94262b46c90531b270d6a3222b15a8d0\"}, \"mark\": {\"type\": \"rule\", \"color\": \"#e45756\"}, \"encoding\": {\"x\": {\"field\": \"Date\", \"type\": \"temporal\"}}}, {\"data\": {\"name\": \"data-94262b46c90531b270d6a3222b15a8d0\"}, \"mark\": {\"type\": \"text\", \"angle\": 0, \"color\": \"#e45756\"}, \"encoding\": {\"text\": {\"field\": \"text\", \"type\": \"nominal\"}, \"x\": {\"axis\": {\"title\": \"\"}, \"field\": \"text_date\", \"type\": \"temporal\"}, \"y\": {\"field\": \"height\", \"type\": \"quantitative\"}}}, {\"data\": {\"name\": \"data-fa664b932bf0828d88c85e5a398a88b5\"}, \"mark\": {\"type\": \"rule\", \"color\": \"#a6cfe3\"}, \"encoding\": {\"x\": {\"field\": \"Date\", \"type\": \"temporal\"}}}, {\"data\": {\"name\": \"data-fa664b932bf0828d88c85e5a398a88b5\"}, \"mark\": {\"type\": \"text\", \"angle\": 0, \"color\": \"#a6cfe3\"}, \"encoding\": {\"text\": {\"field\": \"text\", \"type\": \"nominal\"}, \"x\": {\"axis\": {\"title\": \"\"}, \"field\": \"text_date\", \"type\": \"temporal\"}, \"y\": {\"axis\": {\"title\": \"Prism Emitted\"}, \"field\": \"height\", \"type\": \"quantitative\"}}}], \"$schema\": \"https://vega.github.io/schema/vega-lite/v4.17.0.json\", \"datasets\": {\"data-dcbbd8cc193ebf16c34ae57b0520e0fd\": [{\"Date\": \"2022-03-06\", \"Amount\": 284931.5068493151, \"Type\": \"Normal\", \"Amount emitted\": \"0.28M\"}, {\"Date\": \"2022-03-07\", \"Amount\": 569863.0136986302, \"Type\": \"Normal\", \"Amount emitted\": \"0.57M\"}, {\"Date\": \"2022-03-08\", \"Amount\": 854794.5205479453, \"Type\": \"Normal\", \"Amount emitted\": \"0.85M\"}, {\"Date\": \"2022-03-09\", \"Amount\": 1139726.0273972603, \"Type\": \"Normal\", \"Amount emitted\": \"1.14M\"}, {\"Date\": \"2022-03-10\", \"Amount\": 1424657.5342465753, \"Type\": \"Normal\", \"Amount emitted\": \"1.42M\"}, {\"Date\": \"2022-03-11\", \"Amount\": 1709589.0410958906, \"Type\": \"Normal\", \"Amount emitted\": \"1.71M\"}, {\"Date\": \"2022-03-12\", \"Amount\": 1994520.5479452056, \"Type\": \"Normal\", \"Amount emitted\": \"1.99M\"}, {\"Date\": \"2022-03-13\", \"Amount\": 2279452.0547945206, \"Type\": \"Normal\", \"Amount emitted\": \"2.28M\"}, {\"Date\": \"2022-03-14\", \"Amount\": 2564383.5616438356, \"Type\": \"Normal\", \"Amount emitted\": \"2.56M\"}, {\"Date\": \"2022-03-15\", \"Amount\": 2849315.0684931506, \"Type\": \"Normal\", \"Amount emitted\": \"2.85M\"}, {\"Date\": \"2022-03-06\", \"Amount\": 71232.87671232877, \"Type\": \"Boost\", \"Amount emitted\": \"0.07M\"}, {\"Date\": \"2022-03-07\", \"Amount\": 142465.75342465754, \"Type\": \"Boost\", \"Amount emitted\": \"0.14M\"}, {\"Date\": \"2022-03-08\", \"Amount\": 213698.63013698632, \"Type\": \"Boost\", \"Amount emitted\": \"0.21M\"}, {\"Date\": \"2022-03-09\", \"Amount\": 284931.5068493151, \"Type\": \"Boost\", \"Amount emitted\": \"0.28M\"}, {\"Date\": \"2022-03-10\", \"Amount\": 356164.38356164383, \"Type\": \"Boost\", \"Amount emitted\": \"0.36M\"}, {\"Date\": \"2022-03-11\", \"Amount\": 427397.26027397264, \"Type\": \"Boost\", \"Amount emitted\": \"0.43M\"}, {\"Date\": \"2022-03-12\", \"Amount\": 498630.1369863014, \"Type\": \"Boost\", \"Amount emitted\": \"0.5M\"}, {\"Date\": \"2022-03-13\", \"Amount\": 569863.0136986302, \"Type\": \"Boost\", \"Amount emitted\": \"0.57M\"}, {\"Date\": \"2022-03-14\", \"Amount\": 641095.8904109589, \"Type\": \"Boost\", \"Amount emitted\": \"0.64M\"}, {\"Date\": \"2022-03-15\", \"Amount\": 712328.7671232877, \"Type\": \"Boost\", \"Amount emitted\": \"0.71M\"}], \"data-efb02344bd3e9db53dc4941fde710cb9\": [{\"Date\": \"2022-03-06\", \"Total Prism\": 356164.38356164383, \"Normal\": 284931.5068493151, \"Boost\": 71232.87671232877}, {\"Date\": \"2022-03-07\", \"Total Prism\": 712328.7671232877, \"Normal\": 569863.0136986302, \"Boost\": 142465.75342465754}, {\"Date\": \"2022-03-08\", \"Total Prism\": 1068493.1506849315, \"Normal\": 854794.5205479453, \"Boost\": 213698.63013698632}, {\"Date\": \"2022-03-09\", \"Total Prism\": 1424657.5342465753, \"Normal\": 1139726.0273972603, \"Boost\": 284931.5068493151}, {\"Date\": \"2022-03-10\", \"Total Prism\": 1780821.917808219, \"Normal\": 1424657.5342465753, \"Boost\": 356164.38356164383}, {\"Date\": \"2022-03-11\", \"Total Prism\": 2136986.301369863, \"Normal\": 1709589.0410958906, \"Boost\": 427397.26027397264}, {\"Date\": \"2022-03-12\", \"Total Prism\": 2493150.684931507, \"Normal\": 1994520.5479452056, \"Boost\": 498630.1369863014}, {\"Date\": \"2022-03-13\", \"Total Prism\": 2849315.0684931506, \"Normal\": 2279452.0547945206, \"Boost\": 569863.0136986302}, {\"Date\": \"2022-03-14\", \"Total Prism\": 3205479.4520547944, \"Normal\": 2564383.5616438356, \"Boost\": 641095.8904109589}, {\"Date\": \"2022-03-15\", \"Total Prism\": 3561643.835616438, \"Normal\": 2849315.0684931506, \"Boost\": 712328.7671232877}, {\"Date\": \"2022-03-16\", \"Total Prism\": 3917808.219178082, \"Normal\": 3134246.5753424657, \"Boost\": 783561.6438356164}, {\"Date\": \"2022-03-17\", \"Total Prism\": 4273972.602739726, \"Normal\": 3419178.082191781, \"Boost\": 854794.5205479453}, {\"Date\": \"2022-03-18\", \"Total Prism\": 4630136.98630137, \"Normal\": 3704109.589041096, \"Boost\": 926027.397260274}, {\"Date\": \"2022-03-19\", \"Total Prism\": 4986301.369863014, \"Normal\": 3989041.095890411, \"Boost\": 997260.2739726028}, {\"Date\": \"2022-03-20\", \"Total Prism\": 5342465.7534246575, \"Normal\": 4273972.602739726, \"Boost\": 1068493.1506849315}, {\"Date\": \"2022-03-21\", \"Total Prism\": 5698630.136986301, \"Normal\": 4558904.109589041, \"Boost\": 1139726.0273972603}, {\"Date\": \"2022-03-22\", \"Total Prism\": 6054794.520547945, \"Normal\": 4843835.616438356, \"Boost\": 1210958.904109589}, {\"Date\": \"2022-03-23\", \"Total Prism\": 6410958.904109589, \"Normal\": 5128767.123287671, \"Boost\": 1282191.7808219178}, {\"Date\": \"2022-03-24\", \"Total Prism\": 6767123.287671233, \"Normal\": 5413698.630136986, \"Boost\": 1353424.6575342466}, {\"Date\": \"2022-03-25\", \"Total Prism\": 7123287.671232876, \"Normal\": 5698630.136986301, \"Boost\": 1424657.5342465753}, {\"Date\": \"2022-03-26\", \"Total Prism\": 7479452.05479452, \"Normal\": 5983561.643835616, \"Boost\": 1495890.410958904}, {\"Date\": \"2022-03-27\", \"Total Prism\": 7835616.438356164, \"Normal\": 6268493.150684931, \"Boost\": 1567123.2876712328}, {\"Date\": \"2022-03-28\", \"Total Prism\": 8191780.821917808, \"Normal\": 6553424.657534246, \"Boost\": 1638356.1643835616}, {\"Date\": \"2022-03-29\", \"Total Prism\": 8547945.205479452, \"Normal\": 6838356.164383562, \"Boost\": 1709589.0410958906}, {\"Date\": \"2022-03-30\", \"Total Prism\": 8904109.589041095, \"Normal\": 7123287.671232877, \"Boost\": 1780821.9178082193}, {\"Date\": \"2022-03-31\", \"Total Prism\": 9260273.97260274, \"Normal\": 7408219.178082192, \"Boost\": 1852054.794520548}, {\"Date\": \"2022-04-01\", \"Total Prism\": 9616438.356164383, \"Normal\": 7693150.684931507, \"Boost\": 1923287.6712328768}, {\"Date\": \"2022-04-02\", \"Total Prism\": 9972602.739726027, \"Normal\": 7978082.191780822, \"Boost\": 1994520.5479452056}, {\"Date\": \"2022-04-03\", \"Total Prism\": 10328767.12328767, \"Normal\": 8263013.698630137, \"Boost\": 2065753.4246575343}, {\"Date\": \"2022-04-04\", \"Total Prism\": 10684931.506849315, \"Normal\": 8547945.205479452, \"Boost\": 2136986.301369863}, {\"Date\": \"2022-04-05\", \"Total Prism\": 11041095.890410958, \"Normal\": 8832876.712328767, \"Boost\": 2208219.178082192}, {\"Date\": \"2022-04-06\", \"Total Prism\": 11397260.273972603, \"Normal\": 9117808.219178082, \"Boost\": 2279452.0547945206}, {\"Date\": \"2022-04-07\", \"Total Prism\": 11753424.657534247, \"Normal\": 9402739.726027397, \"Boost\": 2350684.9315068494}, {\"Date\": \"2022-04-08\", \"Total Prism\": 12109589.04109589, \"Normal\": 9687671.232876712, \"Boost\": 2421917.808219178}, {\"Date\": \"2022-04-09\", \"Total Prism\": 12465753.424657535, \"Normal\": 9972602.739726027, \"Boost\": 2493150.684931507}, {\"Date\": \"2022-04-10\", \"Total Prism\": 12821917.808219178, \"Normal\": 10257534.246575342, \"Boost\": 2564383.5616438356}, {\"Date\": \"2022-04-11\", \"Total Prism\": 13178082.191780822, \"Normal\": 10542465.753424658, \"Boost\": 2635616.4383561644}, {\"Date\": \"2022-04-12\", \"Total Prism\": 13534246.575342465, \"Normal\": 10827397.260273973, \"Boost\": 2706849.315068493}, {\"Date\": \"2022-04-13\", \"Total Prism\": 13890410.95890411, \"Normal\": 11112328.767123288, \"Boost\": 2778082.191780822}, {\"Date\": \"2022-04-14\", \"Total Prism\": 14246575.342465753, \"Normal\": 11397260.273972603, \"Boost\": 2849315.0684931506}, {\"Date\": \"2022-04-15\", \"Total Prism\": 14602739.726027397, \"Normal\": 11682191.780821918, \"Boost\": 2920547.9452054794}], \"data-94262b46c90531b270d6a3222b15a8d0\": [{\"height\": 8000000, \"text\": \"10%\", \"text_date\": \"2022-04-09\", \"Date\": \"2022-04-10\", \"Total Prism\": 12821917.808219178}, {\"height\": 8000000, \"text\": \"0.03%\", \"text_date\": \"2022-03-14\", \"Date\": \"2022-03-15\", \"Total Prism\": 3561643.835616438}], \"data-fa664b932bf0828d88c85e5a398a88b5\": [{\"height\": 14000000, \"text\": \"Unlock starts\", \"text_date\": \"2022-04-01\", \"Date\": \"2022-04-04\"}]}}, {\"theme\": \"dark\", \"mode\": \"vega-lite\"});\n",
       "</script>"
      ],
      "text/plain": [
       "alt.LayerChart(...)"
      ]
     },
     "execution_count": 172,
     "metadata": {},
     "output_type": "execute_result"
    }
   ],
   "source": [
    "cp = PrismEmittedChartProvider()\n",
    "cp.prism_emitted_chart(pe_dp.prism_emitted, pe_dp.prism_emitted_so_far, \n",
    "                       pe_dp.dates_to_mark, pe_dp.extra_dates_to_mark, '2022-04-15')"
   ]
  },
  {
   "cell_type": "code",
   "execution_count": null,
   "metadata": {},
   "outputs": [],
   "source": []
  },
  {
   "cell_type": "code",
   "execution_count": null,
   "metadata": {},
   "outputs": [],
   "source": []
  }
 ],
 "metadata": {
  "kernelspec": {
   "display_name": "Python 3",
   "language": "python",
   "name": "python3"
  },
  "language_info": {
   "codemirror_mode": {
    "name": "ipython",
    "version": 3
   },
   "file_extension": ".py",
   "mimetype": "text/x-python",
   "name": "python",
   "nbconvert_exporter": "python",
   "pygments_lexer": "ipython3",
   "version": "3.8.2"
  }
 },
 "nbformat": 4,
 "nbformat_minor": 4
}
